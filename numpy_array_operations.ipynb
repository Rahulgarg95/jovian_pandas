{
  "nbformat": 4,
  "nbformat_minor": 0,
  "metadata": {
    "kernelspec": {
      "display_name": "Python 3",
      "language": "python",
      "name": "python3"
    },
    "language_info": {
      "codemirror_mode": {
        "name": "ipython",
        "version": 3
      },
      "file_extension": ".py",
      "mimetype": "text/x-python",
      "name": "python",
      "nbconvert_exporter": "python",
      "pygments_lexer": "ipython3",
      "version": "3.8.5"
    },
    "colab": {
      "name": "numpy-array-operations.ipynb",
      "provenance": [],
      "collapsed_sections": [],
      "include_colab_link": true
    }
  },
  "cells": [
    {
      "cell_type": "markdown",
      "metadata": {
        "id": "view-in-github",
        "colab_type": "text"
      },
      "source": [
        "<a href=\"https://colab.research.google.com/github/Rahulgarg95/jovian_pandas/blob/master/numpy_array_operations.ipynb\" target=\"_parent\"><img src=\"https://colab.research.google.com/assets/colab-badge.svg\" alt=\"Open In Colab\"/></a>"
      ]
    },
    {
      "cell_type": "code",
      "metadata": {
        "id": "vhp80eN8J11T",
        "colab_type": "code",
        "colab": {
          "base_uri": "https://localhost:8080/",
          "height": 52
        },
        "outputId": "18fd18e3-b28b-4e20-e667-df07795c2314"
      },
      "source": [
        "# Jovian Commit Essentials\n",
        "# Please retain and execute this cell without modifying the contents for `jovian.commit` to work\n",
        "!pip install jovian --upgrade -q\n",
        "import jovian\n",
        "jovian.utils.colab.set_colab_file_id('1SJHBYJ_g9FPuCUQX-8lqQlFgc6Yj3KRd')"
      ],
      "execution_count": 1,
      "outputs": [
        {
          "output_type": "stream",
          "text": [
            "\u001b[?25l\r\u001b[K     |█████                           | 10kB 20.1MB/s eta 0:00:01\r\u001b[K     |██████████▏                     | 20kB 1.5MB/s eta 0:00:01\r\u001b[K     |███████████████▏                | 30kB 2.0MB/s eta 0:00:01\r\u001b[K     |████████████████████▎           | 40kB 1.5MB/s eta 0:00:01\r\u001b[K     |█████████████████████████▎      | 51kB 1.8MB/s eta 0:00:01\r\u001b[K     |██████████████████████████████▍ | 61kB 2.0MB/s eta 0:00:01\r\u001b[K     |████████████████████████████████| 71kB 1.6MB/s \n",
            "\u001b[?25h  Building wheel for uuid (setup.py) ... \u001b[?25l\u001b[?25hdone\n"
          ],
          "name": "stdout"
        }
      ]
    },
    {
      "cell_type": "markdown",
      "metadata": {
        "id": "9ax--Zh2J11f",
        "colab_type": "text"
      },
      "source": [
        "> ### **Assignment 2 - Numpy Array Operations** "
      ]
    },
    {
      "cell_type": "code",
      "metadata": {
        "id": "3opn1SV2J11g",
        "colab_type": "code",
        "colab": {}
      },
      "source": [
        "!pip install jovian --upgrade -q"
      ],
      "execution_count": 2,
      "outputs": []
    },
    {
      "cell_type": "code",
      "metadata": {
        "id": "5H8V3l_jJ11o",
        "colab_type": "code",
        "colab": {}
      },
      "source": [
        "import jovian"
      ],
      "execution_count": 3,
      "outputs": []
    },
    {
      "cell_type": "code",
      "metadata": {
        "id": "Q8ravHisJ11w",
        "colab_type": "code",
        "colab": {
          "base_uri": "https://localhost:8080/",
          "height": 87
        },
        "outputId": "52e7467a-7c6e-4313-f6de-bf0e1d9214e6"
      },
      "source": [
        "jovian.commit(project='numpy-array-operations')"
      ],
      "execution_count": 66,
      "outputs": [
        {
          "output_type": "stream",
          "text": [
            "[jovian] Detected Colab notebook...\u001b[0m\n",
            "[jovian] Uploading colab notebook to Jovian...\u001b[0m\n",
            "[jovian] Committed successfully! https://jovian.ml/rahulgarg95/numpy-array-operations\u001b[0m\n"
          ],
          "name": "stdout"
        },
        {
          "output_type": "execute_result",
          "data": {
            "application/vnd.google.colaboratory.intrinsic+json": {
              "type": "string"
            },
            "text/plain": [
              "'https://jovian.ml/rahulgarg95/numpy-array-operations'"
            ]
          },
          "metadata": {
            "tags": []
          },
          "execution_count": 66
        }
      ]
    },
    {
      "cell_type": "markdown",
      "metadata": {
        "id": "QLa3O4bbJ116",
        "colab_type": "text"
      },
      "source": [
        "Let's begin by importing Numpy and listing out the functions covered in this notebook."
      ]
    },
    {
      "cell_type": "code",
      "metadata": {
        "id": "VpwZUCdDJ118",
        "colab_type": "code",
        "colab": {}
      },
      "source": [
        "import numpy as np"
      ],
      "execution_count": 5,
      "outputs": []
    },
    {
      "cell_type": "code",
      "metadata": {
        "id": "8WjkC0OCJ12D",
        "colab_type": "code",
        "colab": {}
      },
      "source": [
        "# List of functions explained \n",
        "function1 = np.transpose\n",
        "function2 = np.arange\n",
        "function3 = np.matmul\n",
        "function4 = np.add\n",
        "function5 = np.reshape"
      ],
      "execution_count": 64,
      "outputs": []
    },
    {
      "cell_type": "markdown",
      "metadata": {
        "id": "QK6ZiGyaJ12J",
        "colab_type": "text"
      },
      "source": [
        "## Function 1 - np.transpose\n",
        "\n",
        "The above function simply converts row to columns and vice versa. It has no effect on 1-D arrays."
      ]
    },
    {
      "cell_type": "code",
      "metadata": {
        "id": "D4e5dHVzJ12K",
        "colab_type": "code",
        "colab": {
          "base_uri": "https://localhost:8080/",
          "height": 173
        },
        "outputId": "a840eec6-adfa-4c21-c9aa-2781b17be955"
      },
      "source": [
        "# Example 1 - working\n",
        "arr1 = np.arange(4).reshape(2,2)\n",
        "print(arr1)\n",
        "\n",
        "print('Shape Before Transpose', arr1.shape)\n",
        "\n",
        "trans_arr=np.transpose(arr1)\n",
        "print('\\nTransposed Array\\n')\n",
        "print(trans_arr)\n",
        "print('Shape After Transpose', trans_arr.shape)"
      ],
      "execution_count": 7,
      "outputs": [
        {
          "output_type": "stream",
          "text": [
            "[[0 1]\n",
            " [2 3]]\n",
            "Shape Before Transpose (2, 2)\n",
            "\n",
            "Transposed Array\n",
            "\n",
            "[[0 2]\n",
            " [1 3]]\n",
            "Shape After Transpose (2, 2)\n"
          ],
          "name": "stdout"
        }
      ]
    },
    {
      "cell_type": "markdown",
      "metadata": {
        "id": "lv7Nsyw-J12R",
        "colab_type": "text"
      },
      "source": [
        "So in the above we have a 2*2 matrix. Once the transpose function is applied first row [1,2] becomes first column and vice versa. The same is observed for second row and column."
      ]
    },
    {
      "cell_type": "code",
      "metadata": {
        "id": "evkY-fXPJ12R",
        "colab_type": "code",
        "colab": {
          "base_uri": "https://localhost:8080/",
          "height": 69
        },
        "outputId": "5e211da0-113d-422f-cc07-0660c3141d91"
      },
      "source": [
        "# Example 2 - working\n",
        "arr2=np.array([1,2,3,4,5,6])\n",
        "\n",
        "print(arr2.shape)\n",
        "\n",
        "trans_arr=np.transpose(arr2)\n",
        "\n",
        "print(trans_arr)\n",
        "\n",
        "print(trans_arr.shape)"
      ],
      "execution_count": 8,
      "outputs": [
        {
          "output_type": "stream",
          "text": [
            "(6,)\n",
            "[1 2 3 4 5 6]\n",
            "(6,)\n"
          ],
          "name": "stdout"
        }
      ]
    },
    {
      "cell_type": "markdown",
      "metadata": {
        "id": "txX_1qo4J12V",
        "colab_type": "text"
      },
      "source": [
        "The above example illustrates transpose effect on 1-D arrays. The shape remains same which seems logical."
      ]
    },
    {
      "cell_type": "code",
      "metadata": {
        "id": "UveUL9yxJ12W",
        "colab_type": "code",
        "colab": {
          "base_uri": "https://localhost:8080/",
          "height": 225
        },
        "outputId": "a54e09e2-3325-42ce-e374-55009c71312a"
      },
      "source": [
        "# Example 3 - working\n",
        "arr1 = np.arange(6).reshape(3,2)\n",
        "print(arr1)\n",
        "\n",
        "print('Shape Before Transpose', arr1.shape)\n",
        "\n",
        "trans_arr=np.transpose(arr1)\n",
        "print('\\nTransposed Array\\n')\n",
        "print(trans_arr)\n",
        "print('Shape After Transpose', trans_arr.shape)\n",
        "\n",
        "print(arr1.T)"
      ],
      "execution_count": 9,
      "outputs": [
        {
          "output_type": "stream",
          "text": [
            "[[0 1]\n",
            " [2 3]\n",
            " [4 5]]\n",
            "Shape Before Transpose (3, 2)\n",
            "\n",
            "Transposed Array\n",
            "\n",
            "[[0 2 4]\n",
            " [1 3 5]]\n",
            "Shape After Transpose (2, 3)\n",
            "[[0 2 4]\n",
            " [1 3 5]]\n"
          ],
          "name": "stdout"
        }
      ]
    },
    {
      "cell_type": "markdown",
      "metadata": {
        "id": "9fLpKPaEJ12a",
        "colab_type": "text"
      },
      "source": [
        "The above example clearly illustrates transpose function reverses the shape of matrix. We have also demonstrated now to transpose a matrix using .T"
      ]
    },
    {
      "cell_type": "markdown",
      "metadata": {
        "id": "QleZ7bpqJ12b",
        "colab_type": "text"
      },
      "source": [
        "The main need of transposing a matrix comes when multiplying multiple arrays and their dimension do not align, will explain in detail with function 3."
      ]
    },
    {
      "cell_type": "code",
      "metadata": {
        "id": "frSbqUvfJ12b",
        "colab_type": "code",
        "colab": {
          "base_uri": "https://localhost:8080/",
          "height": 87
        },
        "outputId": "ab78c474-7cf6-492f-98da-58ccf9975265"
      },
      "source": [
        "jovian.commit(project='numpy-array-operations')"
      ],
      "execution_count": 10,
      "outputs": [
        {
          "output_type": "stream",
          "text": [
            "[jovian] Detected Colab notebook...\u001b[0m\n",
            "[jovian] Uploading colab notebook to Jovian...\u001b[0m\n",
            "[jovian] Committed successfully! https://jovian.ml/rahulgarg95/numpy-array-operations\u001b[0m\n"
          ],
          "name": "stdout"
        },
        {
          "output_type": "execute_result",
          "data": {
            "application/vnd.google.colaboratory.intrinsic+json": {
              "type": "string"
            },
            "text/plain": [
              "'https://jovian.ml/rahulgarg95/numpy-array-operations'"
            ]
          },
          "metadata": {
            "tags": []
          },
          "execution_count": 10
        }
      ]
    },
    {
      "cell_type": "markdown",
      "metadata": {
        "id": "1VeEs6RHJ12f",
        "colab_type": "text"
      },
      "source": [
        "## Function 2 - np.arange\n",
        "\n",
        "Returns an array with evenly spaced elements as per interval."
      ]
    },
    {
      "cell_type": "code",
      "metadata": {
        "id": "TEEFeXJOJ12g",
        "colab_type": "code",
        "colab": {
          "base_uri": "https://localhost:8080/",
          "height": 52
        },
        "outputId": "280c1cd9-3c39-486c-bb06-6edeb56beaee"
      },
      "source": [
        "# Example 1 - working\n",
        "arr1=np.arange(4,10)\n",
        "\n",
        "print(arr1)\n",
        "\n",
        "print(arr1.shape)"
      ],
      "execution_count": 11,
      "outputs": [
        {
          "output_type": "stream",
          "text": [
            "[4 5 6 7 8 9]\n",
            "(6,)\n"
          ],
          "name": "stdout"
        }
      ]
    },
    {
      "cell_type": "markdown",
      "metadata": {
        "id": "LlLeVyAdJ12k",
        "colab_type": "text"
      },
      "source": [
        "The above example illustrates classic use of numpy arange function which prints elements in a list in the specified range.The first argument is start counter(implicit) and second arg is end counter(explicit)."
      ]
    },
    {
      "cell_type": "code",
      "metadata": {
        "id": "joTRitfmJ12l",
        "colab_type": "code",
        "colab": {
          "base_uri": "https://localhost:8080/",
          "height": 69
        },
        "outputId": "0c8e9638-6b13-4bf1-8a90-9271264068c5"
      },
      "source": [
        "# Example 2 - working\n",
        "arr2=np.arange(start=1,stop=54,step=5)\n",
        "\n",
        "print(arr2)\n",
        "\n",
        "print('Array Length => ',len(arr2))\n",
        "print('Array Shape => ',arr2.shape)"
      ],
      "execution_count": 12,
      "outputs": [
        {
          "output_type": "stream",
          "text": [
            "[ 1  6 11 16 21 26 31 36 41 46 51]\n",
            "Array Length =>  11\n",
            "Array Shape =>  (11,)\n"
          ],
          "name": "stdout"
        }
      ]
    },
    {
      "cell_type": "markdown",
      "metadata": {
        "id": "FLENXPFTJ12n",
        "colab_type": "text"
      },
      "source": [
        "The above example takes example 1 a little further with use of step argument.The step argument tells the function to print the next element by adding start val with step value."
      ]
    },
    {
      "cell_type": "code",
      "metadata": {
        "id": "O1ZDe3UmJ12o",
        "colab_type": "code",
        "colab": {
          "base_uri": "https://localhost:8080/",
          "height": 35
        },
        "outputId": "d3574900-6b13-4ff2-f334-ff36170c0692"
      },
      "source": [
        "# Example 3 - breaking (to illustrate when it breaks)\n",
        "arr3=np.arange(10,10.7,0.1)\n",
        "\n",
        "print(arr3.tolist())"
      ],
      "execution_count": 13,
      "outputs": [
        {
          "output_type": "stream",
          "text": [
            "[10.0, 10.1, 10.2, 10.299999999999999, 10.399999999999999, 10.499999999999998, 10.599999999999998]\n"
          ],
          "name": "stdout"
        }
      ]
    },
    {
      "cell_type": "markdown",
      "metadata": {
        "id": "hWa7xM_iJ12r",
        "colab_type": "text"
      },
      "source": [
        "np.arange function might give inconsistent results with floating point numbers better to use linespace in such scenarios."
      ]
    },
    {
      "cell_type": "markdown",
      "metadata": {
        "id": "ccQuOl3VJ12s",
        "colab_type": "text"
      },
      "source": [
        "The above functions is used when you want a sequence of numbers."
      ]
    },
    {
      "cell_type": "code",
      "metadata": {
        "id": "QTMV5_maJ12s",
        "colab_type": "code",
        "colab": {
          "base_uri": "https://localhost:8080/",
          "height": 87
        },
        "outputId": "79bfd335-1148-443d-cb1e-f452d8b0e647"
      },
      "source": [
        "jovian.commit(project='numpy-array-operations')"
      ],
      "execution_count": 14,
      "outputs": [
        {
          "output_type": "stream",
          "text": [
            "[jovian] Detected Colab notebook...\u001b[0m\n",
            "[jovian] Uploading colab notebook to Jovian...\u001b[0m\n",
            "[jovian] Committed successfully! https://jovian.ml/rahulgarg95/numpy-array-operations\u001b[0m\n"
          ],
          "name": "stdout"
        },
        {
          "output_type": "execute_result",
          "data": {
            "application/vnd.google.colaboratory.intrinsic+json": {
              "type": "string"
            },
            "text/plain": [
              "'https://jovian.ml/rahulgarg95/numpy-array-operations'"
            ]
          },
          "metadata": {
            "tags": []
          },
          "execution_count": 14
        }
      ]
    },
    {
      "cell_type": "markdown",
      "metadata": {
        "id": "dZoCBkCcJ12v",
        "colab_type": "text"
      },
      "source": [
        "## Function 3 - np.matmul\n",
        "\n",
        "It returns multiplication of two matrix."
      ]
    },
    {
      "cell_type": "code",
      "metadata": {
        "id": "zpnEyXblJ12w",
        "colab_type": "code",
        "colab": {
          "base_uri": "https://localhost:8080/",
          "height": 260
        },
        "outputId": "199887c4-7385-46f9-da22-17ce2aabbcfe"
      },
      "source": [
        "# Example 1 - working\n",
        "arr1=np.arange(1,10).reshape(3,3)\n",
        "print('Array 1: \\n',arr1)\n",
        "\n",
        "arr2=np.arange(5,50,5).reshape(3,3)\n",
        "print('\\nArray 2: \\n',arr2)\n",
        "\n",
        "arr3=np.matmul(arr1,arr2)\n",
        "print('\\nResult Matrix: \\n', arr3)"
      ],
      "execution_count": 15,
      "outputs": [
        {
          "output_type": "stream",
          "text": [
            "Array 1: \n",
            " [[1 2 3]\n",
            " [4 5 6]\n",
            " [7 8 9]]\n",
            "\n",
            "Array 2: \n",
            " [[ 5 10 15]\n",
            " [20 25 30]\n",
            " [35 40 45]]\n",
            "\n",
            "Result Matrix: \n",
            " [[150 180 210]\n",
            " [330 405 480]\n",
            " [510 630 750]]\n"
          ],
          "name": "stdout"
        }
      ]
    },
    {
      "cell_type": "markdown",
      "metadata": {
        "id": "_xleKjUmJ12z",
        "colab_type": "text"
      },
      "source": [
        "The above example illustrates matrix multiplication of (3x3) matrix.\n",
        "The first row is multiplied with first column and the sum of the same is put at index(0,0) and similiarly for other elements."
      ]
    },
    {
      "cell_type": "code",
      "metadata": {
        "id": "UE7BDl_YJ12z",
        "colab_type": "code",
        "colab": {
          "base_uri": "https://localhost:8080/",
          "height": 243
        },
        "outputId": "e6e0b69c-bd2a-49e5-ab64-4c449419c62b"
      },
      "source": [
        "# Example 2 - working\n",
        "arr1=np.arange(1,7).reshape(3,2)\n",
        "print('Array 1: \\n',arr1)\n",
        "\n",
        "arr2=np.arange(1,13,2).reshape(2,3)\n",
        "print('\\nArray 2: \\n',arr2)\n",
        "\n",
        "print('\\nResultant Array:')\n",
        "print(np.matmul(arr1,arr2))"
      ],
      "execution_count": 16,
      "outputs": [
        {
          "output_type": "stream",
          "text": [
            "Array 1: \n",
            " [[1 2]\n",
            " [3 4]\n",
            " [5 6]]\n",
            "\n",
            "Array 2: \n",
            " [[ 1  3  5]\n",
            " [ 7  9 11]]\n",
            "\n",
            "Resultant Array:\n",
            "[[15 21 27]\n",
            " [31 45 59]\n",
            " [47 69 91]]\n"
          ],
          "name": "stdout"
        }
      ]
    },
    {
      "cell_type": "markdown",
      "metadata": {
        "id": "fEivQBbXJ122",
        "colab_type": "text"
      },
      "source": [
        "The above example shows multiplication of two arrays of different shapes."
      ]
    },
    {
      "cell_type": "code",
      "metadata": {
        "id": "dDevyH_oJ123",
        "colab_type": "code",
        "colab": {
          "base_uri": "https://localhost:8080/",
          "height": 391
        },
        "outputId": "033e18bb-9e47-4a79-82c6-6ff105deeeea"
      },
      "source": [
        "# Example 3 - breaking (to illustrate when it breaks)\n",
        "arr1=np.arange(1,7).reshape(3,2)\n",
        "print('Array 1: \\n',arr1)\n",
        "\n",
        "arr2=np.arange(1,13,2).reshape(3,2)\n",
        "print('\\nArray 2: \\n',arr2)\n",
        "\n",
        "print('\\nResultant Array:')\n",
        "print(np.matmul(arr1,arr2))"
      ],
      "execution_count": 17,
      "outputs": [
        {
          "output_type": "stream",
          "text": [
            "Array 1: \n",
            " [[1 2]\n",
            " [3 4]\n",
            " [5 6]]\n",
            "\n",
            "Array 2: \n",
            " [[ 1  3]\n",
            " [ 5  7]\n",
            " [ 9 11]]\n",
            "\n",
            "Resultant Array:\n"
          ],
          "name": "stdout"
        },
        {
          "output_type": "error",
          "ename": "ValueError",
          "evalue": "ignored",
          "traceback": [
            "\u001b[0;31m---------------------------------------------------------------------------\u001b[0m",
            "\u001b[0;31mValueError\u001b[0m                                Traceback (most recent call last)",
            "\u001b[0;32m<ipython-input-17-789423252973>\u001b[0m in \u001b[0;36m<module>\u001b[0;34m()\u001b[0m\n\u001b[1;32m      7\u001b[0m \u001b[0;34m\u001b[0m\u001b[0m\n\u001b[1;32m      8\u001b[0m \u001b[0mprint\u001b[0m\u001b[0;34m(\u001b[0m\u001b[0;34m'\\nResultant Array:'\u001b[0m\u001b[0;34m)\u001b[0m\u001b[0;34m\u001b[0m\u001b[0;34m\u001b[0m\u001b[0m\n\u001b[0;32m----> 9\u001b[0;31m \u001b[0mprint\u001b[0m\u001b[0;34m(\u001b[0m\u001b[0mnp\u001b[0m\u001b[0;34m.\u001b[0m\u001b[0mmatmul\u001b[0m\u001b[0;34m(\u001b[0m\u001b[0marr1\u001b[0m\u001b[0;34m,\u001b[0m\u001b[0marr2\u001b[0m\u001b[0;34m)\u001b[0m\u001b[0;34m)\u001b[0m\u001b[0;34m\u001b[0m\u001b[0;34m\u001b[0m\u001b[0m\n\u001b[0m",
            "\u001b[0;31mValueError\u001b[0m: matmul: Input operand 1 has a mismatch in its core dimension 0, with gufunc signature (n?,k),(k,m?)->(n?,m?) (size 3 is different from 2)"
          ]
        }
      ]
    },
    {
      "cell_type": "markdown",
      "metadata": {
        "id": "2nPYg_qZJ127",
        "colab_type": "text"
      },
      "source": [
        "The above examples illustrates the vulnebility of matmul function.\n",
        "Shape of arr1 = (3,2) Shape of arr2 = (3,2). For multiplication to happen arr1 column len should match arr2 row len (a,b) (c,d) => b==c. Hence we need to transpose the matrix(arr2) to get the desired output."
      ]
    },
    {
      "cell_type": "markdown",
      "metadata": {
        "id": "oUNd6PLeJ127",
        "colab_type": "text"
      },
      "source": [
        "The matmul functions is used deeply in neutral networks as multiple matrix are involved as hidden layers."
      ]
    },
    {
      "cell_type": "code",
      "metadata": {
        "id": "aSKrykg-J128",
        "colab_type": "code",
        "colab": {
          "base_uri": "https://localhost:8080/",
          "height": 87
        },
        "outputId": "16136c3f-18e4-4481-c992-ba71e3515798"
      },
      "source": [
        "jovian.commit(project='numpy-array-operations')"
      ],
      "execution_count": 18,
      "outputs": [
        {
          "output_type": "stream",
          "text": [
            "[jovian] Detected Colab notebook...\u001b[0m\n",
            "[jovian] Uploading colab notebook to Jovian...\u001b[0m\n",
            "[jovian] Committed successfully! https://jovian.ml/rahulgarg95/numpy-array-operations\u001b[0m\n"
          ],
          "name": "stdout"
        },
        {
          "output_type": "execute_result",
          "data": {
            "application/vnd.google.colaboratory.intrinsic+json": {
              "type": "string"
            },
            "text/plain": [
              "'https://jovian.ml/rahulgarg95/numpy-array-operations'"
            ]
          },
          "metadata": {
            "tags": []
          },
          "execution_count": 18
        }
      ]
    },
    {
      "cell_type": "markdown",
      "metadata": {
        "id": "asNa39P4J13M",
        "colab_type": "text"
      },
      "source": [
        "## Function 4 - np.add\n",
        "\n",
        "The above function is used when we want two compute the addition of two matrix."
      ]
    },
    {
      "cell_type": "code",
      "metadata": {
        "id": "blYXuX2QJ13M",
        "colab_type": "code",
        "colab": {
          "base_uri": "https://localhost:8080/",
          "height": 260
        },
        "outputId": "7ff426b4-9099-4838-ed10-136cc9737106"
      },
      "source": [
        "# Example 1 - working\n",
        "arr1=np.arange(1,10).reshape(3,3)\n",
        "print('Array 1: \\n',arr1)\n",
        "\n",
        "arr2=np.arange(4,46,5).reshape(3,3)\n",
        "print('\\nArray 2: \\n', arr2)\n",
        "\n",
        "result_arr=np.add(arr1,arr2)\n",
        "print('\\nResultant Array: \\n', result_arr)"
      ],
      "execution_count": 25,
      "outputs": [
        {
          "output_type": "stream",
          "text": [
            "Array 1: \n",
            " [[1 2 3]\n",
            " [4 5 6]\n",
            " [7 8 9]]\n",
            "\n",
            "Array 2: \n",
            " [[ 4  9 14]\n",
            " [19 24 29]\n",
            " [34 39 44]]\n",
            "\n",
            "Resultant Array: \n",
            " [[ 5 11 17]\n",
            " [23 29 35]\n",
            " [41 47 53]]\n"
          ],
          "name": "stdout"
        }
      ]
    },
    {
      "cell_type": "markdown",
      "metadata": {
        "id": "Qhw6qa4dJ13P",
        "colab_type": "text"
      },
      "source": [
        "The above example illustrates the classic addition of two matrix have same shape.The element of arr1[i][j] is added to corresponding el of arr2[i][j], for same values of i & j."
      ]
    },
    {
      "cell_type": "code",
      "metadata": {
        "id": "INyiSfN6J13Q",
        "colab_type": "code",
        "colab": {
          "base_uri": "https://localhost:8080/",
          "height": 225
        },
        "outputId": "bd8e49ee-c3ad-47f0-d309-934ea53cc9a4"
      },
      "source": [
        "# Example 2 - working\n",
        "arr1=np.arange(1,10).reshape(3,3)\n",
        "print('Array 1: \\n',arr1)\n",
        "\n",
        "arr2=np.arange(5,16,5).reshape(1,3)\n",
        "print('\\nArray 2: \\n', arr2)\n",
        "\n",
        "result_arr=np.add(arr1,arr2)\n",
        "print('\\nResultant Array: \\n', result_arr)"
      ],
      "execution_count": 29,
      "outputs": [
        {
          "output_type": "stream",
          "text": [
            "Array 1: \n",
            " [[1 2 3]\n",
            " [4 5 6]\n",
            " [7 8 9]]\n",
            "\n",
            "Array 2: \n",
            " [[ 5 10 15]]\n",
            "\n",
            "Resultant Array: \n",
            " [[ 6 12 18]\n",
            " [ 9 15 21]\n",
            " [12 18 24]]\n"
          ],
          "name": "stdout"
        }
      ]
    },
    {
      "cell_type": "markdown",
      "metadata": {
        "id": "MUTIINiYJ13S",
        "colab_type": "text"
      },
      "source": [
        "The above example illustrates use of broadcasting principle used in np.add function.Here arr2 is of size (1,3) and arr1 is of size (3,3) so to make arr2 of size (3,3) first row is repeated three times to create (3,3) matrix and then addition happens."
      ]
    },
    {
      "cell_type": "code",
      "metadata": {
        "id": "RVVFFxmnJ13T",
        "colab_type": "code",
        "colab": {
          "base_uri": "https://localhost:8080/",
          "height": 339
        },
        "outputId": "3e9d0e4b-ceae-478f-d0b3-93d7d1c64094"
      },
      "source": [
        "# Example 3 - breaking (to illustrate when it breaks)\n",
        "arr1=np.arange(1,7).reshape(3,2)\n",
        "#arr1=np.array([10,20,30]).reshape(3,1)\n",
        "print('Array 1: \\n',arr1)\n",
        "\n",
        "#arr2=np.arange(5,61,5).reshape(3)\n",
        "arr2=np.array([1,2,3])\n",
        "#arr2 = arr2[:, np.newaxis]\n",
        "print('\\nArray 2: \\n', arr2)\n",
        "\n",
        "result_arr=np.add(arr2,arr1)\n",
        "print('\\nResultant Array: \\n', result_arr)"
      ],
      "execution_count": 53,
      "outputs": [
        {
          "output_type": "stream",
          "text": [
            "Array 1: \n",
            " [[1 2]\n",
            " [3 4]\n",
            " [5 6]]\n",
            "\n",
            "Array 2: \n",
            " [1 2 3]\n"
          ],
          "name": "stdout"
        },
        {
          "output_type": "error",
          "ename": "ValueError",
          "evalue": "ignored",
          "traceback": [
            "\u001b[0;31m---------------------------------------------------------------------------\u001b[0m",
            "\u001b[0;31mValueError\u001b[0m                                Traceback (most recent call last)",
            "\u001b[0;32m<ipython-input-53-729e0578c20c>\u001b[0m in \u001b[0;36m<module>\u001b[0;34m()\u001b[0m\n\u001b[1;32m      9\u001b[0m \u001b[0mprint\u001b[0m\u001b[0;34m(\u001b[0m\u001b[0;34m'\\nArray 2: \\n'\u001b[0m\u001b[0;34m,\u001b[0m \u001b[0marr2\u001b[0m\u001b[0;34m)\u001b[0m\u001b[0;34m\u001b[0m\u001b[0;34m\u001b[0m\u001b[0m\n\u001b[1;32m     10\u001b[0m \u001b[0;34m\u001b[0m\u001b[0m\n\u001b[0;32m---> 11\u001b[0;31m \u001b[0mresult_arr\u001b[0m\u001b[0;34m=\u001b[0m\u001b[0mnp\u001b[0m\u001b[0;34m.\u001b[0m\u001b[0madd\u001b[0m\u001b[0;34m(\u001b[0m\u001b[0marr2\u001b[0m\u001b[0;34m,\u001b[0m\u001b[0marr1\u001b[0m\u001b[0;34m)\u001b[0m\u001b[0;34m\u001b[0m\u001b[0;34m\u001b[0m\u001b[0m\n\u001b[0m\u001b[1;32m     12\u001b[0m \u001b[0mprint\u001b[0m\u001b[0;34m(\u001b[0m\u001b[0;34m'\\nResultant Array: \\n'\u001b[0m\u001b[0;34m,\u001b[0m \u001b[0mresult_arr\u001b[0m\u001b[0;34m)\u001b[0m\u001b[0;34m\u001b[0m\u001b[0;34m\u001b[0m\u001b[0m\n",
            "\u001b[0;31mValueError\u001b[0m: operands could not be broadcast together with shapes (3,) (3,2) "
          ]
        }
      ]
    },
    {
      "cell_type": "markdown",
      "metadata": {
        "id": "f-Rvr4zWJ13V",
        "colab_type": "text"
      },
      "source": [
        "The above example 3 illustrates where broadcasting does not work. As arr 2 is a vector hence it cannot to broadcasted accordingly. Hence we need to add new axis the code is commented. Once axis is added the new shape of arr2 is (3,1) which can be easily broadcasted and np.add works fine then."
      ]
    },
    {
      "cell_type": "markdown",
      "metadata": {
        "id": "rr0r4F8XJ13W",
        "colab_type": "text"
      },
      "source": [
        "The matrix addition is quite useful while addition of bais to existing matrix in neutral network."
      ]
    },
    {
      "cell_type": "code",
      "metadata": {
        "id": "wu4QdG9jJ13W",
        "colab_type": "code",
        "colab": {
          "base_uri": "https://localhost:8080/",
          "height": 87
        },
        "outputId": "67628e90-f6d2-4787-e939-7a596c2ca5c7"
      },
      "source": [
        "jovian.commit(project='numpy-array-operations')"
      ],
      "execution_count": 54,
      "outputs": [
        {
          "output_type": "stream",
          "text": [
            "[jovian] Detected Colab notebook...\u001b[0m\n",
            "[jovian] Uploading colab notebook to Jovian...\u001b[0m\n",
            "[jovian] Committed successfully! https://jovian.ml/rahulgarg95/numpy-array-operations\u001b[0m\n"
          ],
          "name": "stdout"
        },
        {
          "output_type": "execute_result",
          "data": {
            "application/vnd.google.colaboratory.intrinsic+json": {
              "type": "string"
            },
            "text/plain": [
              "'https://jovian.ml/rahulgarg95/numpy-array-operations'"
            ]
          },
          "metadata": {
            "tags": []
          },
          "execution_count": 54
        }
      ]
    },
    {
      "cell_type": "markdown",
      "metadata": {
        "id": "qxAhojYvJ13Z",
        "colab_type": "text"
      },
      "source": [
        "## Function 5 - np.reshape\n",
        "\n",
        "np,.reshape is quite useful to get a matrix with exact deminesions required when a bunch of numbers are present in an 1-D array or list to perform a set of operations."
      ]
    },
    {
      "cell_type": "code",
      "metadata": {
        "id": "kjt2Z8L_J13a",
        "colab_type": "code",
        "colab": {}
      },
      "source": [
        "# Example 1 - working\n",
        "arr1=np.arange(1,7).reshape(3,2)"
      ],
      "execution_count": 55,
      "outputs": []
    },
    {
      "cell_type": "markdown",
      "metadata": {
        "id": "BmOf4iT6J13c",
        "colab_type": "text"
      },
      "source": [
        "The above example gives a basic reshape example of conveting a 1-D vector to 3x2 matrix."
      ]
    },
    {
      "cell_type": "code",
      "metadata": {
        "id": "NplqVZH_J13d",
        "colab_type": "code",
        "colab": {
          "base_uri": "https://localhost:8080/",
          "height": 173
        },
        "outputId": "69d9bbfb-b172-4280-af16-e43e2a25d480"
      },
      "source": [
        "# Example 2 - working\n",
        "a=np.array([[1,2,3],[4,5,6]])\n",
        "print(a.shape,'\\n',a)\n",
        "\n",
        "b = a.ravel()\n",
        "print('\\nFlattened Array: ')\n",
        "print(b)\n",
        "\n",
        "b = b.reshape((2, 3))\n",
        "print('Reshaped array: \\n',b)"
      ],
      "execution_count": 61,
      "outputs": [
        {
          "output_type": "stream",
          "text": [
            "(2, 3) \n",
            " [[1 2 3]\n",
            " [4 5 6]]\n",
            "\n",
            "Flattened Array: \n",
            "[1 2 3 4 5 6]\n",
            "Reshaped array: \n",
            " [[1 2 3]\n",
            " [4 5 6]]\n"
          ],
          "name": "stdout"
        }
      ]
    },
    {
      "cell_type": "markdown",
      "metadata": {
        "id": "w-56bSejJ13g",
        "colab_type": "text"
      },
      "source": [
        "Example 2 illustrates that reshape is basically an inverse operation to array flattening."
      ]
    },
    {
      "cell_type": "code",
      "metadata": {
        "id": "biNGHze3J13g",
        "colab_type": "code",
        "colab": {
          "base_uri": "https://localhost:8080/",
          "height": 69
        },
        "outputId": "dce9dd5d-ad0e-4b23-b49c-fa152b75cefb"
      },
      "source": [
        "# Example 3 - breaking (to illustrate when it breaks)\n",
        "a = np.zeros((3, 2))\n",
        "b = a.T.reshape(3*2)\n",
        "b[0] = 50\n",
        "print(a)"
      ],
      "execution_count": 62,
      "outputs": [
        {
          "output_type": "stream",
          "text": [
            "[[0. 0.]\n",
            " [0. 0.]\n",
            " [0. 0.]]\n"
          ],
          "name": "stdout"
        }
      ]
    },
    {
      "cell_type": "markdown",
      "metadata": {
        "id": "i98MFMAvJ13j",
        "colab_type": "text"
      },
      "source": [
        "The above example shows a corner case of reshape where it demonstrates during reshape a seperated copy is created in some cases where other operations may not effect the initial array as desired in the above example."
      ]
    },
    {
      "cell_type": "markdown",
      "metadata": {
        "id": "Dr5TUI0DJ13k",
        "colab_type": "text"
      },
      "source": [
        "One of the most used fucntionality while performing operations between multiple matrix."
      ]
    },
    {
      "cell_type": "code",
      "metadata": {
        "id": "F5mgrOf8J13k",
        "colab_type": "code",
        "colab": {
          "base_uri": "https://localhost:8080/",
          "height": 87
        },
        "outputId": "5f25db26-2145-4627-da04-a35a5b3be83f"
      },
      "source": [
        "jovian.commit(project='numpy-array-operations')"
      ],
      "execution_count": 63,
      "outputs": [
        {
          "output_type": "stream",
          "text": [
            "[jovian] Detected Colab notebook...\u001b[0m\n",
            "[jovian] Uploading colab notebook to Jovian...\u001b[0m\n",
            "[jovian] Committed successfully! https://jovian.ml/rahulgarg95/numpy-array-operations\u001b[0m\n"
          ],
          "name": "stdout"
        },
        {
          "output_type": "execute_result",
          "data": {
            "application/vnd.google.colaboratory.intrinsic+json": {
              "type": "string"
            },
            "text/plain": [
              "'https://jovian.ml/rahulgarg95/numpy-array-operations'"
            ]
          },
          "metadata": {
            "tags": []
          },
          "execution_count": 63
        }
      ]
    },
    {
      "cell_type": "markdown",
      "metadata": {
        "id": "77_zIorlJ13o",
        "colab_type": "text"
      },
      "source": [
        "## Conclusion\n",
        "\n",
        "We have demonstrated 5 common functions used using matrix operations. Numpy array operations provides faster computing than python lists and other functions like mean,median,max,min are used in data analysis. Funtions like add, matmul find more use in deep learning and neural networks and the whole numpy module becomes a ground for further pandas understanding and operations."
      ]
    },
    {
      "cell_type": "markdown",
      "metadata": {
        "id": "ssUrEr53J13o",
        "colab_type": "text"
      },
      "source": [
        "## Reference Links\n",
        "Provide links to your references and other interesting articles about Numpy arrays:\n",
        "* Numpy official tutorial : https://numpy.org/doc/stable/user/quickstart.html\n",
        "* Tutorial Point : https://www.tutorialspoint.com/numpy/index.htm"
      ]
    },
    {
      "cell_type": "code",
      "metadata": {
        "id": "TkvfC6xEJ13p",
        "colab_type": "code",
        "colab": {
          "base_uri": "https://localhost:8080/",
          "height": 87
        },
        "outputId": "d6fa76ee-b9df-4db2-de73-9cbd94835117"
      },
      "source": [
        "jovian.commit(project='numpy-array-operations')"
      ],
      "execution_count": 67,
      "outputs": [
        {
          "output_type": "stream",
          "text": [
            "[jovian] Detected Colab notebook...\u001b[0m\n",
            "[jovian] Uploading colab notebook to Jovian...\u001b[0m\n",
            "[jovian] Committed successfully! https://jovian.ml/rahulgarg95/numpy-array-operations\u001b[0m\n"
          ],
          "name": "stdout"
        },
        {
          "output_type": "execute_result",
          "data": {
            "application/vnd.google.colaboratory.intrinsic+json": {
              "type": "string"
            },
            "text/plain": [
              "'https://jovian.ml/rahulgarg95/numpy-array-operations'"
            ]
          },
          "metadata": {
            "tags": []
          },
          "execution_count": 67
        }
      ]
    },
    {
      "cell_type": "code",
      "metadata": {
        "id": "h6jE1lsJJ13r",
        "colab_type": "code",
        "colab": {}
      },
      "source": [
        ""
      ],
      "execution_count": null,
      "outputs": []
    }
  ]
}