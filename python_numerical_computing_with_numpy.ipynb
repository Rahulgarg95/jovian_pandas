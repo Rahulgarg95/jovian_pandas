{
  "nbformat": 4,
  "nbformat_minor": 0,
  "metadata": {
    "kernelspec": {
      "display_name": "Python 3",
      "language": "python",
      "name": "python3"
    },
    "language_info": {
      "codemirror_mode": {
        "name": "ipython",
        "version": 3
      },
      "file_extension": ".py",
      "mimetype": "text/x-python",
      "name": "python",
      "nbconvert_exporter": "python",
      "pygments_lexer": "ipython3",
      "version": "3.8.5"
    },
    "colab": {
      "name": "python-numerical-computing-with-numpy.ipynb",
      "provenance": [],
      "include_colab_link": true
    }
  },
  "cells": [
    {
      "cell_type": "markdown",
      "metadata": {
        "id": "view-in-github",
        "colab_type": "text"
      },
      "source": [
        "<a href=\"https://colab.research.google.com/github/Rahulgarg95/jovian_pandas/blob/master/python_numerical_computing_with_numpy.ipynb\" target=\"_parent\"><img src=\"https://colab.research.google.com/assets/colab-badge.svg\" alt=\"Open In Colab\"/></a>"
      ]
    },
    {
      "cell_type": "code",
      "metadata": {
        "id": "85BuFizr8hy_",
        "colab_type": "code",
        "colab": {
          "base_uri": "https://localhost:8080/",
          "height": 52
        },
        "outputId": "1919d90c-6b99-48f8-ef3b-903a192814d7"
      },
      "source": [
        "# Jovian Commit Essentials\n",
        "# Please retain and execute this cell without modifying the contents for `jovian.commit` to work\n",
        "!pip install jovian --upgrade -q\n",
        "import jovian\n",
        "jovian.utils.colab.set_colab_file_id('1l-2H-6FKp8xNcUGg71YAnbfTpvRy3wb3')"
      ],
      "execution_count": 1,
      "outputs": [
        {
          "output_type": "stream",
          "text": [
            "\u001b[?25l\r\u001b[K     |█████                           | 10kB 23.2MB/s eta 0:00:01\r\u001b[K     |██████████▏                     | 20kB 3.2MB/s eta 0:00:01\r\u001b[K     |███████████████▏                | 30kB 4.2MB/s eta 0:00:01\r\u001b[K     |████████████████████▎           | 40kB 4.4MB/s eta 0:00:01\r\u001b[K     |█████████████████████████▎      | 51kB 3.6MB/s eta 0:00:01\r\u001b[K     |██████████████████████████████▍ | 61kB 4.0MB/s eta 0:00:01\r\u001b[K     |████████████████████████████████| 71kB 3.1MB/s \n",
            "\u001b[?25h  Building wheel for uuid (setup.py) ... \u001b[?25l\u001b[?25hdone\n"
          ],
          "name": "stdout"
        }
      ]
    },
    {
      "cell_type": "markdown",
      "metadata": {
        "id": "3NtddMYa8hzG",
        "colab_type": "text"
      },
      "source": [
        "# Numerical Computing with Python and Numpy\n",
        "\n",
        "### Part 6 of \"Data Analysis with Python: Zero to Pandas\"\n",
        "\n",
        "This tutorial is the sixth in a series on introduction to programming and data analysis using the Python language. These tutorials take a practical coding-based approach, and the best way to learn the material is to execute the code and experiment with the examples. Check out the full series here: \n",
        "\n",
        "1. [First Steps with Python and Jupyter](https://jovian.ml/aakashns/first-steps-with-python)\n",
        "2. [A Quick Tour of Variables and Data Types](https://jovian.ml/aakashns/python-variables-and-data-types)\n",
        "3. [Branching using Conditional Statements and Loops](https://jovian.ml/aakashns/python-branching-and-loops)\n",
        "4. [Writing Reusable Code Using Functions](https://jovian.ml/aakashns/python-functions-and-scope)\n",
        "5. [Reading from and Writing to Files](https://jovian.ml/aakashns/python-os-and-filesystem)\n",
        "6. [Numerical Computing with Python and Numpy](https://jovian.ml/aakashns/numerical-computing-with-numpy)\n",
        "\n"
      ]
    },
    {
      "cell_type": "markdown",
      "metadata": {
        "id": "oKE68cLU8hzG",
        "colab_type": "text"
      },
      "source": [
        "## How to run the code\n",
        "\n",
        "This tutorial hosted on [Jovian.ml](https://www.jovian.ml), a platform for sharing data science projects online. You can \"run\" this tutorial and experiment with the code examples in a couple of ways: *using free online resources* (recommended) or *on your own computer*.\n",
        "\n",
        ">  This tutorial is a [Jupyter notebook](https://jupyter.org) - a document made of \"cells\", which can contain explanations in text or code written in Python. Code cells can be executed and their outputs e.g. numbers, messages, graphs, tables, files etc. can be viewed within the notebook, which makes it a really powerful platform for experimentation and analysis. Don't afraid to experiment with the code & break things - you'll learn a lot by encoutering and fixing errors. You can use the \"Kernel > Restart & Clear Output\" menu option to clear all outputs and start again from the top of the notebook.\n",
        "\n",
        "### Option 1: Running using free online resources (1-click, recommended)\n",
        "\n",
        "The easiest way to start executing this notebook is to click the \"Run\" button at the top of this page, and select \"Run on Binder\". This will run the notebook on [mybinder.org](https://mybinder.org), a free online service for running Jupyter notebooks. You can also select \"Run on Colab\" or \"Run on Kaggle\", but you'll need to create an account on [Google Colab](https://colab.research.google.com) or [Kaggle](https://kaggle.com) to use these platforms.\n",
        "\n",
        "\n",
        "### Option 2: Running on your computer locally\n",
        "\n",
        "You'll need to install Python and download this notebook on your computer to run in locally. We recommend using the [Conda](https://docs.conda.io/en/latest/) distribution of Python. Here's what you need to do to get started:\n",
        "\n",
        "1. Install Conda by [following these instructions](https://conda.io/projects/conda/en/latest/user-guide/install/index.html). Make sure to add Conda binaries to your system `PATH` to be able to run the `conda` command line tool from your Mac/Linux terminal or Windows command prompt. \n",
        "\n",
        "\n",
        "2. Create and activate a [Conda virtual environment](https://docs.conda.io/projects/conda/en/latest/user-guide/tasks/manage-environments.html) called `zerotopandas` which you can use for this tutorial series:\n",
        "```\n",
        "conda create -n zerotopandas -y python=3.8 \n",
        "conda activate zerotopandas\n",
        "```\n",
        "You'll need to create the environment only once, but you'll have to activate it every time want to run the notebook. When the environment is activated, you should be able to see a prefix `(numerical-computing-with-numpy)` within your terminal or command prompt.\n",
        "\n",
        "\n",
        "3. Install the required Python libraries within the environmebt by the running the following command on your  terminal or command prompt:\n",
        "```\n",
        "pip install jovian jupyter numpy pandas matplotlib seaborn --upgrade\n",
        "```\n",
        "\n",
        "4. Download the notebook for this tutorial using the `jovian clone` command:\n",
        "```\n",
        "jovian clone aakashns/python-numerical-computing-with-numpy\n",
        "```\n",
        "The notebook is downloaded to the directory `python-numerical-computing-with-numpy`.\n",
        "\n",
        "\n",
        "5. Enter the project directory and start the Jupyter notebook:\n",
        "```\n",
        "cd python-numerical-computing-with-numpy\n",
        "jupyter notebook\n",
        "```\n",
        "\n",
        "6. You can now access Jupyter's web interface by clicking the link that shows up on the terminal or by visiting http://localhost:8888 on your browser. Click on the notebook `python-numerical-computing-with-numpy.ipynb` to open it and run the code. If you want to type out the code yourself, you can also create a new notebook using the \"New\" button.\n"
      ]
    },
    {
      "cell_type": "markdown",
      "metadata": {
        "id": "EsI6gPT08hzH",
        "colab_type": "text"
      },
      "source": [
        "## Working with numerical data\n",
        "\n",
        "The \"data\" in *Data Analysis* typically refers to numerical data e.g. stock prices, sales figures, sensor measurements, sports scores, database tables etc. The [Numpy](https://numpy.org) library provides specialized data structures, functions and other tools for numerical computing in Python. Let's work through an example to see why & how to use Numpy for working with numerical data.\n",
        "\n",
        "\n",
        "> Let's say we want to use climate data like the temperature, rainfall and humidity in a region to determine if the region is well suited for growing apples. A really simple approach for doing this would be to formulate the relationship between the annual yield of apples (tons per hectare) and the climatic conditions like the average temperature (in degrees Farenheit), rainfall (in  millimeters) & average relative humidity (in percentage) as a linear equation.\n",
        ">\n",
        "> `yield_of_apples = w1 * temperature + w2 * rainfall + w3 * humidity`\n",
        "\n",
        "We're expressing the yield of apples as a weighted sum of the temperature, rainfall and humidity. Obviously, this is an approximation, since the actual relation may not necessarily be linear. But a simple linear model like this often works well in practice.\n",
        "\n",
        "Based on some statical analysis of historical data, we might we able to come up with reasonable values for the weights `w1`, `w2` and `w3`. Here's an example set of values:"
      ]
    },
    {
      "cell_type": "code",
      "metadata": {
        "id": "NSEo-b0d8hzI",
        "colab_type": "code",
        "colab": {}
      },
      "source": [
        "w1, w2, w3 = 0.3, 0.2, 0.5"
      ],
      "execution_count": 2,
      "outputs": []
    },
    {
      "cell_type": "markdown",
      "metadata": {
        "id": "wgdf8OSc8hzL",
        "colab_type": "text"
      },
      "source": [
        "Given some climate data for a region, we can now predict what the yield of apples in the region might look like. Here's some sample data:\n",
        "\n",
        "<img src=\"https://i.imgur.com/TXPBiqv.png\" style=\"width:360px;\">\n",
        "\n",
        "To begin, we can define some variables to record the climate data for a region."
      ]
    },
    {
      "cell_type": "code",
      "metadata": {
        "id": "3wFwU-6Z8hzM",
        "colab_type": "code",
        "colab": {}
      },
      "source": [
        "kanto_temp = 73\n",
        "kanto_rainfall = 67\n",
        "kanto_humidity = 43"
      ],
      "execution_count": 3,
      "outputs": []
    },
    {
      "cell_type": "markdown",
      "metadata": {
        "id": "8qLT_VbJ8hzP",
        "colab_type": "text"
      },
      "source": [
        "These variables can now we substituted into the linear equation to predict yield of apples in that region."
      ]
    },
    {
      "cell_type": "code",
      "metadata": {
        "id": "5patTHMg8hzP",
        "colab_type": "code",
        "colab": {
          "base_uri": "https://localhost:8080/",
          "height": 35
        },
        "outputId": "7cf4ebd1-904d-430d-fc4b-154ea1adf1c9"
      },
      "source": [
        "kanto_yield_apples = kanto_temp * w1 + kanto_rainfall * w2 + kanto_humidity * w3\n",
        "kanto_yield_apples"
      ],
      "execution_count": 4,
      "outputs": [
        {
          "output_type": "execute_result",
          "data": {
            "text/plain": [
              "56.8"
            ]
          },
          "metadata": {
            "tags": []
          },
          "execution_count": 4
        }
      ]
    },
    {
      "cell_type": "code",
      "metadata": {
        "id": "eoOirYjE8hzU",
        "colab_type": "code",
        "colab": {
          "base_uri": "https://localhost:8080/",
          "height": 35
        },
        "outputId": "fd00ace1-85fa-4472-b871-d6182ebfd1d7"
      },
      "source": [
        "print(\"The expected yield of apples in Kanto region is {} tons per hectare.\".format(kanto_yield_apples))"
      ],
      "execution_count": 5,
      "outputs": [
        {
          "output_type": "stream",
          "text": [
            "The expected yield of apples in Kanto region is 56.8 tons per hectare.\n"
          ],
          "name": "stdout"
        }
      ]
    },
    {
      "cell_type": "markdown",
      "metadata": {
        "id": "xjycyodz8hzX",
        "colab_type": "text"
      },
      "source": [
        "To make it slightly easier to perform the above computation for multiple regions, we can represent the climate data for each region as a vector i.e. a list of numbers."
      ]
    },
    {
      "cell_type": "code",
      "metadata": {
        "id": "9YtvqQ628hzX",
        "colab_type": "code",
        "colab": {}
      },
      "source": [
        "kanto = [73, 67, 43]\n",
        "johto = [91, 88, 64]\n",
        "hoenn = [87, 134, 58]\n",
        "sinnoh = [102, 43, 37]\n",
        "unova = [69, 96, 70]"
      ],
      "execution_count": 7,
      "outputs": []
    },
    {
      "cell_type": "markdown",
      "metadata": {
        "id": "gcoW_ZbU8hzb",
        "colab_type": "text"
      },
      "source": [
        "The three numbers in each vector represent the temperature, rainfall and humidity data respecively. The set of weights to be used in the forumla can also be represented as a vector."
      ]
    },
    {
      "cell_type": "code",
      "metadata": {
        "id": "8FZxDKR78hzc",
        "colab_type": "code",
        "colab": {}
      },
      "source": [
        "weights = [w1, w2, w3]"
      ],
      "execution_count": 8,
      "outputs": []
    },
    {
      "cell_type": "markdown",
      "metadata": {
        "id": "Ex5OTqY88hzf",
        "colab_type": "text"
      },
      "source": [
        "We can now write a function `crop_yield` to calcuate the yield of apples (or any other crop) given the climate data and the respective weights."
      ]
    },
    {
      "cell_type": "code",
      "metadata": {
        "id": "kUPXjATt8hzf",
        "colab_type": "code",
        "colab": {}
      },
      "source": [
        "def crop_yield(region, weights):\n",
        "    result = 0\n",
        "    for x, w in zip(region, weights):\n",
        "        result += x * w\n",
        "    return result"
      ],
      "execution_count": 9,
      "outputs": []
    },
    {
      "cell_type": "code",
      "metadata": {
        "id": "Nr28_wYg8hzh",
        "colab_type": "code",
        "colab": {
          "base_uri": "https://localhost:8080/",
          "height": 35
        },
        "outputId": "b598863a-2f12-4706-b5c0-17f1242c0a12"
      },
      "source": [
        "crop_yield(kanto, weights)"
      ],
      "execution_count": 10,
      "outputs": [
        {
          "output_type": "execute_result",
          "data": {
            "text/plain": [
              "56.8"
            ]
          },
          "metadata": {
            "tags": []
          },
          "execution_count": 10
        }
      ]
    },
    {
      "cell_type": "code",
      "metadata": {
        "id": "EsAfwyZx8hzj",
        "colab_type": "code",
        "colab": {
          "base_uri": "https://localhost:8080/",
          "height": 35
        },
        "outputId": "66b732e8-f713-4683-9558-77ab52731935"
      },
      "source": [
        "crop_yield(johto, weights)"
      ],
      "execution_count": 11,
      "outputs": [
        {
          "output_type": "execute_result",
          "data": {
            "text/plain": [
              "76.9"
            ]
          },
          "metadata": {
            "tags": []
          },
          "execution_count": 11
        }
      ]
    },
    {
      "cell_type": "code",
      "metadata": {
        "id": "TredIZzX8hzm",
        "colab_type": "code",
        "colab": {
          "base_uri": "https://localhost:8080/",
          "height": 35
        },
        "outputId": "e8900666-2373-4312-b1f2-41bd23a6ab19"
      },
      "source": [
        "crop_yield(unova, weights)"
      ],
      "execution_count": 12,
      "outputs": [
        {
          "output_type": "execute_result",
          "data": {
            "text/plain": [
              "74.9"
            ]
          },
          "metadata": {
            "tags": []
          },
          "execution_count": 12
        }
      ]
    },
    {
      "cell_type": "markdown",
      "metadata": {
        "id": "xSw5mC2P8hzq",
        "colab_type": "text"
      },
      "source": [
        "## Going from Python lists to Numpy arrays\n",
        "\n",
        "\n",
        "The calculation performed by the `crop_yield` (element-wise multiplication of two vectors, and taking a sum of the results) is also called the *dot product* of the two vectors. Learn more about dot product here: https://www.khanacademy.org/math/linear-algebra/vectors-and-spaces/dot-cross-products/v/vector-dot-product-and-vector-length\n",
        "\n",
        "The Numpy library provides a built-in function to perform the dot product of two vectors. However, the lists must first be converted to numpy arrays before we can perform the operation. To begin, let's import the `numpy` module. It is common practice to import numpy with the alias `np`."
      ]
    },
    {
      "cell_type": "code",
      "metadata": {
        "id": "ap6sVrfK8hzq",
        "colab_type": "code",
        "colab": {}
      },
      "source": [
        "import numpy as np"
      ],
      "execution_count": 13,
      "outputs": []
    },
    {
      "cell_type": "markdown",
      "metadata": {
        "id": "YTGi4paZ8hzu",
        "colab_type": "text"
      },
      "source": [
        "Numpy arrays can be created using the `np.array` function."
      ]
    },
    {
      "cell_type": "code",
      "metadata": {
        "id": "USz5x0T68hzv",
        "colab_type": "code",
        "colab": {}
      },
      "source": [
        "kanto = np.array([73, 67, 43])"
      ],
      "execution_count": 14,
      "outputs": []
    },
    {
      "cell_type": "code",
      "metadata": {
        "id": "jev6GOno8hzy",
        "colab_type": "code",
        "colab": {
          "base_uri": "https://localhost:8080/",
          "height": 35
        },
        "outputId": "fee654aa-dbbf-48cb-e47e-2c725ac29569"
      },
      "source": [
        "kanto"
      ],
      "execution_count": 15,
      "outputs": [
        {
          "output_type": "execute_result",
          "data": {
            "text/plain": [
              "array([73, 67, 43])"
            ]
          },
          "metadata": {
            "tags": []
          },
          "execution_count": 15
        }
      ]
    },
    {
      "cell_type": "code",
      "metadata": {
        "id": "lop_V3gv8hz1",
        "colab_type": "code",
        "colab": {}
      },
      "source": [
        "weights = np.array([w1, w2, w3])"
      ],
      "execution_count": 16,
      "outputs": []
    },
    {
      "cell_type": "code",
      "metadata": {
        "id": "NZFLxaRn8hz3",
        "colab_type": "code",
        "colab": {
          "base_uri": "https://localhost:8080/",
          "height": 35
        },
        "outputId": "f228bfc7-467f-43c0-9004-6c574f8f8a79"
      },
      "source": [
        "weights"
      ],
      "execution_count": 17,
      "outputs": [
        {
          "output_type": "execute_result",
          "data": {
            "text/plain": [
              "array([0.3, 0.2, 0.5])"
            ]
          },
          "metadata": {
            "tags": []
          },
          "execution_count": 17
        }
      ]
    },
    {
      "cell_type": "code",
      "metadata": {
        "id": "Klcoj_ph8hz7",
        "colab_type": "code",
        "colab": {
          "base_uri": "https://localhost:8080/",
          "height": 35
        },
        "outputId": "5dd54e91-eab4-448c-d977-7cbe50a54325"
      },
      "source": [
        "type(kanto)"
      ],
      "execution_count": 18,
      "outputs": [
        {
          "output_type": "execute_result",
          "data": {
            "text/plain": [
              "numpy.ndarray"
            ]
          },
          "metadata": {
            "tags": []
          },
          "execution_count": 18
        }
      ]
    },
    {
      "cell_type": "code",
      "metadata": {
        "id": "lRMnrR_T8h0B",
        "colab_type": "code",
        "colab": {
          "base_uri": "https://localhost:8080/",
          "height": 35
        },
        "outputId": "8fc3cc7f-90ad-4333-8f77-fee5516e983c"
      },
      "source": [
        "type(weights)"
      ],
      "execution_count": 19,
      "outputs": [
        {
          "output_type": "execute_result",
          "data": {
            "text/plain": [
              "numpy.ndarray"
            ]
          },
          "metadata": {
            "tags": []
          },
          "execution_count": 19
        }
      ]
    },
    {
      "cell_type": "markdown",
      "metadata": {
        "id": "rng0LuCL8h0D",
        "colab_type": "text"
      },
      "source": [
        "Just like lists, Numpy arrays support the indexing notation `[]`"
      ]
    },
    {
      "cell_type": "code",
      "metadata": {
        "id": "3XGgVHko8h0E",
        "colab_type": "code",
        "colab": {
          "base_uri": "https://localhost:8080/",
          "height": 35
        },
        "outputId": "9ccaa72b-a174-4080-9613-675a166a4852"
      },
      "source": [
        "weights[0]"
      ],
      "execution_count": 20,
      "outputs": [
        {
          "output_type": "execute_result",
          "data": {
            "text/plain": [
              "0.3"
            ]
          },
          "metadata": {
            "tags": []
          },
          "execution_count": 20
        }
      ]
    },
    {
      "cell_type": "code",
      "metadata": {
        "id": "SuGkzQtT8h0G",
        "colab_type": "code",
        "colab": {
          "base_uri": "https://localhost:8080/",
          "height": 35
        },
        "outputId": "f3b1838a-e9dd-4b08-c8b6-d65c8aa8da7b"
      },
      "source": [
        "kanto[2]"
      ],
      "execution_count": 21,
      "outputs": [
        {
          "output_type": "execute_result",
          "data": {
            "text/plain": [
              "43"
            ]
          },
          "metadata": {
            "tags": []
          },
          "execution_count": 21
        }
      ]
    },
    {
      "cell_type": "markdown",
      "metadata": {
        "id": "gPn1tn8E8h0I",
        "colab_type": "text"
      },
      "source": [
        "## Operating on Numpy arrays\n",
        "\n",
        "We can now compute the dot product of the two vectors using the `np.dot` function"
      ]
    },
    {
      "cell_type": "code",
      "metadata": {
        "id": "IDznsAXq8h0J",
        "colab_type": "code",
        "colab": {
          "base_uri": "https://localhost:8080/",
          "height": 35
        },
        "outputId": "23fa8a86-5ea4-4b67-9f8c-a110a8bbc5a3"
      },
      "source": [
        "np.dot(kanto, weights)"
      ],
      "execution_count": 22,
      "outputs": [
        {
          "output_type": "execute_result",
          "data": {
            "text/plain": [
              "56.8"
            ]
          },
          "metadata": {
            "tags": []
          },
          "execution_count": 22
        }
      ]
    },
    {
      "cell_type": "markdown",
      "metadata": {
        "id": "IkmtfBuU8h0L",
        "colab_type": "text"
      },
      "source": [
        "We can achieve the same result with lower level operations supported by Numpy arrays: performing an element-wise multiplication and calculating the sum of the resulting numbers."
      ]
    },
    {
      "cell_type": "code",
      "metadata": {
        "id": "4ql7a97h8h0L",
        "colab_type": "code",
        "colab": {
          "base_uri": "https://localhost:8080/",
          "height": 35
        },
        "outputId": "7c35e2ab-9813-4ccf-c207-3a68f86553a0"
      },
      "source": [
        "(kanto * weights).sum()"
      ],
      "execution_count": 23,
      "outputs": [
        {
          "output_type": "execute_result",
          "data": {
            "text/plain": [
              "56.8"
            ]
          },
          "metadata": {
            "tags": []
          },
          "execution_count": 23
        }
      ]
    },
    {
      "cell_type": "markdown",
      "metadata": {
        "id": "r6SLQXxS8h0O",
        "colab_type": "text"
      },
      "source": [
        "The `*` operator performs an element-wise multiplication of two arrays (assuming they have the same size), and the `sum` method calcuates the sum of numbers in an array."
      ]
    },
    {
      "cell_type": "code",
      "metadata": {
        "id": "DVrc7hD18h0O",
        "colab_type": "code",
        "colab": {}
      },
      "source": [
        "arr1 = np.array([1, 2, 3])\n",
        "arr2 = np.array([4, 5, 6])"
      ],
      "execution_count": 24,
      "outputs": []
    },
    {
      "cell_type": "code",
      "metadata": {
        "id": "qyXdLyy-8h0R",
        "colab_type": "code",
        "colab": {
          "base_uri": "https://localhost:8080/",
          "height": 35
        },
        "outputId": "287b7a05-b28e-458d-fc42-1ab6ad45e563"
      },
      "source": [
        "arr1 * arr2"
      ],
      "execution_count": 25,
      "outputs": [
        {
          "output_type": "execute_result",
          "data": {
            "text/plain": [
              "array([ 4, 10, 18])"
            ]
          },
          "metadata": {
            "tags": []
          },
          "execution_count": 25
        }
      ]
    },
    {
      "cell_type": "code",
      "metadata": {
        "id": "4JEMzWiI8h0V",
        "colab_type": "code",
        "colab": {
          "base_uri": "https://localhost:8080/",
          "height": 35
        },
        "outputId": "2ce407a6-5289-4f41-ab62-a3226f47ae0c"
      },
      "source": [
        "arr2.sum()"
      ],
      "execution_count": 26,
      "outputs": [
        {
          "output_type": "execute_result",
          "data": {
            "text/plain": [
              "15"
            ]
          },
          "metadata": {
            "tags": []
          },
          "execution_count": 26
        }
      ]
    },
    {
      "cell_type": "markdown",
      "metadata": {
        "id": "1_MgWWC_8h0X",
        "colab_type": "text"
      },
      "source": [
        "## Benefits of using Numpy arrays\n",
        "\n",
        "There are a couple of important benefits of using Numpy arrays instead of Python lists for operating on numerical data:\n",
        "\n",
        "- **Ease of use**: You can write small, concise and intutive mathematical expressions like `(kanto * weights).sum()` rather than using loops & custom functions like `crop_yeild`.\n",
        "- **Performance**: Numpy operations and functions are implemented internally in C++, which makes them much faster than using Python statements & loops which are interpreted at runtime\n",
        "\n",
        "Here's a quick comparision of dot products done of vectors with a million elements each using Python loops vs. Numpy arrays."
      ]
    },
    {
      "cell_type": "code",
      "metadata": {
        "id": "nw1cU4SM8h0X",
        "colab_type": "code",
        "colab": {}
      },
      "source": [
        "# Python lists\n",
        "arr1 = list(range(1000000))\n",
        "arr2 = list(range(1000000, 2000000))\n",
        "\n",
        "# Numpy arrays\n",
        "arr1_np = np.array(arr1)\n",
        "arr2_np = np.array(arr2)"
      ],
      "execution_count": 27,
      "outputs": []
    },
    {
      "cell_type": "code",
      "metadata": {
        "id": "uX0pR8qw8h0Z",
        "colab_type": "code",
        "colab": {
          "base_uri": "https://localhost:8080/",
          "height": 52
        },
        "outputId": "04cbfb41-1727-4d3f-f0dd-7473d07b7218"
      },
      "source": [
        "%%time\n",
        "result = 0\n",
        "for x1, x2 in zip(arr1, arr2):\n",
        "    result += x1*x2\n",
        "result"
      ],
      "execution_count": 28,
      "outputs": [
        {
          "output_type": "stream",
          "text": [
            "CPU times: user 180 ms, sys: 0 ns, total: 180 ms\n",
            "Wall time: 180 ms\n"
          ],
          "name": "stdout"
        }
      ]
    },
    {
      "cell_type": "code",
      "metadata": {
        "id": "sX2nKYou8h0b",
        "colab_type": "code",
        "colab": {
          "base_uri": "https://localhost:8080/",
          "height": 69
        },
        "outputId": "0addb345-554b-4031-9def-586b883ddffd"
      },
      "source": [
        "%%time\n",
        "np.dot(arr1_np, arr2_np)"
      ],
      "execution_count": 29,
      "outputs": [
        {
          "output_type": "stream",
          "text": [
            "CPU times: user 2.88 ms, sys: 0 ns, total: 2.88 ms\n",
            "Wall time: 4.8 ms\n"
          ],
          "name": "stdout"
        },
        {
          "output_type": "execute_result",
          "data": {
            "text/plain": [
              "833332333333500000"
            ]
          },
          "metadata": {
            "tags": []
          },
          "execution_count": 29
        }
      ]
    },
    {
      "cell_type": "markdown",
      "metadata": {
        "id": "6QCgJ_788h0g",
        "colab_type": "text"
      },
      "source": [
        "As you can see, using `np.dot` is 100 times faster than using a `for` loop. This makes Numpy especially useful while working with really large datasets with tens of thousands or millions of data points.\n",
        "\n",
        "Let's save our work before continuing."
      ]
    },
    {
      "cell_type": "code",
      "metadata": {
        "id": "OJsCFRMM8h0h",
        "colab_type": "code",
        "colab": {}
      },
      "source": [
        "import jovian"
      ],
      "execution_count": 30,
      "outputs": []
    },
    {
      "cell_type": "code",
      "metadata": {
        "id": "niqDfh9X8h0j",
        "colab_type": "code",
        "colab": {
          "base_uri": "https://localhost:8080/",
          "height": 52
        },
        "outputId": "958a630b-9e44-4e2d-a745-c77d32d2e515"
      },
      "source": [
        "jovian.commit()"
      ],
      "execution_count": 31,
      "outputs": [
        {
          "output_type": "stream",
          "text": [
            "[jovian] Detected Colab notebook...\u001b[0m\n"
          ],
          "name": "stdout"
        },
        {
          "output_type": "stream",
          "text": [
            "\u001b[31m[jovian] Error: Please provide the project argument e.g. jovian.commit(project='my-project')\u001b[0m\n"
          ],
          "name": "stderr"
        }
      ]
    },
    {
      "cell_type": "markdown",
      "metadata": {
        "id": "U7fGAtUa8h0l",
        "colab_type": "text"
      },
      "source": [
        "## Multi-dimensional Numpy arrays \n",
        "\n",
        "We can now go one step further, and represent the climate data for all the regions together using a single 2-dimensional Numpy array."
      ]
    },
    {
      "cell_type": "code",
      "metadata": {
        "id": "WgnNQkIP8h0m",
        "colab_type": "code",
        "colab": {}
      },
      "source": [
        "climate_data = np.array([[73, 67, 43],\n",
        "                         [91, 88, 64],\n",
        "                         [87, 134, 58],\n",
        "                         [102, 43, 37],\n",
        "                         [69, 96, 70]])"
      ],
      "execution_count": 32,
      "outputs": []
    },
    {
      "cell_type": "code",
      "metadata": {
        "id": "quIs6eM18h0o",
        "colab_type": "code",
        "colab": {
          "base_uri": "https://localhost:8080/",
          "height": 104
        },
        "outputId": "b2c27dea-e208-448b-89bf-021b72867f39"
      },
      "source": [
        "climate_data"
      ],
      "execution_count": 33,
      "outputs": [
        {
          "output_type": "execute_result",
          "data": {
            "text/plain": [
              "array([[ 73,  67,  43],\n",
              "       [ 91,  88,  64],\n",
              "       [ 87, 134,  58],\n",
              "       [102,  43,  37],\n",
              "       [ 69,  96,  70]])"
            ]
          },
          "metadata": {
            "tags": []
          },
          "execution_count": 33
        }
      ]
    },
    {
      "cell_type": "markdown",
      "metadata": {
        "id": "rqPsyIe_8h0r",
        "colab_type": "text"
      },
      "source": [
        "If you've taken a linear algebra class in high school, you might recognize the above 2-d array as a *matrix* with 5 rows (one for each region) and 3 columns (containing values for temperature, rainfall and humidity).\n",
        "\n",
        "<img src=\"https://fgnt.github.io/python_crashkurs_doc/_images/numpy_array_t.png\" width=\"420\">"
      ]
    },
    {
      "cell_type": "markdown",
      "metadata": {
        "id": "ST0EhTuV8h0s",
        "colab_type": "text"
      },
      "source": [
        "Numpy arays can have any number of dimensions, and different lengths along each dimension. We can inspect the length along each dimension using the `.shape` property of an array."
      ]
    },
    {
      "cell_type": "code",
      "metadata": {
        "id": "OUDoEQHx8h0s",
        "colab_type": "code",
        "colab": {
          "base_uri": "https://localhost:8080/",
          "height": 35
        },
        "outputId": "0a0d5c71-9fd7-41d3-ffcc-e8915a2c1846"
      },
      "source": [
        "# 2D array (matrix)\n",
        "climate_data.shape"
      ],
      "execution_count": 34,
      "outputs": [
        {
          "output_type": "execute_result",
          "data": {
            "text/plain": [
              "(5, 3)"
            ]
          },
          "metadata": {
            "tags": []
          },
          "execution_count": 34
        }
      ]
    },
    {
      "cell_type": "code",
      "metadata": {
        "id": "b8W96XJH8h0v",
        "colab_type": "code",
        "colab": {
          "base_uri": "https://localhost:8080/",
          "height": 35
        },
        "outputId": "032b65aa-809f-4061-f5f4-454fbe440eb4"
      },
      "source": [
        "weights"
      ],
      "execution_count": 35,
      "outputs": [
        {
          "output_type": "execute_result",
          "data": {
            "text/plain": [
              "array([0.3, 0.2, 0.5])"
            ]
          },
          "metadata": {
            "tags": []
          },
          "execution_count": 35
        }
      ]
    },
    {
      "cell_type": "code",
      "metadata": {
        "id": "Iy6kgVbC8h0x",
        "colab_type": "code",
        "colab": {
          "base_uri": "https://localhost:8080/",
          "height": 35
        },
        "outputId": "72147c36-770c-4679-f344-8db28a2c5572"
      },
      "source": [
        "# 1D array (vector)\n",
        "weights.shape"
      ],
      "execution_count": 36,
      "outputs": [
        {
          "output_type": "execute_result",
          "data": {
            "text/plain": [
              "(3,)"
            ]
          },
          "metadata": {
            "tags": []
          },
          "execution_count": 36
        }
      ]
    },
    {
      "cell_type": "code",
      "metadata": {
        "id": "mhtaWuS88h00",
        "colab_type": "code",
        "colab": {}
      },
      "source": [
        "# 3D array \n",
        "arr3 = np.array([\n",
        "    [[11, 12, 13], \n",
        "     [13, 14, 15]], \n",
        "    [[15, 16, 17], \n",
        "     [17, 18, 19.5]]])"
      ],
      "execution_count": 37,
      "outputs": []
    },
    {
      "cell_type": "code",
      "metadata": {
        "id": "Mt5N_8YT8h03",
        "colab_type": "code",
        "colab": {
          "base_uri": "https://localhost:8080/",
          "height": 35
        },
        "outputId": "a3be583b-8438-488e-b032-cebf27d51824"
      },
      "source": [
        "arr3.shape"
      ],
      "execution_count": 38,
      "outputs": [
        {
          "output_type": "execute_result",
          "data": {
            "text/plain": [
              "(2, 2, 3)"
            ]
          },
          "metadata": {
            "tags": []
          },
          "execution_count": 38
        }
      ]
    },
    {
      "cell_type": "markdown",
      "metadata": {
        "id": "hJS_KTDt8h06",
        "colab_type": "text"
      },
      "source": [
        "All the elements in a numpy array have the same datatype. You can check the data type of an array using the `.dtype` property"
      ]
    },
    {
      "cell_type": "code",
      "metadata": {
        "id": "dYX8rUyQ8h07",
        "colab_type": "code",
        "colab": {
          "base_uri": "https://localhost:8080/",
          "height": 35
        },
        "outputId": "ab7ce38d-6386-499d-a043-2d4713700fba"
      },
      "source": [
        "weights.dtype"
      ],
      "execution_count": 39,
      "outputs": [
        {
          "output_type": "execute_result",
          "data": {
            "text/plain": [
              "dtype('float64')"
            ]
          },
          "metadata": {
            "tags": []
          },
          "execution_count": 39
        }
      ]
    },
    {
      "cell_type": "code",
      "metadata": {
        "id": "kBOAUjKp8h1A",
        "colab_type": "code",
        "colab": {
          "base_uri": "https://localhost:8080/",
          "height": 35
        },
        "outputId": "96945fbb-9465-4653-f806-5858602255e7"
      },
      "source": [
        "climate_data.dtype"
      ],
      "execution_count": 40,
      "outputs": [
        {
          "output_type": "execute_result",
          "data": {
            "text/plain": [
              "dtype('int64')"
            ]
          },
          "metadata": {
            "tags": []
          },
          "execution_count": 40
        }
      ]
    },
    {
      "cell_type": "markdown",
      "metadata": {
        "id": "XFAsGmXO8h1F",
        "colab_type": "text"
      },
      "source": [
        "If an array contains even a single floating point number, all the other elements are also coverted to floats."
      ]
    },
    {
      "cell_type": "code",
      "metadata": {
        "id": "YLxXKpd-8h1G",
        "colab_type": "code",
        "colab": {
          "base_uri": "https://localhost:8080/",
          "height": 35
        },
        "outputId": "6310c02d-0c0d-4fb7-f648-c11772bd0585"
      },
      "source": [
        "arr3.dtype"
      ],
      "execution_count": 41,
      "outputs": [
        {
          "output_type": "execute_result",
          "data": {
            "text/plain": [
              "dtype('float64')"
            ]
          },
          "metadata": {
            "tags": []
          },
          "execution_count": 41
        }
      ]
    },
    {
      "cell_type": "markdown",
      "metadata": {
        "id": "CuCcPc7I8h1K",
        "colab_type": "text"
      },
      "source": [
        "We can now compute the predicted yields of apples in all the regions, using a single matrix multiplication between `climate_data` (a 5x3 matrix) and `weights` (a vector of length 3). Here's what it looks like visually:\n",
        "\n",
        "<img src=\"https://i.imgur.com/LJ2WKSI.png\" width=\"240\">\n",
        "\n",
        "You can learn about matrices and matrix multiplication by watching the first 3-4 videos of this playlist: https://www.youtube.com/watch?v=xyAuNHPsq-g&list=PLFD0EB975BA0CC1E0&index=1\n",
        "\n",
        "We can use the `np.matmul` function from Numpy, or simply use the `@` operator to perform matrix multiplication."
      ]
    },
    {
      "cell_type": "code",
      "metadata": {
        "id": "fpgvIpm88h1N",
        "colab_type": "code",
        "colab": {
          "base_uri": "https://localhost:8080/",
          "height": 35
        },
        "outputId": "39adb039-a44a-4d4b-9d75-64d7ecd78059"
      },
      "source": [
        "np.matmul(climate_data, weights)"
      ],
      "execution_count": 42,
      "outputs": [
        {
          "output_type": "execute_result",
          "data": {
            "text/plain": [
              "array([56.8, 76.9, 81.9, 57.7, 74.9])"
            ]
          },
          "metadata": {
            "tags": []
          },
          "execution_count": 42
        }
      ]
    },
    {
      "cell_type": "code",
      "metadata": {
        "id": "imhC5O9F8h1S",
        "colab_type": "code",
        "colab": {
          "base_uri": "https://localhost:8080/",
          "height": 35
        },
        "outputId": "c27b9eda-69db-483a-c4d4-ae40eb75ec0e"
      },
      "source": [
        "climate_data @ weights"
      ],
      "execution_count": 43,
      "outputs": [
        {
          "output_type": "execute_result",
          "data": {
            "text/plain": [
              "array([56.8, 76.9, 81.9, 57.7, 74.9])"
            ]
          },
          "metadata": {
            "tags": []
          },
          "execution_count": 43
        }
      ]
    },
    {
      "cell_type": "markdown",
      "metadata": {
        "id": "0iQQEtGI8h1X",
        "colab_type": "text"
      },
      "source": [
        "## Working with CSV data files\n",
        "\n",
        "Numpy also provides helper functions reading from & writing to files. Let's download a file `climate.txt` which contains 10,000 climate data (temperature, rainfall & humidity) in the following format:\n",
        "\n",
        "\n",
        "```\n",
        "temperature,rainfall,humidity\n",
        "25.00,76.00,99.00\n",
        "39.00,65.00,70.00\n",
        "59.00,45.00,77.00\n",
        "84.00,63.00,38.00\n",
        "66.00,50.00,52.00\n",
        "41.00,94.00,77.00\n",
        "91.00,57.00,96.00\n",
        "49.00,96.00,99.00\n",
        "67.00,20.00,28.00\n",
        "...\n",
        "```\n",
        "\n",
        "This format of storing data is known as *comma separated values* or CSV. \n",
        "\n",
        "> **CSVs**: A comma-separated values (CSV) file is a delimited text file that uses a comma to separate values. Each line of the file is a data record. Each record consists of one or more fields, separated by commas. A CSV file typically stores tabular data (numbers and text) in plain text, in which case each line will have the same number of fields. (Wikipedia)\n",
        "\n",
        "\n",
        "\n",
        "\n",
        "To read this file into a numpy array, we can use the `genfromtxt` function."
      ]
    },
    {
      "cell_type": "code",
      "metadata": {
        "id": "VZGTuyDy8h1X",
        "colab_type": "code",
        "colab": {
          "base_uri": "https://localhost:8080/",
          "height": 35
        },
        "outputId": "9d50ed93-4950-4633-883b-8806c6c1c5d8"
      },
      "source": [
        "import urllib.request\n",
        "\n",
        "urllib.request.urlretrieve(\n",
        "    'https://hub.jovian.ml/wp-content/uploads/2020/08/climate.csv', \n",
        "    'climate.txt')"
      ],
      "execution_count": 44,
      "outputs": [
        {
          "output_type": "execute_result",
          "data": {
            "text/plain": [
              "('climate.txt', <http.client.HTTPMessage at 0x7f5d7da564e0>)"
            ]
          },
          "metadata": {
            "tags": []
          },
          "execution_count": 44
        }
      ]
    },
    {
      "cell_type": "code",
      "metadata": {
        "id": "KHrxMNZi8h1a",
        "colab_type": "code",
        "colab": {}
      },
      "source": [
        "climate_data = np.genfromtxt('climate.txt', delimiter=',', skip_header=1)"
      ],
      "execution_count": 45,
      "outputs": []
    },
    {
      "cell_type": "code",
      "metadata": {
        "id": "DBKAUfC78h1d",
        "colab_type": "code",
        "colab": {
          "base_uri": "https://localhost:8080/",
          "height": 139
        },
        "outputId": "931f737c-10f4-4650-98ff-3719342e3750"
      },
      "source": [
        "climate_data"
      ],
      "execution_count": 46,
      "outputs": [
        {
          "output_type": "execute_result",
          "data": {
            "text/plain": [
              "array([[25., 76., 99.],\n",
              "       [39., 65., 70.],\n",
              "       [59., 45., 77.],\n",
              "       ...,\n",
              "       [99., 62., 58.],\n",
              "       [70., 71., 91.],\n",
              "       [92., 39., 76.]])"
            ]
          },
          "metadata": {
            "tags": []
          },
          "execution_count": 46
        }
      ]
    },
    {
      "cell_type": "code",
      "metadata": {
        "id": "GQYhP0NB8h1g",
        "colab_type": "code",
        "colab": {
          "base_uri": "https://localhost:8080/",
          "height": 35
        },
        "outputId": "af0e3672-f2d1-4093-a14a-4dbff374fdbd"
      },
      "source": [
        "climate_data.shape"
      ],
      "execution_count": 47,
      "outputs": [
        {
          "output_type": "execute_result",
          "data": {
            "text/plain": [
              "(10000, 3)"
            ]
          },
          "metadata": {
            "tags": []
          },
          "execution_count": 47
        }
      ]
    },
    {
      "cell_type": "markdown",
      "metadata": {
        "id": "ZIr7Gf2b8h1l",
        "colab_type": "text"
      },
      "source": [
        "We can now use a matrix mulplication operator `@` to predict the yield of apples for the entire dataset using a given set of weights."
      ]
    },
    {
      "cell_type": "code",
      "metadata": {
        "id": "Odf2n_JZ8h1l",
        "colab_type": "code",
        "colab": {}
      },
      "source": [
        "weights = np.array([0.3, 0.2, 0.5])"
      ],
      "execution_count": 48,
      "outputs": []
    },
    {
      "cell_type": "code",
      "metadata": {
        "id": "7_LuBjAD8h1o",
        "colab_type": "code",
        "colab": {}
      },
      "source": [
        "yields = climate_data @ weights"
      ],
      "execution_count": 49,
      "outputs": []
    },
    {
      "cell_type": "code",
      "metadata": {
        "id": "m33cBMVl8h1t",
        "colab_type": "code",
        "colab": {
          "base_uri": "https://localhost:8080/",
          "height": 35
        },
        "outputId": "d6f72666-a268-47a7-d004-83b9ff65a64c"
      },
      "source": [
        "yields"
      ],
      "execution_count": 50,
      "outputs": [
        {
          "output_type": "execute_result",
          "data": {
            "text/plain": [
              "array([72.2, 59.7, 65.2, ..., 71.1, 80.7, 73.4])"
            ]
          },
          "metadata": {
            "tags": []
          },
          "execution_count": 50
        }
      ]
    },
    {
      "cell_type": "code",
      "metadata": {
        "id": "lrO7iH6o8h1w",
        "colab_type": "code",
        "colab": {
          "base_uri": "https://localhost:8080/",
          "height": 35
        },
        "outputId": "6dbf059c-a8ef-44dc-ab14-5aa0160ea101"
      },
      "source": [
        "yields.shape"
      ],
      "execution_count": 51,
      "outputs": [
        {
          "output_type": "execute_result",
          "data": {
            "text/plain": [
              "(10000,)"
            ]
          },
          "metadata": {
            "tags": []
          },
          "execution_count": 51
        }
      ]
    },
    {
      "cell_type": "markdown",
      "metadata": {
        "id": "-_v68rsX8h11",
        "colab_type": "text"
      },
      "source": [
        "We can now add the `yields` back to `climate_data` as a fourth column using the [`np.concatenate`](https://numpy.org/doc/stable/reference/generated/numpy.concatenate.html) function."
      ]
    },
    {
      "cell_type": "code",
      "metadata": {
        "id": "ensQl1nk8h11",
        "colab_type": "code",
        "colab": {}
      },
      "source": [
        "climate_results = np.concatenate((climate_data, yields.reshape(10000, 1)), axis=1)"
      ],
      "execution_count": 52,
      "outputs": []
    },
    {
      "cell_type": "code",
      "metadata": {
        "id": "PGLReW8k8h14",
        "colab_type": "code",
        "colab": {
          "base_uri": "https://localhost:8080/",
          "height": 139
        },
        "outputId": "bcd11eb0-36b6-44c0-c3ca-b9d57d818b36"
      },
      "source": [
        "climate_results"
      ],
      "execution_count": 53,
      "outputs": [
        {
          "output_type": "execute_result",
          "data": {
            "text/plain": [
              "array([[25. , 76. , 99. , 72.2],\n",
              "       [39. , 65. , 70. , 59.7],\n",
              "       [59. , 45. , 77. , 65.2],\n",
              "       ...,\n",
              "       [99. , 62. , 58. , 71.1],\n",
              "       [70. , 71. , 91. , 80.7],\n",
              "       [92. , 39. , 76. , 73.4]])"
            ]
          },
          "metadata": {
            "tags": []
          },
          "execution_count": 53
        }
      ]
    },
    {
      "cell_type": "markdown",
      "metadata": {
        "id": "oCfCyR0o8h1_",
        "colab_type": "text"
      },
      "source": [
        "There are a couple of subtleties here:\n",
        "\n",
        "* We need to provide to `axis` argument to `np.concatenate` to specify the dimension along with concatenation should be performed.\n",
        "\n",
        "* The arrays being concatenated should have the same number of dimensions, and the same length along each dimension, except the one along which concatenation is being performed. We use the [`np.reshape`](https://numpy.org/doc/stable/reference/generated/numpy.reshape.html) function here to change the shape of `yields` from `(10000,)` to `(10000,1)`.\n",
        "\n",
        "Here's a visual explanation of `np.concatenate` along `axis=1` (can you guess what `axis=0` results in):\n",
        "\n",
        "<img src=\"https://www.w3resource.com/w3r_images/python-numpy-image-exercise-58.png\" width=\"300\">\n",
        "\n",
        "The best way to understand what an Numpy function does is to experiment with it and read the documentation using the `help` function to learn about its arguments & return values. Use the cells below to experiment with `np.concatenate` and `np.reshape`."
      ]
    },
    {
      "cell_type": "code",
      "metadata": {
        "id": "6M4DPjKB8h2A",
        "colab_type": "code",
        "colab": {}
      },
      "source": [
        ""
      ],
      "execution_count": null,
      "outputs": []
    },
    {
      "cell_type": "code",
      "metadata": {
        "id": "IWaGEYFa8h2E",
        "colab_type": "code",
        "colab": {}
      },
      "source": [
        ""
      ],
      "execution_count": null,
      "outputs": []
    },
    {
      "cell_type": "code",
      "metadata": {
        "id": "hvXDIHvQ8h2G",
        "colab_type": "code",
        "colab": {}
      },
      "source": [
        ""
      ],
      "execution_count": null,
      "outputs": []
    },
    {
      "cell_type": "markdown",
      "metadata": {
        "id": "hjM05wM28h2J",
        "colab_type": "text"
      },
      "source": [
        "Let's write the final results from our computation above back to a file using the `np.savetxt` function."
      ]
    },
    {
      "cell_type": "code",
      "metadata": {
        "id": "gGwbmp_R8h2K",
        "colab_type": "code",
        "colab": {
          "base_uri": "https://localhost:8080/",
          "height": 139
        },
        "outputId": "b18e1a7f-4e2b-48e8-b266-cbb31c197174"
      },
      "source": [
        "climate_results"
      ],
      "execution_count": 54,
      "outputs": [
        {
          "output_type": "execute_result",
          "data": {
            "text/plain": [
              "array([[25. , 76. , 99. , 72.2],\n",
              "       [39. , 65. , 70. , 59.7],\n",
              "       [59. , 45. , 77. , 65.2],\n",
              "       ...,\n",
              "       [99. , 62. , 58. , 71.1],\n",
              "       [70. , 71. , 91. , 80.7],\n",
              "       [92. , 39. , 76. , 73.4]])"
            ]
          },
          "metadata": {
            "tags": []
          },
          "execution_count": 54
        }
      ]
    },
    {
      "cell_type": "code",
      "metadata": {
        "id": "j914PSt98h2L",
        "colab_type": "code",
        "colab": {}
      },
      "source": [
        "np.savetxt('climate_results.txt', \n",
        "           climate_results, \n",
        "           fmt='%.2f', \n",
        "           header='temperature,rainfall,humidity,yeild_apples', \n",
        "           comments='')"
      ],
      "execution_count": 55,
      "outputs": []
    },
    {
      "cell_type": "markdown",
      "metadata": {
        "id": "bAT4dG6S8h2O",
        "colab_type": "text"
      },
      "source": [
        "The results are written back in the CSV format to the file `climate_results.txt`. \n",
        "\n",
        "```\n",
        "temperature,rainfall,humidity,yeild_apples\n",
        "25.00 76.00 99.00 72.20\n",
        "39.00 65.00 70.00 59.70\n",
        "59.00 45.00 77.00 65.20\n",
        "84.00 63.00 38.00 56.80\n",
        "66.00 50.00 52.00 55.80\n",
        "41.00 94.00 77.00 69.60\n",
        "91.00 57.00 96.00 86.70\n",
        "49.00 96.00 99.00 83.40\n",
        "67.00 20.00 28.00 38.10\n",
        "...\n",
        "```\n",
        "\n"
      ]
    },
    {
      "cell_type": "markdown",
      "metadata": {
        "id": "0l8rgFEt8h2P",
        "colab_type": "text"
      },
      "source": [
        "Numpy provides hundreds of functions for peforming operations on arrays. Here are some common functions:\n",
        "\n",
        "\n",
        "* Mathematics: `np.sum`, `np.exp`, `np.round`, arithemtic operators \n",
        "* Array manipulation: `np.reshape`, `np.stack`, `np.concatenate`, `np.split`\n",
        "* Linear Algebra: `np.matmul`, `np.dot`, `np.transpose`, `np.eigvals`\n",
        "* Statistics: `np.mean`, `np.median`, `np.std`, `np.max`\n",
        "\n",
        "> **How to find the function you need?** Since Numpy offers hundreds of functions for operating on arrays, it can sometimes be hard to find exactly what you need. The easiest way to find the right function is to do a web search e.g. searching for \"How to join numpy arrays\" leads to [this tutorial on array concatenation](https://cmdlinetips.com/2018/04/how-to-concatenate-arrays-in-numpy/). \n",
        "\n",
        "You can find a full list of array functions here: https://numpy.org/doc/stable/reference/routines.html"
      ]
    },
    {
      "cell_type": "markdown",
      "metadata": {
        "id": "JUS1lF2y8h2P",
        "colab_type": "text"
      },
      "source": [
        "Let's save our work before continuing"
      ]
    },
    {
      "cell_type": "code",
      "metadata": {
        "id": "IAn-5Ral8h2P",
        "colab_type": "code",
        "colab": {}
      },
      "source": [
        "import jovian"
      ],
      "execution_count": 56,
      "outputs": []
    },
    {
      "cell_type": "code",
      "metadata": {
        "id": "1R5tkQ9I8h2S",
        "colab_type": "code",
        "colab": {
          "base_uri": "https://localhost:8080/",
          "height": 52
        },
        "outputId": "f8491b66-f671-4e8b-c404-2d9046e787b7"
      },
      "source": [
        "jovian.commit()"
      ],
      "execution_count": 57,
      "outputs": [
        {
          "output_type": "stream",
          "text": [
            "[jovian] Detected Colab notebook...\u001b[0m\n"
          ],
          "name": "stdout"
        },
        {
          "output_type": "stream",
          "text": [
            "\u001b[31m[jovian] Error: Please provide the project argument e.g. jovian.commit(project='my-project')\u001b[0m\n"
          ],
          "name": "stderr"
        }
      ]
    },
    {
      "cell_type": "markdown",
      "metadata": {
        "id": "MSqvfFPm8h2U",
        "colab_type": "text"
      },
      "source": [
        "## Arithmetic operations and broadcasting\n",
        "\n",
        "Numpy arrays support arithmetic operators like `+`, `-`, `*` etc. You can perform an arithmetic operation with a single number (also called scalar), or with another array of the same shape. This makes it really easy to write mathemtical expressions with multi-dimensional arrays."
      ]
    },
    {
      "cell_type": "code",
      "metadata": {
        "id": "m2-iNF0d8h2V",
        "colab_type": "code",
        "colab": {}
      },
      "source": [
        "arr2 = np.array([[1, 2, 3, 4], \n",
        "                 [5, 6, 7, 8], \n",
        "                 [9, 1, 2, 3]])"
      ],
      "execution_count": 58,
      "outputs": []
    },
    {
      "cell_type": "code",
      "metadata": {
        "id": "PLlOidoe8h2W",
        "colab_type": "code",
        "colab": {}
      },
      "source": [
        "arr3 = np.array([[11, 12, 13, 14], \n",
        "                 [15, 16, 17, 18], \n",
        "                 [19, 11, 12, 13]])"
      ],
      "execution_count": 59,
      "outputs": []
    },
    {
      "cell_type": "code",
      "metadata": {
        "id": "Vrmqt7lo8h2Y",
        "colab_type": "code",
        "colab": {
          "base_uri": "https://localhost:8080/",
          "height": 69
        },
        "outputId": "d651996e-a947-4457-edc2-868b9484c43a"
      },
      "source": [
        "# Adding a scalar\n",
        "arr2 + 3"
      ],
      "execution_count": 60,
      "outputs": [
        {
          "output_type": "execute_result",
          "data": {
            "text/plain": [
              "array([[ 4,  5,  6,  7],\n",
              "       [ 8,  9, 10, 11],\n",
              "       [12,  4,  5,  6]])"
            ]
          },
          "metadata": {
            "tags": []
          },
          "execution_count": 60
        }
      ]
    },
    {
      "cell_type": "code",
      "metadata": {
        "id": "gP6bpEt48h2a",
        "colab_type": "code",
        "colab": {
          "base_uri": "https://localhost:8080/",
          "height": 69
        },
        "outputId": "eeddc1ee-c83f-45ac-9779-83dc39df2ec4"
      },
      "source": [
        "# Element-wise subtraction\n",
        "arr3 - arr2"
      ],
      "execution_count": 61,
      "outputs": [
        {
          "output_type": "execute_result",
          "data": {
            "text/plain": [
              "array([[10, 10, 10, 10],\n",
              "       [10, 10, 10, 10],\n",
              "       [10, 10, 10, 10]])"
            ]
          },
          "metadata": {
            "tags": []
          },
          "execution_count": 61
        }
      ]
    },
    {
      "cell_type": "code",
      "metadata": {
        "id": "zil08Dtg8h2c",
        "colab_type": "code",
        "colab": {
          "base_uri": "https://localhost:8080/",
          "height": 69
        },
        "outputId": "abebe3ed-232e-44df-99e8-730b86b99e3f"
      },
      "source": [
        "# Division by scalar\n",
        "arr2 / 2"
      ],
      "execution_count": 62,
      "outputs": [
        {
          "output_type": "execute_result",
          "data": {
            "text/plain": [
              "array([[0.5, 1. , 1.5, 2. ],\n",
              "       [2.5, 3. , 3.5, 4. ],\n",
              "       [4.5, 0.5, 1. , 1.5]])"
            ]
          },
          "metadata": {
            "tags": []
          },
          "execution_count": 62
        }
      ]
    },
    {
      "cell_type": "code",
      "metadata": {
        "id": "832da4pK8h2e",
        "colab_type": "code",
        "colab": {
          "base_uri": "https://localhost:8080/",
          "height": 69
        },
        "outputId": "5766ec6f-039e-433f-bac9-a9e479593630"
      },
      "source": [
        "# Element-wise multiplication\n",
        "arr2 * arr3"
      ],
      "execution_count": 63,
      "outputs": [
        {
          "output_type": "execute_result",
          "data": {
            "text/plain": [
              "array([[ 11,  24,  39,  56],\n",
              "       [ 75,  96, 119, 144],\n",
              "       [171,  11,  24,  39]])"
            ]
          },
          "metadata": {
            "tags": []
          },
          "execution_count": 63
        }
      ]
    },
    {
      "cell_type": "code",
      "metadata": {
        "id": "cjL6fLO-8h2i",
        "colab_type": "code",
        "colab": {
          "base_uri": "https://localhost:8080/",
          "height": 69
        },
        "outputId": "c8fd344a-d853-4b5d-82a0-ac9983766e71"
      },
      "source": [
        "# Modulus with scalar\n",
        "arr2 % 4"
      ],
      "execution_count": 64,
      "outputs": [
        {
          "output_type": "execute_result",
          "data": {
            "text/plain": [
              "array([[1, 2, 3, 0],\n",
              "       [1, 2, 3, 0],\n",
              "       [1, 1, 2, 3]])"
            ]
          },
          "metadata": {
            "tags": []
          },
          "execution_count": 64
        }
      ]
    },
    {
      "cell_type": "markdown",
      "metadata": {
        "id": "WWI90ihR8h2n",
        "colab_type": "text"
      },
      "source": [
        "Numpy arrays also support *brodcasting*, which allows arthmetic operations between two array having a different number of dimensions, but compatible shapes. Let's look at an example to see how it works."
      ]
    },
    {
      "cell_type": "code",
      "metadata": {
        "id": "95_yFNTA8h2n",
        "colab_type": "code",
        "colab": {}
      },
      "source": [
        "arr2 = np.array([[1, 2, 3, 4], \n",
        "                 [5, 6, 7, 8], \n",
        "                 [9, 1, 2, 3]])"
      ],
      "execution_count": 65,
      "outputs": []
    },
    {
      "cell_type": "code",
      "metadata": {
        "id": "nOiPeixn8h2r",
        "colab_type": "code",
        "colab": {
          "base_uri": "https://localhost:8080/",
          "height": 35
        },
        "outputId": "1835f82e-7327-48f3-a8ed-8178b22bbbd0"
      },
      "source": [
        "arr2.shape"
      ],
      "execution_count": 66,
      "outputs": [
        {
          "output_type": "execute_result",
          "data": {
            "text/plain": [
              "(3, 4)"
            ]
          },
          "metadata": {
            "tags": []
          },
          "execution_count": 66
        }
      ]
    },
    {
      "cell_type": "code",
      "metadata": {
        "id": "74ir-SsT8h2u",
        "colab_type": "code",
        "colab": {}
      },
      "source": [
        "arr4 = np.array([4, 5, 6, 7])"
      ],
      "execution_count": 67,
      "outputs": []
    },
    {
      "cell_type": "code",
      "metadata": {
        "id": "JfgZZwds8h2w",
        "colab_type": "code",
        "colab": {
          "base_uri": "https://localhost:8080/",
          "height": 35
        },
        "outputId": "22ce367e-002f-41f0-a14f-50e1a18b145f"
      },
      "source": [
        "arr4.shape"
      ],
      "execution_count": 68,
      "outputs": [
        {
          "output_type": "execute_result",
          "data": {
            "text/plain": [
              "(4,)"
            ]
          },
          "metadata": {
            "tags": []
          },
          "execution_count": 68
        }
      ]
    },
    {
      "cell_type": "code",
      "metadata": {
        "id": "TQzfDyoY8h20",
        "colab_type": "code",
        "colab": {
          "base_uri": "https://localhost:8080/",
          "height": 69
        },
        "outputId": "ab4d643d-f976-4789-9993-c442f1f65fc5"
      },
      "source": [
        "arr2 + arr4"
      ],
      "execution_count": 71,
      "outputs": [
        {
          "output_type": "execute_result",
          "data": {
            "text/plain": [
              "array([[ 5,  7,  9, 11],\n",
              "       [ 9, 11, 13, 15],\n",
              "       [13,  6,  8, 10]])"
            ]
          },
          "metadata": {
            "tags": []
          },
          "execution_count": 71
        }
      ]
    },
    {
      "cell_type": "markdown",
      "metadata": {
        "id": "Fj3S2_dW8h22",
        "colab_type": "text"
      },
      "source": [
        "When the expression `arr2 + arr4` is evaluated, `arr4` (which has the shape `(4,)`) is replicated 3 times to match the shape `(3, 4)` of `arr2`. This is pretty useful, because numpy performs the replication without actually creating 3 copies of the smaller dimension array.\n",
        "\n",
        "<img src=\"https://jakevdp.github.io/PythonDataScienceHandbook/figures/02.05-broadcasting.png\" width=\"360\">\n",
        "\n",
        "Broadcasting only works if one of the arrays can be replicated to exactly match the shape of the other array."
      ]
    },
    {
      "cell_type": "code",
      "metadata": {
        "id": "53MCltwB8h23",
        "colab_type": "code",
        "colab": {}
      },
      "source": [
        "arr5 = np.array([7, 8])"
      ],
      "execution_count": 72,
      "outputs": []
    },
    {
      "cell_type": "code",
      "metadata": {
        "id": "_0TWUom68h25",
        "colab_type": "code",
        "colab": {
          "base_uri": "https://localhost:8080/",
          "height": 35
        },
        "outputId": "a7f92246-77c3-4f97-8456-25ad1558a5ba"
      },
      "source": [
        "arr5.shape"
      ],
      "execution_count": 73,
      "outputs": [
        {
          "output_type": "execute_result",
          "data": {
            "text/plain": [
              "(2,)"
            ]
          },
          "metadata": {
            "tags": []
          },
          "execution_count": 73
        }
      ]
    },
    {
      "cell_type": "code",
      "metadata": {
        "id": "gvHdduc78h28",
        "colab_type": "code",
        "colab": {
          "base_uri": "https://localhost:8080/",
          "height": 166
        },
        "outputId": "a34a747f-736f-4b35-c580-c6e5dcfbae87"
      },
      "source": [
        "arr2 + arr5"
      ],
      "execution_count": 74,
      "outputs": [
        {
          "output_type": "error",
          "ename": "ValueError",
          "evalue": "ignored",
          "traceback": [
            "\u001b[0;31m---------------------------------------------------------------------------\u001b[0m",
            "\u001b[0;31mValueError\u001b[0m                                Traceback (most recent call last)",
            "\u001b[0;32m<ipython-input-74-c22e92053c39>\u001b[0m in \u001b[0;36m<module>\u001b[0;34m()\u001b[0m\n\u001b[0;32m----> 1\u001b[0;31m \u001b[0marr2\u001b[0m \u001b[0;34m+\u001b[0m \u001b[0marr5\u001b[0m\u001b[0;34m\u001b[0m\u001b[0;34m\u001b[0m\u001b[0m\n\u001b[0m",
            "\u001b[0;31mValueError\u001b[0m: operands could not be broadcast together with shapes (3,4) (2,) "
          ]
        }
      ]
    },
    {
      "cell_type": "markdown",
      "metadata": {
        "id": "khWvoyzm8h2_",
        "colab_type": "text"
      },
      "source": [
        "In the above example, even if `arr5` is replicated 3 times, it will not match the shape of `arr2`, hence `arr2 + arr5` cannot be evaluted successfully. Learn more about brodcasting here: https://numpy.org/doc/stable/user/basics.broadcasting.html\n",
        "\n",
        "Numpy arrays also support comparision operations like `==`, `!=`, `>` etc. The result is an array of booleans."
      ]
    },
    {
      "cell_type": "code",
      "metadata": {
        "id": "u0lRfG-q8h2_",
        "colab_type": "code",
        "colab": {}
      },
      "source": [
        "arr1 = np.array([[1, 2, 3], [3, 4, 5]])\n",
        "arr2 = np.array([[2, 2, 3], [1, 2, 5]])"
      ],
      "execution_count": 75,
      "outputs": []
    },
    {
      "cell_type": "code",
      "metadata": {
        "id": "0ke14hH18h3B",
        "colab_type": "code",
        "colab": {
          "base_uri": "https://localhost:8080/",
          "height": 52
        },
        "outputId": "115c3839-8833-4be1-ce85-ae2612fa5b17"
      },
      "source": [
        "arr1 == arr2"
      ],
      "execution_count": 76,
      "outputs": [
        {
          "output_type": "execute_result",
          "data": {
            "text/plain": [
              "array([[False,  True,  True],\n",
              "       [False, False,  True]])"
            ]
          },
          "metadata": {
            "tags": []
          },
          "execution_count": 76
        }
      ]
    },
    {
      "cell_type": "code",
      "metadata": {
        "id": "UU8bAgqw8h3F",
        "colab_type": "code",
        "colab": {
          "base_uri": "https://localhost:8080/",
          "height": 52
        },
        "outputId": "a035b2a8-a934-49e2-c5a7-9f61cb49be4e"
      },
      "source": [
        "arr1 != arr2"
      ],
      "execution_count": 77,
      "outputs": [
        {
          "output_type": "execute_result",
          "data": {
            "text/plain": [
              "array([[ True, False, False],\n",
              "       [ True,  True, False]])"
            ]
          },
          "metadata": {
            "tags": []
          },
          "execution_count": 77
        }
      ]
    },
    {
      "cell_type": "code",
      "metadata": {
        "id": "CFwMP3hM8h3G",
        "colab_type": "code",
        "colab": {
          "base_uri": "https://localhost:8080/",
          "height": 52
        },
        "outputId": "d4a5d073-74f8-4654-eca0-8eb51a8ba6b9"
      },
      "source": [
        "arr1 >= arr2"
      ],
      "execution_count": 78,
      "outputs": [
        {
          "output_type": "execute_result",
          "data": {
            "text/plain": [
              "array([[False,  True,  True],\n",
              "       [ True,  True,  True]])"
            ]
          },
          "metadata": {
            "tags": []
          },
          "execution_count": 78
        }
      ]
    },
    {
      "cell_type": "code",
      "metadata": {
        "id": "PbPz_McM8h3I",
        "colab_type": "code",
        "colab": {
          "base_uri": "https://localhost:8080/",
          "height": 52
        },
        "outputId": "fbe5728c-b062-465d-8c3a-2b653b6e2c3d"
      },
      "source": [
        "arr1 < arr2"
      ],
      "execution_count": 79,
      "outputs": [
        {
          "output_type": "execute_result",
          "data": {
            "text/plain": [
              "array([[ True, False, False],\n",
              "       [False, False, False]])"
            ]
          },
          "metadata": {
            "tags": []
          },
          "execution_count": 79
        }
      ]
    },
    {
      "cell_type": "markdown",
      "metadata": {
        "id": "sjvRPiES8h3K",
        "colab_type": "text"
      },
      "source": [
        "A common use case for this is to count the number of equal elements in two arrays using the `sum` method. Remember that `True` evalues to `1` and `False` evaluates to `0` when booleans are used in arithmetic operations."
      ]
    },
    {
      "cell_type": "code",
      "metadata": {
        "id": "KUfu34MR8h3K",
        "colab_type": "code",
        "colab": {
          "base_uri": "https://localhost:8080/",
          "height": 35
        },
        "outputId": "d01f9249-0469-4819-ef64-a3a865467b9e"
      },
      "source": [
        "(arr1 == arr2).sum()"
      ],
      "execution_count": 80,
      "outputs": [
        {
          "output_type": "execute_result",
          "data": {
            "text/plain": [
              "3"
            ]
          },
          "metadata": {
            "tags": []
          },
          "execution_count": 80
        }
      ]
    },
    {
      "cell_type": "markdown",
      "metadata": {
        "id": "oWopzM1p8h3M",
        "colab_type": "text"
      },
      "source": [
        "## Array indexing and slicing\n",
        "\n",
        "Numpy extends Python's list indexing notation using `[]` to multiple dimensions in a fairly intuitive fashion. You can provide a comma separated list of indices or ranges to select a specific element or a subarray (also called slice) from a numpy array."
      ]
    },
    {
      "cell_type": "code",
      "metadata": {
        "id": "eY2uh8D28h3N",
        "colab_type": "code",
        "colab": {}
      },
      "source": [
        "arr3 = np.array([\n",
        "    [[11, 12, 13, 14], \n",
        "     [13, 14, 15, 19]], \n",
        "    \n",
        "    [[15, 16, 17, 21], \n",
        "     [63, 92, 36, 18]], \n",
        "    \n",
        "    [[98, 32, 81, 23],      \n",
        "     [17, 18, 19.5, 43]]])"
      ],
      "execution_count": 81,
      "outputs": []
    },
    {
      "cell_type": "code",
      "metadata": {
        "id": "YQwo8KE48h3O",
        "colab_type": "code",
        "colab": {
          "base_uri": "https://localhost:8080/",
          "height": 35
        },
        "outputId": "86266cfa-0a5e-4b25-fb5e-6e771d782968"
      },
      "source": [
        "arr3.shape"
      ],
      "execution_count": 82,
      "outputs": [
        {
          "output_type": "execute_result",
          "data": {
            "text/plain": [
              "(3, 2, 4)"
            ]
          },
          "metadata": {
            "tags": []
          },
          "execution_count": 82
        }
      ]
    },
    {
      "cell_type": "code",
      "metadata": {
        "id": "DDskibrY8h3Q",
        "colab_type": "code",
        "colab": {
          "base_uri": "https://localhost:8080/",
          "height": 35
        },
        "outputId": "ca8c8aa7-4d41-42c7-aecd-1afb81ea57df"
      },
      "source": [
        "# Single element\n",
        "arr3[1, 1, 2]"
      ],
      "execution_count": 83,
      "outputs": [
        {
          "output_type": "execute_result",
          "data": {
            "text/plain": [
              "36.0"
            ]
          },
          "metadata": {
            "tags": []
          },
          "execution_count": 83
        }
      ]
    },
    {
      "cell_type": "code",
      "metadata": {
        "id": "syCpCrhU8h3R",
        "colab_type": "code",
        "colab": {
          "base_uri": "https://localhost:8080/",
          "height": 69
        },
        "outputId": "eda25602-e96c-42ed-bac7-48ce2f29a37e"
      },
      "source": [
        "# Subarray using ranges\n",
        "arr3[1:, 0:1, :2]"
      ],
      "execution_count": 84,
      "outputs": [
        {
          "output_type": "execute_result",
          "data": {
            "text/plain": [
              "array([[[15., 16.]],\n",
              "\n",
              "       [[98., 32.]]])"
            ]
          },
          "metadata": {
            "tags": []
          },
          "execution_count": 84
        }
      ]
    },
    {
      "cell_type": "code",
      "metadata": {
        "id": "NUxtckFx8h3T",
        "colab_type": "code",
        "colab": {
          "base_uri": "https://localhost:8080/",
          "height": 35
        },
        "outputId": "9fc5ea2a-b1c3-49d9-e910-a637b60611bd"
      },
      "source": [
        "# Mixing indices and ranges\n",
        "arr3[1:, 1, 3]"
      ],
      "execution_count": 85,
      "outputs": [
        {
          "output_type": "execute_result",
          "data": {
            "text/plain": [
              "array([18., 43.])"
            ]
          },
          "metadata": {
            "tags": []
          },
          "execution_count": 85
        }
      ]
    },
    {
      "cell_type": "code",
      "metadata": {
        "id": "AVnkZpgh8h3U",
        "colab_type": "code",
        "colab": {
          "base_uri": "https://localhost:8080/",
          "height": 52
        },
        "outputId": "66202f8b-0d63-4a37-9eda-b02244265787"
      },
      "source": [
        "# Mixing indices and ranges\n",
        "arr3[1:, 1, :3]"
      ],
      "execution_count": 86,
      "outputs": [
        {
          "output_type": "execute_result",
          "data": {
            "text/plain": [
              "array([[63. , 92. , 36. ],\n",
              "       [17. , 18. , 19.5]])"
            ]
          },
          "metadata": {
            "tags": []
          },
          "execution_count": 86
        }
      ]
    },
    {
      "cell_type": "code",
      "metadata": {
        "id": "QH2Sg_RE8h3W",
        "colab_type": "code",
        "colab": {
          "base_uri": "https://localhost:8080/",
          "height": 52
        },
        "outputId": "f8e437ef-ac4c-47bf-ba8d-f694eb503075"
      },
      "source": [
        "# Using fewer indices\n",
        "arr3[1]"
      ],
      "execution_count": 87,
      "outputs": [
        {
          "output_type": "execute_result",
          "data": {
            "text/plain": [
              "array([[15., 16., 17., 21.],\n",
              "       [63., 92., 36., 18.]])"
            ]
          },
          "metadata": {
            "tags": []
          },
          "execution_count": 87
        }
      ]
    },
    {
      "cell_type": "code",
      "metadata": {
        "id": "rQ1xQ1kH8h3X",
        "colab_type": "code",
        "colab": {
          "base_uri": "https://localhost:8080/",
          "height": 52
        },
        "outputId": "884a2fd3-fb8e-4510-e2da-759a2919415e"
      },
      "source": [
        "# Using fewer indices\n",
        "arr3[:2, 1]"
      ],
      "execution_count": 88,
      "outputs": [
        {
          "output_type": "execute_result",
          "data": {
            "text/plain": [
              "array([[13., 14., 15., 19.],\n",
              "       [63., 92., 36., 18.]])"
            ]
          },
          "metadata": {
            "tags": []
          },
          "execution_count": 88
        }
      ]
    },
    {
      "cell_type": "code",
      "metadata": {
        "id": "P0mwzrCK8h3Y",
        "colab_type": "code",
        "colab": {
          "base_uri": "https://localhost:8080/",
          "height": 183
        },
        "outputId": "7a4280d6-4afe-4e6e-c3b6-5b3207252232"
      },
      "source": [
        "# Using too many indices\n",
        "arr3[1,3,2,1]"
      ],
      "execution_count": 89,
      "outputs": [
        {
          "output_type": "error",
          "ename": "IndexError",
          "evalue": "ignored",
          "traceback": [
            "\u001b[0;31m---------------------------------------------------------------------------\u001b[0m",
            "\u001b[0;31mIndexError\u001b[0m                                Traceback (most recent call last)",
            "\u001b[0;32m<ipython-input-89-fbde713646b3>\u001b[0m in \u001b[0;36m<module>\u001b[0;34m()\u001b[0m\n\u001b[1;32m      1\u001b[0m \u001b[0;31m# Using too many indices\u001b[0m\u001b[0;34m\u001b[0m\u001b[0;34m\u001b[0m\u001b[0;34m\u001b[0m\u001b[0m\n\u001b[0;32m----> 2\u001b[0;31m \u001b[0marr3\u001b[0m\u001b[0;34m[\u001b[0m\u001b[0;36m1\u001b[0m\u001b[0;34m,\u001b[0m\u001b[0;36m3\u001b[0m\u001b[0;34m,\u001b[0m\u001b[0;36m2\u001b[0m\u001b[0;34m,\u001b[0m\u001b[0;36m1\u001b[0m\u001b[0;34m]\u001b[0m\u001b[0;34m\u001b[0m\u001b[0;34m\u001b[0m\u001b[0m\n\u001b[0m",
            "\u001b[0;31mIndexError\u001b[0m: too many indices for array"
          ]
        }
      ]
    },
    {
      "cell_type": "markdown",
      "metadata": {
        "id": "eqr0kFhj8h3Z",
        "colab_type": "text"
      },
      "source": [
        "The notation and results can confusing at first, so take your time to experiment and become comfortable with it. Use the cells below to try out some examples of array indexing and slicing, with different combinations of indices and ranges. Here are some more examples demonstrated visually:\n",
        "\n",
        "<img src=\"https://scipy-lectures.org/_images/numpy_indexing.png\" width=\"360\">"
      ]
    },
    {
      "cell_type": "markdown",
      "metadata": {
        "id": "93pUYZvZ8h3a",
        "colab_type": "text"
      },
      "source": [
        "## Other ways of creating Numpy arrays\n",
        "\n",
        "Numpy also provides some handy functions to create arrays of a desired shape with fixed or random values. Check the out the [official documentation](https://numpy.org/doc/stable/reference/routines.array-creation.html) or use the `help` function to learn more about the following functions."
      ]
    },
    {
      "cell_type": "code",
      "metadata": {
        "id": "6P-cR2BF8h3a",
        "colab_type": "code",
        "colab": {
          "base_uri": "https://localhost:8080/",
          "height": 69
        },
        "outputId": "c6ca5300-0a16-40bc-9a10-04e486b38e4e"
      },
      "source": [
        "# All zeros\n",
        "np.zeros((3, 2))"
      ],
      "execution_count": 90,
      "outputs": [
        {
          "output_type": "execute_result",
          "data": {
            "text/plain": [
              "array([[0., 0.],\n",
              "       [0., 0.],\n",
              "       [0., 0.]])"
            ]
          },
          "metadata": {
            "tags": []
          },
          "execution_count": 90
        }
      ]
    },
    {
      "cell_type": "code",
      "metadata": {
        "id": "YOGfzkPr8h3d",
        "colab_type": "code",
        "colab": {
          "base_uri": "https://localhost:8080/",
          "height": 104
        },
        "outputId": "1701ce4e-2a77-41f9-9f79-6baa9461687a"
      },
      "source": [
        "# All ones\n",
        "np.ones([2, 2, 3])"
      ],
      "execution_count": 91,
      "outputs": [
        {
          "output_type": "execute_result",
          "data": {
            "text/plain": [
              "array([[[1., 1., 1.],\n",
              "        [1., 1., 1.]],\n",
              "\n",
              "       [[1., 1., 1.],\n",
              "        [1., 1., 1.]]])"
            ]
          },
          "metadata": {
            "tags": []
          },
          "execution_count": 91
        }
      ]
    },
    {
      "cell_type": "code",
      "metadata": {
        "id": "FrDS6QjY8h3e",
        "colab_type": "code",
        "colab": {
          "base_uri": "https://localhost:8080/",
          "height": 69
        },
        "outputId": "cd7b704f-ef20-4202-a60e-051d9cf4cfc0"
      },
      "source": [
        "# Identity matrix\n",
        "np.eye(3)"
      ],
      "execution_count": 92,
      "outputs": [
        {
          "output_type": "execute_result",
          "data": {
            "text/plain": [
              "array([[1., 0., 0.],\n",
              "       [0., 1., 0.],\n",
              "       [0., 0., 1.]])"
            ]
          },
          "metadata": {
            "tags": []
          },
          "execution_count": 92
        }
      ]
    },
    {
      "cell_type": "code",
      "metadata": {
        "id": "W3-6vd8W8h3h",
        "colab_type": "code",
        "colab": {
          "base_uri": "https://localhost:8080/",
          "height": 35
        },
        "outputId": "4f4aa9b4-773a-494c-8fbd-c6e4abae08e4"
      },
      "source": [
        "# Random vector\n",
        "np.random.rand(5)"
      ],
      "execution_count": 93,
      "outputs": [
        {
          "output_type": "execute_result",
          "data": {
            "text/plain": [
              "array([0.12681114, 0.36360504, 0.5403305 , 0.20507622, 0.63781365])"
            ]
          },
          "metadata": {
            "tags": []
          },
          "execution_count": 93
        }
      ]
    },
    {
      "cell_type": "code",
      "metadata": {
        "id": "KcBjyIQ38h3m",
        "colab_type": "code",
        "colab": {
          "base_uri": "https://localhost:8080/",
          "height": 52
        },
        "outputId": "6139fb88-c7cf-4e76-cd73-79ff3ba98dd4"
      },
      "source": [
        "# Random matrix\n",
        "np.random.randn(2, 3) # rand vs. randn - what's the difference?"
      ],
      "execution_count": 94,
      "outputs": [
        {
          "output_type": "execute_result",
          "data": {
            "text/plain": [
              "array([[-0.84540667,  1.53666935, -0.29789289],\n",
              "       [-0.55463332,  0.45170479, -0.77569443]])"
            ]
          },
          "metadata": {
            "tags": []
          },
          "execution_count": 94
        }
      ]
    },
    {
      "cell_type": "code",
      "metadata": {
        "id": "r3i9mRRW8h3o",
        "colab_type": "code",
        "colab": {
          "base_uri": "https://localhost:8080/",
          "height": 52
        },
        "outputId": "6f7769b7-11fa-40b9-db78-ba4b91c2e4d6"
      },
      "source": [
        "# Fixed value\n",
        "np.full([2, 3], 42)"
      ],
      "execution_count": 95,
      "outputs": [
        {
          "output_type": "execute_result",
          "data": {
            "text/plain": [
              "array([[42, 42, 42],\n",
              "       [42, 42, 42]])"
            ]
          },
          "metadata": {
            "tags": []
          },
          "execution_count": 95
        }
      ]
    },
    {
      "cell_type": "code",
      "metadata": {
        "id": "4B7fqIAa8h3q",
        "colab_type": "code",
        "colab": {
          "base_uri": "https://localhost:8080/",
          "height": 52
        },
        "outputId": "c71b7e2a-0859-4d17-c223-123841c4bb3e"
      },
      "source": [
        "# Range with start, end and step\n",
        "np.arange(10, 90, 3)"
      ],
      "execution_count": 96,
      "outputs": [
        {
          "output_type": "execute_result",
          "data": {
            "text/plain": [
              "array([10, 13, 16, 19, 22, 25, 28, 31, 34, 37, 40, 43, 46, 49, 52, 55, 58,\n",
              "       61, 64, 67, 70, 73, 76, 79, 82, 85, 88])"
            ]
          },
          "metadata": {
            "tags": []
          },
          "execution_count": 96
        }
      ]
    },
    {
      "cell_type": "code",
      "metadata": {
        "id": "U4UeV72E8h3r",
        "colab_type": "code",
        "colab": {
          "base_uri": "https://localhost:8080/",
          "height": 35
        },
        "outputId": "b8fc2169-dce9-42c2-acf5-cdc0ba75f883"
      },
      "source": [
        "# Equally spaced numbers in a range\n",
        "np.linspace(3, 27, 9)"
      ],
      "execution_count": 97,
      "outputs": [
        {
          "output_type": "execute_result",
          "data": {
            "text/plain": [
              "array([ 3.,  6.,  9., 12., 15., 18., 21., 24., 27.])"
            ]
          },
          "metadata": {
            "tags": []
          },
          "execution_count": 97
        }
      ]
    },
    {
      "cell_type": "markdown",
      "metadata": {
        "id": "PJMh1Hnb8h3u",
        "colab_type": "text"
      },
      "source": [
        "## Save and Commit\n",
        "\n",
        "Whether you're running this Jupyter notebook on an online service like Binder or on your local machine, it's important to save your work from time, so that you can access it later, or share it online. You can upload this notebook to your [Jovian.ml](https://jovian.ml) account using the `jovian` Python library.\n",
        "\n"
      ]
    },
    {
      "cell_type": "code",
      "metadata": {
        "id": "H6apPuHZ8h3u",
        "colab_type": "code",
        "colab": {}
      },
      "source": [
        "# Install the library \n",
        "!pip install jovian --upgrade --quiet"
      ],
      "execution_count": null,
      "outputs": []
    },
    {
      "cell_type": "code",
      "metadata": {
        "id": "g2X9DNuv8h3w",
        "colab_type": "code",
        "colab": {}
      },
      "source": [
        "import jovian"
      ],
      "execution_count": null,
      "outputs": []
    },
    {
      "cell_type": "code",
      "metadata": {
        "id": "nMhL62g78h3x",
        "colab_type": "code",
        "colab": {},
        "outputId": "4400482a-e5a2-4453-b7b6-264d06d7df6d"
      },
      "source": [
        "jovian.commit()"
      ],
      "execution_count": null,
      "outputs": [
        {
          "output_type": "display_data",
          "data": {
            "application/javascript": [
              "window.require && require([\"base/js/namespace\"],function(Jupyter){Jupyter.notebook.save_checkpoint()})"
            ],
            "text/plain": [
              "<IPython.core.display.Javascript object>"
            ]
          },
          "metadata": {
            "tags": []
          }
        },
        {
          "output_type": "stream",
          "text": [
            "[jovian] Attempting to save notebook..\u001b[0m\n"
          ],
          "name": "stdout"
        }
      ]
    },
    {
      "cell_type": "markdown",
      "metadata": {
        "id": "kPSimjF-8h3y",
        "colab_type": "text"
      },
      "source": [
        "## Exercises and Further Reading\n",
        "\n",
        "Try the following exercises to become familiar with Numpy and practice your skills:\n",
        "\n",
        "- Assignment on Numpy array functions: https://jovian.ml/aakashns/numpy-array-operations\n",
        "- (Optional) 100 numpy exercises: https://jovian.ml/aakashns/100-numpy-exercises\n",
        "\n",
        "We've covered the following topics in this tutorial:\n",
        "\n",
        "- Going from Python lists to Numpy arrays\n",
        "- Operating on Numpy arrays\n",
        "- Benefits of using Numpy arrays over lists\n",
        "- Multi-dimensional Numpy arrays\n",
        "- Working with CSV data files\n",
        "- Arithmetic operations and broadcasting\n",
        "- Array indexing and slicing\n",
        "- Other ways of creating Numpy arrays\n",
        "\n",
        "\n",
        "Check out the following resouces for learning more about Numpy:\n",
        "\n",
        "- Official tutorial: https://numpy.org/devdocs/user/quickstart.html\n",
        "- Numpy tutorial on W3Schools: https://www.w3schools.com/python/numpy_intro.asp\n",
        "- Advanced Numpy (exploring the internals): http://scipy-lectures.org/advanced/advanced_numpy/index.html"
      ]
    }
  ]
}