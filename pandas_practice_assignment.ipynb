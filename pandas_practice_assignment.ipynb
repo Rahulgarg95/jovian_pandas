{
  "nbformat": 4,
  "nbformat_minor": 0,
  "metadata": {
    "kernelspec": {
      "display_name": "Python 3",
      "language": "python",
      "name": "python3"
    },
    "language_info": {
      "codemirror_mode": {
        "name": "ipython",
        "version": 3
      },
      "file_extension": ".py",
      "mimetype": "text/x-python",
      "name": "python",
      "nbconvert_exporter": "python",
      "pygments_lexer": "ipython3",
      "version": "3.8.5"
    },
    "colab": {
      "name": "pandas-practice-assignment.ipynb",
      "provenance": [],
      "collapsed_sections": [],
      "include_colab_link": true
    }
  },
  "cells": [
    {
      "cell_type": "markdown",
      "metadata": {
        "id": "view-in-github",
        "colab_type": "text"
      },
      "source": [
        "<a href=\"https://colab.research.google.com/github/Rahulgarg95/jovian_pandas/blob/master/pandas_practice_assignment.ipynb\" target=\"_parent\"><img src=\"https://colab.research.google.com/assets/colab-badge.svg\" alt=\"Open In Colab\"/></a>"
      ]
    },
    {
      "cell_type": "code",
      "metadata": {
        "id": "wwGWttovjh8F",
        "colab_type": "code",
        "colab": {}
      },
      "source": [
        "# Jovian Commit Essentials\n",
        "# Please retain and execute this cell without modifying the contents for `jovian.commit` to work\n",
        "!pip install jovian --upgrade -q\n",
        "import jovian\n",
        "jovian.utils.colab.set_colab_file_id('1pmpAHPLp5og4ydk6wW2Su-B1ulyPg4XV')"
      ],
      "execution_count": 1,
      "outputs": []
    },
    {
      "cell_type": "markdown",
      "metadata": {
        "id": "GRrfyRkWjh8M",
        "colab_type": "text"
      },
      "source": [
        "# Assignment 3 - Pandas Data Analysis Practice\n",
        "\n",
        "*This assignment is a part of the course [\"Data Analysis with Python: Zero to Pandas\"](https://jovian.ml/learn/data-analysis-with-python-zero-to-pandas)*\n",
        "\n",
        "In this assignment, you'll get to practice some of the concepts and skills covered this tutorial: https://jovian.ml/aakashns/python-pandas-data-analysis\n",
        "\n",
        "As you go through this notebook, you will find a **???** in certain places. To complete this assignment, you must replace all the **???** with appropriate values, expressions or statements to ensure that the notebook runs properly end-to-end. \n",
        "\n",
        "Some things to keep in mind:\n",
        "\n",
        "* Make sure to run all the code cells, otherwise you may get errors like `NameError` for undefined variables.\n",
        "* Do not change variable names, delete cells or disturb other existing code. It may cause problems during evaluation.\n",
        "* In some cases, you may need to add some code cells or new statements before or after the line of code containing the **???**. \n",
        "* Since you'll be using a temporary online service for code execution, save your work by running `jovian.commit` at regular intervals.\n",
        "* Questions marked **(Optional)** will not be considered for evaluation, and can be skipped. They are for your learning.\n",
        "\n",
        "You can make submissions on this page: https://jovian.ml/learn/data-analysis-with-python-zero-to-pandas/assignment/assignment-3-pandas-practice\n",
        "\n",
        "If you are stuck, you can ask for help on the community forum: https://jovian.ml/forum/t/assignment-3-pandas-practice/11225/3 . You can get help with errors or ask for hints, describe your approach in simple words, link to documentation, but **please don't ask for or share the full working answer code** on the forum.\n",
        "\n",
        "\n",
        "## How to run the code and save your work\n",
        "\n",
        "The recommended way to run this notebook is to click the \"Run\" button at the top of this page, and select \"Run on Binder\". This will run the notebook on [mybinder.org](https://mybinder.org), a free online service for running Jupyter notebooks. \n",
        "\n",
        "Before staring the assignment, let's save a snapshot of the assignment to your Jovian.ml profile, so that you can access it later, and continue your work."
      ]
    },
    {
      "cell_type": "code",
      "metadata": {
        "id": "3HaSeRpPjh8N",
        "colab_type": "code",
        "colab": {}
      },
      "source": [
        "import jovian"
      ],
      "execution_count": 2,
      "outputs": []
    },
    {
      "cell_type": "code",
      "metadata": {
        "id": "XfYuVbopjh8T",
        "colab_type": "code",
        "colab": {
          "base_uri": "https://localhost:8080/",
          "height": 87
        },
        "outputId": "953f8de5-f5e4-447f-918f-1ecc4af23999"
      },
      "source": [
        "jovian.commit(project='pandas-practice-assignment', environment=None)"
      ],
      "execution_count": 3,
      "outputs": [
        {
          "output_type": "stream",
          "text": [
            "[jovian] Detected Colab notebook...\u001b[0m\n",
            "[jovian] Uploading colab notebook to Jovian...\u001b[0m\n",
            "[jovian] Committed successfully! https://jovian.ml/rahulgarg95/pandas-practice-assignment\u001b[0m\n"
          ],
          "name": "stdout"
        },
        {
          "output_type": "execute_result",
          "data": {
            "application/vnd.google.colaboratory.intrinsic+json": {
              "type": "string"
            },
            "text/plain": [
              "'https://jovian.ml/rahulgarg95/pandas-practice-assignment'"
            ]
          },
          "metadata": {
            "tags": []
          },
          "execution_count": 3
        }
      ]
    },
    {
      "cell_type": "code",
      "metadata": {
        "id": "JoWtdX5fjh8X",
        "colab_type": "code",
        "colab": {
          "base_uri": "https://localhost:8080/",
          "height": 104
        },
        "outputId": "995eab12-569d-45d3-a233-d866b4369a15"
      },
      "source": [
        "# Run the next line to install Pandas\n",
        "!pip install pandas --upgrade"
      ],
      "execution_count": 4,
      "outputs": [
        {
          "output_type": "stream",
          "text": [
            "Requirement already up-to-date: pandas in /usr/local/lib/python3.6/dist-packages (1.1.1)\n",
            "Requirement already satisfied, skipping upgrade: pytz>=2017.2 in /usr/local/lib/python3.6/dist-packages (from pandas) (2018.9)\n",
            "Requirement already satisfied, skipping upgrade: python-dateutil>=2.7.3 in /usr/local/lib/python3.6/dist-packages (from pandas) (2.8.1)\n",
            "Requirement already satisfied, skipping upgrade: numpy>=1.15.4 in /usr/local/lib/python3.6/dist-packages (from pandas) (1.18.5)\n",
            "Requirement already satisfied, skipping upgrade: six>=1.5 in /usr/local/lib/python3.6/dist-packages (from python-dateutil>=2.7.3->pandas) (1.15.0)\n"
          ],
          "name": "stdout"
        }
      ]
    },
    {
      "cell_type": "code",
      "metadata": {
        "id": "mDtLarFijh8b",
        "colab_type": "code",
        "colab": {}
      },
      "source": [
        "import pandas as pd"
      ],
      "execution_count": 5,
      "outputs": []
    },
    {
      "cell_type": "markdown",
      "metadata": {
        "id": "CzCfTUL6jh8f",
        "colab_type": "text"
      },
      "source": [
        "In this assignment, we're going to analyze an operate on data from a CSV file. Let's begin by downloading the CSV file."
      ]
    },
    {
      "cell_type": "code",
      "metadata": {
        "id": "obJFAmEkjh8f",
        "colab_type": "code",
        "colab": {
          "base_uri": "https://localhost:8080/",
          "height": 35
        },
        "outputId": "e6845a6f-cb3b-40f7-b25a-756739db2060"
      },
      "source": [
        "from urllib.request import urlretrieve\n",
        "\n",
        "urlretrieve('https://hub.jovian.ml/wp-content/uploads/2020/09/countries.csv', \n",
        "            'countries.csv')"
      ],
      "execution_count": 6,
      "outputs": [
        {
          "output_type": "execute_result",
          "data": {
            "text/plain": [
              "('countries.csv', <http.client.HTTPMessage at 0x7f23f49dff98>)"
            ]
          },
          "metadata": {
            "tags": []
          },
          "execution_count": 6
        }
      ]
    },
    {
      "cell_type": "markdown",
      "metadata": {
        "id": "rA7YvcvAjh8j",
        "colab_type": "text"
      },
      "source": [
        "Let's load the data from the CSV file into a Pandas data frame."
      ]
    },
    {
      "cell_type": "code",
      "metadata": {
        "id": "Nn5EICoUjh8k",
        "colab_type": "code",
        "colab": {}
      },
      "source": [
        "countries_df = pd.read_csv('countries.csv')"
      ],
      "execution_count": 7,
      "outputs": []
    },
    {
      "cell_type": "code",
      "metadata": {
        "id": "cirF_LQ6jh8o",
        "colab_type": "code",
        "colab": {
          "base_uri": "https://localhost:8080/",
          "height": 415
        },
        "outputId": "814f4767-f831-4ef1-edad-b43fdfa28f80"
      },
      "source": [
        "countries_df"
      ],
      "execution_count": 8,
      "outputs": [
        {
          "output_type": "execute_result",
          "data": {
            "text/html": [
              "<div>\n",
              "<style scoped>\n",
              "    .dataframe tbody tr th:only-of-type {\n",
              "        vertical-align: middle;\n",
              "    }\n",
              "\n",
              "    .dataframe tbody tr th {\n",
              "        vertical-align: top;\n",
              "    }\n",
              "\n",
              "    .dataframe thead th {\n",
              "        text-align: right;\n",
              "    }\n",
              "</style>\n",
              "<table border=\"1\" class=\"dataframe\">\n",
              "  <thead>\n",
              "    <tr style=\"text-align: right;\">\n",
              "      <th></th>\n",
              "      <th>location</th>\n",
              "      <th>continent</th>\n",
              "      <th>population</th>\n",
              "      <th>life_expectancy</th>\n",
              "      <th>hospital_beds_per_thousand</th>\n",
              "      <th>gdp_per_capita</th>\n",
              "    </tr>\n",
              "  </thead>\n",
              "  <tbody>\n",
              "    <tr>\n",
              "      <th>0</th>\n",
              "      <td>Afghanistan</td>\n",
              "      <td>Asia</td>\n",
              "      <td>38928341.0</td>\n",
              "      <td>64.83</td>\n",
              "      <td>0.50</td>\n",
              "      <td>1803.987</td>\n",
              "    </tr>\n",
              "    <tr>\n",
              "      <th>1</th>\n",
              "      <td>Albania</td>\n",
              "      <td>Europe</td>\n",
              "      <td>2877800.0</td>\n",
              "      <td>78.57</td>\n",
              "      <td>2.89</td>\n",
              "      <td>11803.431</td>\n",
              "    </tr>\n",
              "    <tr>\n",
              "      <th>2</th>\n",
              "      <td>Algeria</td>\n",
              "      <td>Africa</td>\n",
              "      <td>43851043.0</td>\n",
              "      <td>76.88</td>\n",
              "      <td>1.90</td>\n",
              "      <td>13913.839</td>\n",
              "    </tr>\n",
              "    <tr>\n",
              "      <th>3</th>\n",
              "      <td>Andorra</td>\n",
              "      <td>Europe</td>\n",
              "      <td>77265.0</td>\n",
              "      <td>83.73</td>\n",
              "      <td>NaN</td>\n",
              "      <td>NaN</td>\n",
              "    </tr>\n",
              "    <tr>\n",
              "      <th>4</th>\n",
              "      <td>Angola</td>\n",
              "      <td>Africa</td>\n",
              "      <td>32866268.0</td>\n",
              "      <td>61.15</td>\n",
              "      <td>NaN</td>\n",
              "      <td>5819.495</td>\n",
              "    </tr>\n",
              "    <tr>\n",
              "      <th>...</th>\n",
              "      <td>...</td>\n",
              "      <td>...</td>\n",
              "      <td>...</td>\n",
              "      <td>...</td>\n",
              "      <td>...</td>\n",
              "      <td>...</td>\n",
              "    </tr>\n",
              "    <tr>\n",
              "      <th>205</th>\n",
              "      <td>Vietnam</td>\n",
              "      <td>Asia</td>\n",
              "      <td>97338583.0</td>\n",
              "      <td>75.40</td>\n",
              "      <td>2.60</td>\n",
              "      <td>6171.884</td>\n",
              "    </tr>\n",
              "    <tr>\n",
              "      <th>206</th>\n",
              "      <td>Western Sahara</td>\n",
              "      <td>Africa</td>\n",
              "      <td>597330.0</td>\n",
              "      <td>70.26</td>\n",
              "      <td>NaN</td>\n",
              "      <td>NaN</td>\n",
              "    </tr>\n",
              "    <tr>\n",
              "      <th>207</th>\n",
              "      <td>Yemen</td>\n",
              "      <td>Asia</td>\n",
              "      <td>29825968.0</td>\n",
              "      <td>66.12</td>\n",
              "      <td>0.70</td>\n",
              "      <td>1479.147</td>\n",
              "    </tr>\n",
              "    <tr>\n",
              "      <th>208</th>\n",
              "      <td>Zambia</td>\n",
              "      <td>Africa</td>\n",
              "      <td>18383956.0</td>\n",
              "      <td>63.89</td>\n",
              "      <td>2.00</td>\n",
              "      <td>3689.251</td>\n",
              "    </tr>\n",
              "    <tr>\n",
              "      <th>209</th>\n",
              "      <td>Zimbabwe</td>\n",
              "      <td>Africa</td>\n",
              "      <td>14862927.0</td>\n",
              "      <td>61.49</td>\n",
              "      <td>1.70</td>\n",
              "      <td>1899.775</td>\n",
              "    </tr>\n",
              "  </tbody>\n",
              "</table>\n",
              "<p>210 rows × 6 columns</p>\n",
              "</div>"
            ],
            "text/plain": [
              "           location continent  ...  hospital_beds_per_thousand  gdp_per_capita\n",
              "0       Afghanistan      Asia  ...                        0.50        1803.987\n",
              "1           Albania    Europe  ...                        2.89       11803.431\n",
              "2           Algeria    Africa  ...                        1.90       13913.839\n",
              "3           Andorra    Europe  ...                         NaN             NaN\n",
              "4            Angola    Africa  ...                         NaN        5819.495\n",
              "..              ...       ...  ...                         ...             ...\n",
              "205         Vietnam      Asia  ...                        2.60        6171.884\n",
              "206  Western Sahara    Africa  ...                         NaN             NaN\n",
              "207           Yemen      Asia  ...                        0.70        1479.147\n",
              "208          Zambia    Africa  ...                        2.00        3689.251\n",
              "209        Zimbabwe    Africa  ...                        1.70        1899.775\n",
              "\n",
              "[210 rows x 6 columns]"
            ]
          },
          "metadata": {
            "tags": []
          },
          "execution_count": 8
        }
      ]
    },
    {
      "cell_type": "markdown",
      "metadata": {
        "id": "H79vlNFrjh8s",
        "colab_type": "text"
      },
      "source": [
        "**Q: How many countries does the dataframe contain?**\n",
        "\n",
        "Hint: Use the `.shape` method."
      ]
    },
    {
      "cell_type": "code",
      "metadata": {
        "id": "ln9JnE-Rjh8t",
        "colab_type": "code",
        "colab": {}
      },
      "source": [
        "num_countries = countries_df.shape[0]"
      ],
      "execution_count": 10,
      "outputs": []
    },
    {
      "cell_type": "code",
      "metadata": {
        "id": "dMp4RQ-Sjh8w",
        "colab_type": "code",
        "colab": {
          "base_uri": "https://localhost:8080/",
          "height": 35
        },
        "outputId": "ff6da8ab-619d-4f17-c214-727d4221e837"
      },
      "source": [
        "print('There are {} countries in the dataset'.format(num_countries))"
      ],
      "execution_count": 11,
      "outputs": [
        {
          "output_type": "stream",
          "text": [
            "There are 210 countries in the dataset\n"
          ],
          "name": "stdout"
        }
      ]
    },
    {
      "cell_type": "code",
      "metadata": {
        "id": "ia0D9Bizjh8z",
        "colab_type": "code",
        "colab": {
          "base_uri": "https://localhost:8080/",
          "height": 87
        },
        "outputId": "42f42755-d254-498a-acc9-e67ddcf4b6ae"
      },
      "source": [
        "jovian.commit(project='pandas-practice-assignment', environment=None)"
      ],
      "execution_count": 12,
      "outputs": [
        {
          "output_type": "stream",
          "text": [
            "[jovian] Detected Colab notebook...\u001b[0m\n",
            "[jovian] Uploading colab notebook to Jovian...\u001b[0m\n",
            "[jovian] Committed successfully! https://jovian.ml/rahulgarg95/pandas-practice-assignment\u001b[0m\n"
          ],
          "name": "stdout"
        },
        {
          "output_type": "execute_result",
          "data": {
            "application/vnd.google.colaboratory.intrinsic+json": {
              "type": "string"
            },
            "text/plain": [
              "'https://jovian.ml/rahulgarg95/pandas-practice-assignment'"
            ]
          },
          "metadata": {
            "tags": []
          },
          "execution_count": 12
        }
      ]
    },
    {
      "cell_type": "markdown",
      "metadata": {
        "id": "ERDQa8r0jh85",
        "colab_type": "text"
      },
      "source": [
        "**Q: Retrieve a list of continents from the dataframe?**\n",
        "\n",
        "*Hint: Use the `.unique` method of a series.*"
      ]
    },
    {
      "cell_type": "code",
      "metadata": {
        "id": "O1MpVTC8jh85",
        "colab_type": "code",
        "colab": {}
      },
      "source": [
        "continents = countries_df['continent'].unique()"
      ],
      "execution_count": 13,
      "outputs": []
    },
    {
      "cell_type": "code",
      "metadata": {
        "id": "kkuG19iFjh89",
        "colab_type": "code",
        "colab": {
          "base_uri": "https://localhost:8080/",
          "height": 52
        },
        "outputId": "8e49ea98-7d2e-4e42-d5d1-94640f890a6b"
      },
      "source": [
        "continents"
      ],
      "execution_count": 14,
      "outputs": [
        {
          "output_type": "execute_result",
          "data": {
            "text/plain": [
              "array(['Asia', 'Europe', 'Africa', 'North America', 'South America',\n",
              "       'Oceania'], dtype=object)"
            ]
          },
          "metadata": {
            "tags": []
          },
          "execution_count": 14
        }
      ]
    },
    {
      "cell_type": "code",
      "metadata": {
        "id": "ZLMUQJm8jh9A",
        "colab_type": "code",
        "colab": {
          "base_uri": "https://localhost:8080/",
          "height": 87
        },
        "outputId": "91a522c2-a7f4-498d-824f-52b358b690a7"
      },
      "source": [
        "jovian.commit(project='pandas-practice-assignment', environment=None)"
      ],
      "execution_count": 15,
      "outputs": [
        {
          "output_type": "stream",
          "text": [
            "[jovian] Detected Colab notebook...\u001b[0m\n",
            "[jovian] Uploading colab notebook to Jovian...\u001b[0m\n",
            "[jovian] Committed successfully! https://jovian.ml/rahulgarg95/pandas-practice-assignment\u001b[0m\n"
          ],
          "name": "stdout"
        },
        {
          "output_type": "execute_result",
          "data": {
            "application/vnd.google.colaboratory.intrinsic+json": {
              "type": "string"
            },
            "text/plain": [
              "'https://jovian.ml/rahulgarg95/pandas-practice-assignment'"
            ]
          },
          "metadata": {
            "tags": []
          },
          "execution_count": 15
        }
      ]
    },
    {
      "cell_type": "markdown",
      "metadata": {
        "id": "GlVzMBxZjh9E",
        "colab_type": "text"
      },
      "source": [
        "**Q: What is the total population of all the countries listed in this dataset?**"
      ]
    },
    {
      "cell_type": "code",
      "metadata": {
        "id": "Bn8LI3B3jh9E",
        "colab_type": "code",
        "colab": {}
      },
      "source": [
        "total_population = countries_df.population.sum()"
      ],
      "execution_count": 16,
      "outputs": []
    },
    {
      "cell_type": "code",
      "metadata": {
        "id": "bIEk8HHBjh9I",
        "colab_type": "code",
        "colab": {
          "base_uri": "https://localhost:8080/",
          "height": 35
        },
        "outputId": "9070ff83-edb6-4fc0-a596-c13691e04dee"
      },
      "source": [
        "print('The total population is {}.'.format(int(total_population)))"
      ],
      "execution_count": 17,
      "outputs": [
        {
          "output_type": "stream",
          "text": [
            "The total population is 7757980095.\n"
          ],
          "name": "stdout"
        }
      ]
    },
    {
      "cell_type": "code",
      "metadata": {
        "id": "MRGE_hFzjh9M",
        "colab_type": "code",
        "colab": {
          "base_uri": "https://localhost:8080/",
          "height": 87
        },
        "outputId": "c605675a-33bb-401b-b801-786febb30a94"
      },
      "source": [
        "jovian.commit(project='pandas-practice-assignment', environment=None)"
      ],
      "execution_count": 18,
      "outputs": [
        {
          "output_type": "stream",
          "text": [
            "[jovian] Detected Colab notebook...\u001b[0m\n",
            "[jovian] Uploading colab notebook to Jovian...\u001b[0m\n",
            "[jovian] Committed successfully! https://jovian.ml/rahulgarg95/pandas-practice-assignment\u001b[0m\n"
          ],
          "name": "stdout"
        },
        {
          "output_type": "execute_result",
          "data": {
            "application/vnd.google.colaboratory.intrinsic+json": {
              "type": "string"
            },
            "text/plain": [
              "'https://jovian.ml/rahulgarg95/pandas-practice-assignment'"
            ]
          },
          "metadata": {
            "tags": []
          },
          "execution_count": 18
        }
      ]
    },
    {
      "cell_type": "markdown",
      "metadata": {
        "id": "x8aY4psFjh9Q",
        "colab_type": "text"
      },
      "source": [
        "**Q: (Optional) What is the overall life expectancy across in the world?**\n",
        "\n",
        "*Hint: You'll need to take a weighted average of life expectancy using populations as weights.*"
      ]
    },
    {
      "cell_type": "code",
      "metadata": {
        "id": "eUiP6HJajh9R",
        "colab_type": "code",
        "colab": {
          "base_uri": "https://localhost:8080/",
          "height": 139
        },
        "outputId": "6673e3a1-9f47-40aa-e5cd-9b05ef6a5f80"
      },
      "source": [
        "countries_df['life_expectancy']=countries_df['life_expectancy'].fillna(countries_df['life_expectancy'].mean())\n",
        "countries_df.isnull().sum()"
      ],
      "execution_count": 20,
      "outputs": [
        {
          "output_type": "execute_result",
          "data": {
            "text/plain": [
              "location                       0\n",
              "continent                      0\n",
              "population                     0\n",
              "life_expectancy                0\n",
              "hospital_beds_per_thousand    46\n",
              "gdp_per_capita                27\n",
              "dtype: int64"
            ]
          },
          "metadata": {
            "tags": []
          },
          "execution_count": 20
        }
      ]
    },
    {
      "cell_type": "code",
      "metadata": {
        "id": "cR-TzSHnjh9U",
        "colab_type": "code",
        "colab": {}
      },
      "source": [
        "countries_df['weighted_life_exp']=countries_df['life_expectancy'] * countries_df['population']"
      ],
      "execution_count": 21,
      "outputs": []
    },
    {
      "cell_type": "code",
      "metadata": {
        "id": "YQMvPYOJm-S9",
        "colab_type": "code",
        "colab": {
          "base_uri": "https://localhost:8080/",
          "height": 35
        },
        "outputId": "6d4074a7-c406-4e30-f738-da9880834a11"
      },
      "source": [
        "print('Overall Life Expentency In the World: ',countries_df['weighted_life_exp'].mean())"
      ],
      "execution_count": 23,
      "outputs": [
        {
          "output_type": "stream",
          "text": [
            "Overall Life Expentency In the World:  2687274318.948721\n"
          ],
          "name": "stdout"
        }
      ]
    },
    {
      "cell_type": "code",
      "metadata": {
        "id": "7sC1r8EXjh9Y",
        "colab_type": "code",
        "colab": {
          "base_uri": "https://localhost:8080/",
          "height": 87
        },
        "outputId": "5ae0ce81-6026-43ea-88e6-ac837d3a2e88"
      },
      "source": [
        "jovian.commit(project='pandas-practice-assignment', environment=None)"
      ],
      "execution_count": 24,
      "outputs": [
        {
          "output_type": "stream",
          "text": [
            "[jovian] Detected Colab notebook...\u001b[0m\n",
            "[jovian] Uploading colab notebook to Jovian...\u001b[0m\n",
            "[jovian] Committed successfully! https://jovian.ml/rahulgarg95/pandas-practice-assignment\u001b[0m\n"
          ],
          "name": "stdout"
        },
        {
          "output_type": "execute_result",
          "data": {
            "application/vnd.google.colaboratory.intrinsic+json": {
              "type": "string"
            },
            "text/plain": [
              "'https://jovian.ml/rahulgarg95/pandas-practice-assignment'"
            ]
          },
          "metadata": {
            "tags": []
          },
          "execution_count": 24
        }
      ]
    },
    {
      "cell_type": "markdown",
      "metadata": {
        "id": "S8r7zATAjh9b",
        "colab_type": "text"
      },
      "source": [
        "**Q: Create a dataframe containing 10 countries with the highest population.**\n",
        "\n",
        "*Hint: Chain the `sort_values` and `head` methods.*"
      ]
    },
    {
      "cell_type": "code",
      "metadata": {
        "id": "zpN_xzDjjh9c",
        "colab_type": "code",
        "colab": {}
      },
      "source": [
        "most_populous_df = countries_df.sort_values('population',ascending=False).head(10)"
      ],
      "execution_count": 29,
      "outputs": []
    },
    {
      "cell_type": "code",
      "metadata": {
        "id": "kngZaDw7jh9f",
        "colab_type": "code",
        "colab": {
          "base_uri": "https://localhost:8080/",
          "height": 355
        },
        "outputId": "34d1dbaf-a0b7-466e-94f1-825b2465c284"
      },
      "source": [
        "most_populous_df"
      ],
      "execution_count": 30,
      "outputs": [
        {
          "output_type": "execute_result",
          "data": {
            "text/html": [
              "<div>\n",
              "<style scoped>\n",
              "    .dataframe tbody tr th:only-of-type {\n",
              "        vertical-align: middle;\n",
              "    }\n",
              "\n",
              "    .dataframe tbody tr th {\n",
              "        vertical-align: top;\n",
              "    }\n",
              "\n",
              "    .dataframe thead th {\n",
              "        text-align: right;\n",
              "    }\n",
              "</style>\n",
              "<table border=\"1\" class=\"dataframe\">\n",
              "  <thead>\n",
              "    <tr style=\"text-align: right;\">\n",
              "      <th></th>\n",
              "      <th>location</th>\n",
              "      <th>continent</th>\n",
              "      <th>population</th>\n",
              "      <th>life_expectancy</th>\n",
              "      <th>hospital_beds_per_thousand</th>\n",
              "      <th>gdp_per_capita</th>\n",
              "      <th>weighted_life_exp</th>\n",
              "    </tr>\n",
              "  </thead>\n",
              "  <tbody>\n",
              "    <tr>\n",
              "      <th>41</th>\n",
              "      <td>China</td>\n",
              "      <td>Asia</td>\n",
              "      <td>1.439324e+09</td>\n",
              "      <td>76.91</td>\n",
              "      <td>4.34</td>\n",
              "      <td>15308.712</td>\n",
              "      <td>1.106984e+11</td>\n",
              "    </tr>\n",
              "    <tr>\n",
              "      <th>90</th>\n",
              "      <td>India</td>\n",
              "      <td>Asia</td>\n",
              "      <td>1.380004e+09</td>\n",
              "      <td>69.66</td>\n",
              "      <td>0.53</td>\n",
              "      <td>6426.674</td>\n",
              "      <td>9.613111e+10</td>\n",
              "    </tr>\n",
              "    <tr>\n",
              "      <th>199</th>\n",
              "      <td>United States</td>\n",
              "      <td>North America</td>\n",
              "      <td>3.310026e+08</td>\n",
              "      <td>78.86</td>\n",
              "      <td>2.77</td>\n",
              "      <td>54225.446</td>\n",
              "      <td>2.610287e+10</td>\n",
              "    </tr>\n",
              "    <tr>\n",
              "      <th>91</th>\n",
              "      <td>Indonesia</td>\n",
              "      <td>Asia</td>\n",
              "      <td>2.735236e+08</td>\n",
              "      <td>71.72</td>\n",
              "      <td>1.04</td>\n",
              "      <td>11188.744</td>\n",
              "      <td>1.961711e+10</td>\n",
              "    </tr>\n",
              "    <tr>\n",
              "      <th>145</th>\n",
              "      <td>Pakistan</td>\n",
              "      <td>Asia</td>\n",
              "      <td>2.208923e+08</td>\n",
              "      <td>67.27</td>\n",
              "      <td>0.60</td>\n",
              "      <td>5034.708</td>\n",
              "      <td>1.485943e+10</td>\n",
              "    </tr>\n",
              "    <tr>\n",
              "      <th>27</th>\n",
              "      <td>Brazil</td>\n",
              "      <td>South America</td>\n",
              "      <td>2.125594e+08</td>\n",
              "      <td>75.88</td>\n",
              "      <td>2.20</td>\n",
              "      <td>14103.452</td>\n",
              "      <td>1.612901e+10</td>\n",
              "    </tr>\n",
              "    <tr>\n",
              "      <th>141</th>\n",
              "      <td>Nigeria</td>\n",
              "      <td>Africa</td>\n",
              "      <td>2.061396e+08</td>\n",
              "      <td>54.69</td>\n",
              "      <td>NaN</td>\n",
              "      <td>5338.454</td>\n",
              "      <td>1.127377e+10</td>\n",
              "    </tr>\n",
              "    <tr>\n",
              "      <th>15</th>\n",
              "      <td>Bangladesh</td>\n",
              "      <td>Asia</td>\n",
              "      <td>1.646894e+08</td>\n",
              "      <td>72.59</td>\n",
              "      <td>0.80</td>\n",
              "      <td>3523.984</td>\n",
              "      <td>1.195480e+10</td>\n",
              "    </tr>\n",
              "    <tr>\n",
              "      <th>157</th>\n",
              "      <td>Russia</td>\n",
              "      <td>Europe</td>\n",
              "      <td>1.459345e+08</td>\n",
              "      <td>72.58</td>\n",
              "      <td>8.05</td>\n",
              "      <td>24765.954</td>\n",
              "      <td>1.059192e+10</td>\n",
              "    </tr>\n",
              "    <tr>\n",
              "      <th>125</th>\n",
              "      <td>Mexico</td>\n",
              "      <td>North America</td>\n",
              "      <td>1.289328e+08</td>\n",
              "      <td>75.05</td>\n",
              "      <td>1.38</td>\n",
              "      <td>17336.469</td>\n",
              "      <td>9.676403e+09</td>\n",
              "    </tr>\n",
              "  </tbody>\n",
              "</table>\n",
              "</div>"
            ],
            "text/plain": [
              "          location      continent  ...  gdp_per_capita  weighted_life_exp\n",
              "41           China           Asia  ...       15308.712       1.106984e+11\n",
              "90           India           Asia  ...        6426.674       9.613111e+10\n",
              "199  United States  North America  ...       54225.446       2.610287e+10\n",
              "91       Indonesia           Asia  ...       11188.744       1.961711e+10\n",
              "145       Pakistan           Asia  ...        5034.708       1.485943e+10\n",
              "27          Brazil  South America  ...       14103.452       1.612901e+10\n",
              "141        Nigeria         Africa  ...        5338.454       1.127377e+10\n",
              "15      Bangladesh           Asia  ...        3523.984       1.195480e+10\n",
              "157         Russia         Europe  ...       24765.954       1.059192e+10\n",
              "125         Mexico  North America  ...       17336.469       9.676403e+09\n",
              "\n",
              "[10 rows x 7 columns]"
            ]
          },
          "metadata": {
            "tags": []
          },
          "execution_count": 30
        }
      ]
    },
    {
      "cell_type": "code",
      "metadata": {
        "id": "Qxl-imBWjh9i",
        "colab_type": "code",
        "colab": {
          "base_uri": "https://localhost:8080/",
          "height": 87
        },
        "outputId": "9b26fbe2-43c4-4971-b48d-9d519676c730"
      },
      "source": [
        "jovian.commit(project='pandas-practice-assignment', environment=None)"
      ],
      "execution_count": 31,
      "outputs": [
        {
          "output_type": "stream",
          "text": [
            "[jovian] Detected Colab notebook...\u001b[0m\n",
            "[jovian] Uploading colab notebook to Jovian...\u001b[0m\n",
            "[jovian] Committed successfully! https://jovian.ml/rahulgarg95/pandas-practice-assignment\u001b[0m\n"
          ],
          "name": "stdout"
        },
        {
          "output_type": "execute_result",
          "data": {
            "application/vnd.google.colaboratory.intrinsic+json": {
              "type": "string"
            },
            "text/plain": [
              "'https://jovian.ml/rahulgarg95/pandas-practice-assignment'"
            ]
          },
          "metadata": {
            "tags": []
          },
          "execution_count": 31
        }
      ]
    },
    {
      "cell_type": "markdown",
      "metadata": {
        "id": "g9Lsc3kbjh9m",
        "colab_type": "text"
      },
      "source": [
        "**Q: Add a new column in `countries_df` to record the overall GDP per country (product of population & per capita GDP).**\n",
        "\n"
      ]
    },
    {
      "cell_type": "code",
      "metadata": {
        "id": "brsklm2Hjh9p",
        "colab_type": "code",
        "colab": {}
      },
      "source": [
        "countries_df['gdp'] = countries_df['population'] * countries_df['gdp_per_capita']"
      ],
      "execution_count": 32,
      "outputs": []
    },
    {
      "cell_type": "code",
      "metadata": {
        "id": "uAFQSKhkjh9u",
        "colab_type": "code",
        "colab": {
          "base_uri": "https://localhost:8080/",
          "height": 415
        },
        "outputId": "c2fef8d6-790e-4dc0-87ae-aad5ac327cf0"
      },
      "source": [
        "countries_df"
      ],
      "execution_count": 33,
      "outputs": [
        {
          "output_type": "execute_result",
          "data": {
            "text/html": [
              "<div>\n",
              "<style scoped>\n",
              "    .dataframe tbody tr th:only-of-type {\n",
              "        vertical-align: middle;\n",
              "    }\n",
              "\n",
              "    .dataframe tbody tr th {\n",
              "        vertical-align: top;\n",
              "    }\n",
              "\n",
              "    .dataframe thead th {\n",
              "        text-align: right;\n",
              "    }\n",
              "</style>\n",
              "<table border=\"1\" class=\"dataframe\">\n",
              "  <thead>\n",
              "    <tr style=\"text-align: right;\">\n",
              "      <th></th>\n",
              "      <th>location</th>\n",
              "      <th>continent</th>\n",
              "      <th>population</th>\n",
              "      <th>life_expectancy</th>\n",
              "      <th>hospital_beds_per_thousand</th>\n",
              "      <th>gdp_per_capita</th>\n",
              "      <th>weighted_life_exp</th>\n",
              "      <th>gdp</th>\n",
              "    </tr>\n",
              "  </thead>\n",
              "  <tbody>\n",
              "    <tr>\n",
              "      <th>0</th>\n",
              "      <td>Afghanistan</td>\n",
              "      <td>Asia</td>\n",
              "      <td>38928341.0</td>\n",
              "      <td>64.83</td>\n",
              "      <td>0.50</td>\n",
              "      <td>1803.987</td>\n",
              "      <td>2.523724e+09</td>\n",
              "      <td>7.022622e+10</td>\n",
              "    </tr>\n",
              "    <tr>\n",
              "      <th>1</th>\n",
              "      <td>Albania</td>\n",
              "      <td>Europe</td>\n",
              "      <td>2877800.0</td>\n",
              "      <td>78.57</td>\n",
              "      <td>2.89</td>\n",
              "      <td>11803.431</td>\n",
              "      <td>2.261087e+08</td>\n",
              "      <td>3.396791e+10</td>\n",
              "    </tr>\n",
              "    <tr>\n",
              "      <th>2</th>\n",
              "      <td>Algeria</td>\n",
              "      <td>Africa</td>\n",
              "      <td>43851043.0</td>\n",
              "      <td>76.88</td>\n",
              "      <td>1.90</td>\n",
              "      <td>13913.839</td>\n",
              "      <td>3.371268e+09</td>\n",
              "      <td>6.101364e+11</td>\n",
              "    </tr>\n",
              "    <tr>\n",
              "      <th>3</th>\n",
              "      <td>Andorra</td>\n",
              "      <td>Europe</td>\n",
              "      <td>77265.0</td>\n",
              "      <td>83.73</td>\n",
              "      <td>NaN</td>\n",
              "      <td>NaN</td>\n",
              "      <td>6.469398e+06</td>\n",
              "      <td>NaN</td>\n",
              "    </tr>\n",
              "    <tr>\n",
              "      <th>4</th>\n",
              "      <td>Angola</td>\n",
              "      <td>Africa</td>\n",
              "      <td>32866268.0</td>\n",
              "      <td>61.15</td>\n",
              "      <td>NaN</td>\n",
              "      <td>5819.495</td>\n",
              "      <td>2.009772e+09</td>\n",
              "      <td>1.912651e+11</td>\n",
              "    </tr>\n",
              "    <tr>\n",
              "      <th>...</th>\n",
              "      <td>...</td>\n",
              "      <td>...</td>\n",
              "      <td>...</td>\n",
              "      <td>...</td>\n",
              "      <td>...</td>\n",
              "      <td>...</td>\n",
              "      <td>...</td>\n",
              "      <td>...</td>\n",
              "    </tr>\n",
              "    <tr>\n",
              "      <th>205</th>\n",
              "      <td>Vietnam</td>\n",
              "      <td>Asia</td>\n",
              "      <td>97338583.0</td>\n",
              "      <td>75.40</td>\n",
              "      <td>2.60</td>\n",
              "      <td>6171.884</td>\n",
              "      <td>7.339329e+09</td>\n",
              "      <td>6.007624e+11</td>\n",
              "    </tr>\n",
              "    <tr>\n",
              "      <th>206</th>\n",
              "      <td>Western Sahara</td>\n",
              "      <td>Africa</td>\n",
              "      <td>597330.0</td>\n",
              "      <td>70.26</td>\n",
              "      <td>NaN</td>\n",
              "      <td>NaN</td>\n",
              "      <td>4.196841e+07</td>\n",
              "      <td>NaN</td>\n",
              "    </tr>\n",
              "    <tr>\n",
              "      <th>207</th>\n",
              "      <td>Yemen</td>\n",
              "      <td>Asia</td>\n",
              "      <td>29825968.0</td>\n",
              "      <td>66.12</td>\n",
              "      <td>0.70</td>\n",
              "      <td>1479.147</td>\n",
              "      <td>1.972093e+09</td>\n",
              "      <td>4.411699e+10</td>\n",
              "    </tr>\n",
              "    <tr>\n",
              "      <th>208</th>\n",
              "      <td>Zambia</td>\n",
              "      <td>Africa</td>\n",
              "      <td>18383956.0</td>\n",
              "      <td>63.89</td>\n",
              "      <td>2.00</td>\n",
              "      <td>3689.251</td>\n",
              "      <td>1.174551e+09</td>\n",
              "      <td>6.782303e+10</td>\n",
              "    </tr>\n",
              "    <tr>\n",
              "      <th>209</th>\n",
              "      <td>Zimbabwe</td>\n",
              "      <td>Africa</td>\n",
              "      <td>14862927.0</td>\n",
              "      <td>61.49</td>\n",
              "      <td>1.70</td>\n",
              "      <td>1899.775</td>\n",
              "      <td>9.139214e+08</td>\n",
              "      <td>2.823622e+10</td>\n",
              "    </tr>\n",
              "  </tbody>\n",
              "</table>\n",
              "<p>210 rows × 8 columns</p>\n",
              "</div>"
            ],
            "text/plain": [
              "           location continent  ...  weighted_life_exp           gdp\n",
              "0       Afghanistan      Asia  ...       2.523724e+09  7.022622e+10\n",
              "1           Albania    Europe  ...       2.261087e+08  3.396791e+10\n",
              "2           Algeria    Africa  ...       3.371268e+09  6.101364e+11\n",
              "3           Andorra    Europe  ...       6.469398e+06           NaN\n",
              "4            Angola    Africa  ...       2.009772e+09  1.912651e+11\n",
              "..              ...       ...  ...                ...           ...\n",
              "205         Vietnam      Asia  ...       7.339329e+09  6.007624e+11\n",
              "206  Western Sahara    Africa  ...       4.196841e+07           NaN\n",
              "207           Yemen      Asia  ...       1.972093e+09  4.411699e+10\n",
              "208          Zambia    Africa  ...       1.174551e+09  6.782303e+10\n",
              "209        Zimbabwe    Africa  ...       9.139214e+08  2.823622e+10\n",
              "\n",
              "[210 rows x 8 columns]"
            ]
          },
          "metadata": {
            "tags": []
          },
          "execution_count": 33
        }
      ]
    },
    {
      "cell_type": "code",
      "metadata": {
        "id": "UgTb5H5Ujh9y",
        "colab_type": "code",
        "colab": {
          "base_uri": "https://localhost:8080/",
          "height": 87
        },
        "outputId": "68da98c7-d860-4028-fef9-aa9a4d6798f2"
      },
      "source": [
        "jovian.commit(project='pandas-practice-assignment', environment=None)"
      ],
      "execution_count": 34,
      "outputs": [
        {
          "output_type": "stream",
          "text": [
            "[jovian] Detected Colab notebook...\u001b[0m\n",
            "[jovian] Uploading colab notebook to Jovian...\u001b[0m\n",
            "[jovian] Committed successfully! https://jovian.ml/rahulgarg95/pandas-practice-assignment\u001b[0m\n"
          ],
          "name": "stdout"
        },
        {
          "output_type": "execute_result",
          "data": {
            "application/vnd.google.colaboratory.intrinsic+json": {
              "type": "string"
            },
            "text/plain": [
              "'https://jovian.ml/rahulgarg95/pandas-practice-assignment'"
            ]
          },
          "metadata": {
            "tags": []
          },
          "execution_count": 34
        }
      ]
    },
    {
      "cell_type": "markdown",
      "metadata": {
        "id": "ZZBB5CCjjh93",
        "colab_type": "text"
      },
      "source": [
        "**Q: (Optional) Create a dataframe containing 10 countries with the lowest GDP per capita, among the counties with population greater than 100 million.**"
      ]
    },
    {
      "cell_type": "code",
      "metadata": {
        "id": "AjyNnQUijh94",
        "colab_type": "code",
        "colab": {}
      },
      "source": [
        "df_gdp_low=countries_df[countries_df.population > 100000000].sort_values('gdp_per_capita').head(10)"
      ],
      "execution_count": 36,
      "outputs": []
    },
    {
      "cell_type": "code",
      "metadata": {
        "id": "fNaaXdaIjh98",
        "colab_type": "code",
        "colab": {
          "base_uri": "https://localhost:8080/",
          "height": 355
        },
        "outputId": "0180abea-3dc1-4b77-cbaf-e84d2dd4dd93"
      },
      "source": [
        "df_gdp_low"
      ],
      "execution_count": 38,
      "outputs": [
        {
          "output_type": "execute_result",
          "data": {
            "text/html": [
              "<div>\n",
              "<style scoped>\n",
              "    .dataframe tbody tr th:only-of-type {\n",
              "        vertical-align: middle;\n",
              "    }\n",
              "\n",
              "    .dataframe tbody tr th {\n",
              "        vertical-align: top;\n",
              "    }\n",
              "\n",
              "    .dataframe thead th {\n",
              "        text-align: right;\n",
              "    }\n",
              "</style>\n",
              "<table border=\"1\" class=\"dataframe\">\n",
              "  <thead>\n",
              "    <tr style=\"text-align: right;\">\n",
              "      <th></th>\n",
              "      <th>location</th>\n",
              "      <th>continent</th>\n",
              "      <th>population</th>\n",
              "      <th>life_expectancy</th>\n",
              "      <th>hospital_beds_per_thousand</th>\n",
              "      <th>gdp_per_capita</th>\n",
              "      <th>weighted_life_exp</th>\n",
              "      <th>gdp</th>\n",
              "    </tr>\n",
              "  </thead>\n",
              "  <tbody>\n",
              "    <tr>\n",
              "      <th>63</th>\n",
              "      <td>Ethiopia</td>\n",
              "      <td>Africa</td>\n",
              "      <td>1.149636e+08</td>\n",
              "      <td>66.60</td>\n",
              "      <td>0.30</td>\n",
              "      <td>1729.927</td>\n",
              "      <td>7.656575e+09</td>\n",
              "      <td>1.988786e+11</td>\n",
              "    </tr>\n",
              "    <tr>\n",
              "      <th>15</th>\n",
              "      <td>Bangladesh</td>\n",
              "      <td>Asia</td>\n",
              "      <td>1.646894e+08</td>\n",
              "      <td>72.59</td>\n",
              "      <td>0.80</td>\n",
              "      <td>3523.984</td>\n",
              "      <td>1.195480e+10</td>\n",
              "      <td>5.803628e+11</td>\n",
              "    </tr>\n",
              "    <tr>\n",
              "      <th>145</th>\n",
              "      <td>Pakistan</td>\n",
              "      <td>Asia</td>\n",
              "      <td>2.208923e+08</td>\n",
              "      <td>67.27</td>\n",
              "      <td>0.60</td>\n",
              "      <td>5034.708</td>\n",
              "      <td>1.485943e+10</td>\n",
              "      <td>1.112128e+12</td>\n",
              "    </tr>\n",
              "    <tr>\n",
              "      <th>141</th>\n",
              "      <td>Nigeria</td>\n",
              "      <td>Africa</td>\n",
              "      <td>2.061396e+08</td>\n",
              "      <td>54.69</td>\n",
              "      <td>NaN</td>\n",
              "      <td>5338.454</td>\n",
              "      <td>1.127377e+10</td>\n",
              "      <td>1.100467e+12</td>\n",
              "    </tr>\n",
              "    <tr>\n",
              "      <th>90</th>\n",
              "      <td>India</td>\n",
              "      <td>Asia</td>\n",
              "      <td>1.380004e+09</td>\n",
              "      <td>69.66</td>\n",
              "      <td>0.53</td>\n",
              "      <td>6426.674</td>\n",
              "      <td>9.613111e+10</td>\n",
              "      <td>8.868838e+12</td>\n",
              "    </tr>\n",
              "    <tr>\n",
              "      <th>151</th>\n",
              "      <td>Philippines</td>\n",
              "      <td>Asia</td>\n",
              "      <td>1.095811e+08</td>\n",
              "      <td>71.23</td>\n",
              "      <td>1.00</td>\n",
              "      <td>7599.188</td>\n",
              "      <td>7.805461e+09</td>\n",
              "      <td>8.327273e+11</td>\n",
              "    </tr>\n",
              "    <tr>\n",
              "      <th>58</th>\n",
              "      <td>Egypt</td>\n",
              "      <td>Africa</td>\n",
              "      <td>1.023344e+08</td>\n",
              "      <td>71.99</td>\n",
              "      <td>1.60</td>\n",
              "      <td>10550.206</td>\n",
              "      <td>7.367054e+09</td>\n",
              "      <td>1.079649e+12</td>\n",
              "    </tr>\n",
              "    <tr>\n",
              "      <th>91</th>\n",
              "      <td>Indonesia</td>\n",
              "      <td>Asia</td>\n",
              "      <td>2.735236e+08</td>\n",
              "      <td>71.72</td>\n",
              "      <td>1.04</td>\n",
              "      <td>11188.744</td>\n",
              "      <td>1.961711e+10</td>\n",
              "      <td>3.060386e+12</td>\n",
              "    </tr>\n",
              "    <tr>\n",
              "      <th>27</th>\n",
              "      <td>Brazil</td>\n",
              "      <td>South America</td>\n",
              "      <td>2.125594e+08</td>\n",
              "      <td>75.88</td>\n",
              "      <td>2.20</td>\n",
              "      <td>14103.452</td>\n",
              "      <td>1.612901e+10</td>\n",
              "      <td>2.997821e+12</td>\n",
              "    </tr>\n",
              "    <tr>\n",
              "      <th>41</th>\n",
              "      <td>China</td>\n",
              "      <td>Asia</td>\n",
              "      <td>1.439324e+09</td>\n",
              "      <td>76.91</td>\n",
              "      <td>4.34</td>\n",
              "      <td>15308.712</td>\n",
              "      <td>1.106984e+11</td>\n",
              "      <td>2.203419e+13</td>\n",
              "    </tr>\n",
              "  </tbody>\n",
              "</table>\n",
              "</div>"
            ],
            "text/plain": [
              "        location      continent  ...  weighted_life_exp           gdp\n",
              "63      Ethiopia         Africa  ...       7.656575e+09  1.988786e+11\n",
              "15    Bangladesh           Asia  ...       1.195480e+10  5.803628e+11\n",
              "145     Pakistan           Asia  ...       1.485943e+10  1.112128e+12\n",
              "141      Nigeria         Africa  ...       1.127377e+10  1.100467e+12\n",
              "90         India           Asia  ...       9.613111e+10  8.868838e+12\n",
              "151  Philippines           Asia  ...       7.805461e+09  8.327273e+11\n",
              "58         Egypt         Africa  ...       7.367054e+09  1.079649e+12\n",
              "91     Indonesia           Asia  ...       1.961711e+10  3.060386e+12\n",
              "27        Brazil  South America  ...       1.612901e+10  2.997821e+12\n",
              "41         China           Asia  ...       1.106984e+11  2.203419e+13\n",
              "\n",
              "[10 rows x 8 columns]"
            ]
          },
          "metadata": {
            "tags": []
          },
          "execution_count": 38
        }
      ]
    },
    {
      "cell_type": "code",
      "metadata": {
        "id": "8J5apDpPjh-A",
        "colab_type": "code",
        "colab": {
          "base_uri": "https://localhost:8080/",
          "height": 87
        },
        "outputId": "cb99e842-7aff-48f6-9aef-fcf1f1ec820a"
      },
      "source": [
        "jovian.commit(project='pandas-practice-assignment', environment=None)"
      ],
      "execution_count": 39,
      "outputs": [
        {
          "output_type": "stream",
          "text": [
            "[jovian] Detected Colab notebook...\u001b[0m\n",
            "[jovian] Uploading colab notebook to Jovian...\u001b[0m\n",
            "[jovian] Committed successfully! https://jovian.ml/rahulgarg95/pandas-practice-assignment\u001b[0m\n"
          ],
          "name": "stdout"
        },
        {
          "output_type": "execute_result",
          "data": {
            "application/vnd.google.colaboratory.intrinsic+json": {
              "type": "string"
            },
            "text/plain": [
              "'https://jovian.ml/rahulgarg95/pandas-practice-assignment'"
            ]
          },
          "metadata": {
            "tags": []
          },
          "execution_count": 39
        }
      ]
    },
    {
      "cell_type": "markdown",
      "metadata": {
        "id": "pFp5Z529jh-F",
        "colab_type": "text"
      },
      "source": [
        "**Q: Create a data frame that counts the number countries in each continent?**\n",
        "\n",
        "*Hint: Use `groupby`, select the `location` column and aggregate using `count`.*"
      ]
    },
    {
      "cell_type": "code",
      "metadata": {
        "id": "Ze2HyUb8jh-F",
        "colab_type": "code",
        "colab": {}
      },
      "source": [
        "country_counts_df = countries_df.groupby('continent')['location'].count().to_frame()"
      ],
      "execution_count": 44,
      "outputs": []
    },
    {
      "cell_type": "code",
      "metadata": {
        "id": "lEGp-_MMjh-I",
        "colab_type": "code",
        "colab": {
          "base_uri": "https://localhost:8080/",
          "height": 263
        },
        "outputId": "e9faa3f0-6437-460e-a1a9-cd93bd865bbb"
      },
      "source": [
        "country_counts_df"
      ],
      "execution_count": 46,
      "outputs": [
        {
          "output_type": "execute_result",
          "data": {
            "text/html": [
              "<div>\n",
              "<style scoped>\n",
              "    .dataframe tbody tr th:only-of-type {\n",
              "        vertical-align: middle;\n",
              "    }\n",
              "\n",
              "    .dataframe tbody tr th {\n",
              "        vertical-align: top;\n",
              "    }\n",
              "\n",
              "    .dataframe thead th {\n",
              "        text-align: right;\n",
              "    }\n",
              "</style>\n",
              "<table border=\"1\" class=\"dataframe\">\n",
              "  <thead>\n",
              "    <tr style=\"text-align: right;\">\n",
              "      <th></th>\n",
              "      <th>location</th>\n",
              "    </tr>\n",
              "    <tr>\n",
              "      <th>continent</th>\n",
              "      <th></th>\n",
              "    </tr>\n",
              "  </thead>\n",
              "  <tbody>\n",
              "    <tr>\n",
              "      <th>Africa</th>\n",
              "      <td>55</td>\n",
              "    </tr>\n",
              "    <tr>\n",
              "      <th>Asia</th>\n",
              "      <td>47</td>\n",
              "    </tr>\n",
              "    <tr>\n",
              "      <th>Europe</th>\n",
              "      <td>51</td>\n",
              "    </tr>\n",
              "    <tr>\n",
              "      <th>North America</th>\n",
              "      <td>36</td>\n",
              "    </tr>\n",
              "    <tr>\n",
              "      <th>Oceania</th>\n",
              "      <td>8</td>\n",
              "    </tr>\n",
              "    <tr>\n",
              "      <th>South America</th>\n",
              "      <td>13</td>\n",
              "    </tr>\n",
              "  </tbody>\n",
              "</table>\n",
              "</div>"
            ],
            "text/plain": [
              "               location\n",
              "continent              \n",
              "Africa               55\n",
              "Asia                 47\n",
              "Europe               51\n",
              "North America        36\n",
              "Oceania               8\n",
              "South America        13"
            ]
          },
          "metadata": {
            "tags": []
          },
          "execution_count": 46
        }
      ]
    },
    {
      "cell_type": "code",
      "metadata": {
        "id": "CTG29gVYjh-L",
        "colab_type": "code",
        "colab": {
          "base_uri": "https://localhost:8080/",
          "height": 87
        },
        "outputId": "b83811f3-e675-4589-8587-0e79c6cb8078"
      },
      "source": [
        "jovian.commit(project='pandas-practice-assignment', environment=None)"
      ],
      "execution_count": 47,
      "outputs": [
        {
          "output_type": "stream",
          "text": [
            "[jovian] Detected Colab notebook...\u001b[0m\n",
            "[jovian] Uploading colab notebook to Jovian...\u001b[0m\n",
            "[jovian] Committed successfully! https://jovian.ml/rahulgarg95/pandas-practice-assignment\u001b[0m\n"
          ],
          "name": "stdout"
        },
        {
          "output_type": "execute_result",
          "data": {
            "application/vnd.google.colaboratory.intrinsic+json": {
              "type": "string"
            },
            "text/plain": [
              "'https://jovian.ml/rahulgarg95/pandas-practice-assignment'"
            ]
          },
          "metadata": {
            "tags": []
          },
          "execution_count": 47
        }
      ]
    },
    {
      "cell_type": "markdown",
      "metadata": {
        "id": "QwW4l7ZEjh-P",
        "colab_type": "text"
      },
      "source": [
        "**Q: Create a data frame showing the total population of each continent.**\n",
        "\n",
        "*Hint: Use `groupby`, select the population column and aggregate using `sum`.*"
      ]
    },
    {
      "cell_type": "code",
      "metadata": {
        "id": "xnHLwNyFjh-P",
        "colab_type": "code",
        "colab": {}
      },
      "source": [
        "continent_populations_df = countries_df.groupby('continent')['population'].sum().to_frame()"
      ],
      "execution_count": 48,
      "outputs": []
    },
    {
      "cell_type": "code",
      "metadata": {
        "id": "tfFKCCcLjh-T",
        "colab_type": "code",
        "colab": {
          "base_uri": "https://localhost:8080/",
          "height": 263
        },
        "outputId": "9a25bd67-ee91-4c86-a8a3-e3c3ea2d8da4"
      },
      "source": [
        "continent_populations_df"
      ],
      "execution_count": 49,
      "outputs": [
        {
          "output_type": "execute_result",
          "data": {
            "text/html": [
              "<div>\n",
              "<style scoped>\n",
              "    .dataframe tbody tr th:only-of-type {\n",
              "        vertical-align: middle;\n",
              "    }\n",
              "\n",
              "    .dataframe tbody tr th {\n",
              "        vertical-align: top;\n",
              "    }\n",
              "\n",
              "    .dataframe thead th {\n",
              "        text-align: right;\n",
              "    }\n",
              "</style>\n",
              "<table border=\"1\" class=\"dataframe\">\n",
              "  <thead>\n",
              "    <tr style=\"text-align: right;\">\n",
              "      <th></th>\n",
              "      <th>population</th>\n",
              "    </tr>\n",
              "    <tr>\n",
              "      <th>continent</th>\n",
              "      <th></th>\n",
              "    </tr>\n",
              "  </thead>\n",
              "  <tbody>\n",
              "    <tr>\n",
              "      <th>Africa</th>\n",
              "      <td>1.339424e+09</td>\n",
              "    </tr>\n",
              "    <tr>\n",
              "      <th>Asia</th>\n",
              "      <td>4.607388e+09</td>\n",
              "    </tr>\n",
              "    <tr>\n",
              "      <th>Europe</th>\n",
              "      <td>7.485062e+08</td>\n",
              "    </tr>\n",
              "    <tr>\n",
              "      <th>North America</th>\n",
              "      <td>5.912425e+08</td>\n",
              "    </tr>\n",
              "    <tr>\n",
              "      <th>Oceania</th>\n",
              "      <td>4.095832e+07</td>\n",
              "    </tr>\n",
              "    <tr>\n",
              "      <th>South America</th>\n",
              "      <td>4.304611e+08</td>\n",
              "    </tr>\n",
              "  </tbody>\n",
              "</table>\n",
              "</div>"
            ],
            "text/plain": [
              "                 population\n",
              "continent                  \n",
              "Africa         1.339424e+09\n",
              "Asia           4.607388e+09\n",
              "Europe         7.485062e+08\n",
              "North America  5.912425e+08\n",
              "Oceania        4.095832e+07\n",
              "South America  4.304611e+08"
            ]
          },
          "metadata": {
            "tags": []
          },
          "execution_count": 49
        }
      ]
    },
    {
      "cell_type": "code",
      "metadata": {
        "id": "LGmHWvZcjh-X",
        "colab_type": "code",
        "colab": {
          "base_uri": "https://localhost:8080/",
          "height": 87
        },
        "outputId": "e2a08974-bdc6-46e3-828e-fc976f2f8ac3"
      },
      "source": [
        "jovian.commit(project='pandas-practice-assignment', environment=None)"
      ],
      "execution_count": 50,
      "outputs": [
        {
          "output_type": "stream",
          "text": [
            "[jovian] Detected Colab notebook...\u001b[0m\n",
            "[jovian] Uploading colab notebook to Jovian...\u001b[0m\n",
            "[jovian] Committed successfully! https://jovian.ml/rahulgarg95/pandas-practice-assignment\u001b[0m\n"
          ],
          "name": "stdout"
        },
        {
          "output_type": "execute_result",
          "data": {
            "application/vnd.google.colaboratory.intrinsic+json": {
              "type": "string"
            },
            "text/plain": [
              "'https://jovian.ml/rahulgarg95/pandas-practice-assignment'"
            ]
          },
          "metadata": {
            "tags": []
          },
          "execution_count": 50
        }
      ]
    },
    {
      "cell_type": "markdown",
      "metadata": {
        "id": "RPhE0YVUjh-a",
        "colab_type": "text"
      },
      "source": [
        "Let's download another CSV file containing overall Covid-19 stats for various countires, and read the data into another Pandas data frame."
      ]
    },
    {
      "cell_type": "code",
      "metadata": {
        "id": "c8qkzZ5Qjh-b",
        "colab_type": "code",
        "colab": {
          "base_uri": "https://localhost:8080/",
          "height": 35
        },
        "outputId": "01f6fb9d-2edb-49ea-e44d-f5ac8a35bec4"
      },
      "source": [
        "urlretrieve('https://hub.jovian.ml/wp-content/uploads/2020/09/covid-countries-data.csv', \n",
        "            'covid-countries-data.csv')"
      ],
      "execution_count": 51,
      "outputs": [
        {
          "output_type": "execute_result",
          "data": {
            "text/plain": [
              "('covid-countries-data.csv', <http.client.HTTPMessage at 0x7f23eb66fb00>)"
            ]
          },
          "metadata": {
            "tags": []
          },
          "execution_count": 51
        }
      ]
    },
    {
      "cell_type": "code",
      "metadata": {
        "id": "4tG0gDoBjh-f",
        "colab_type": "code",
        "colab": {}
      },
      "source": [
        "covid_data_df = pd.read_csv('covid-countries-data.csv')"
      ],
      "execution_count": 52,
      "outputs": []
    },
    {
      "cell_type": "code",
      "metadata": {
        "scrolled": true,
        "id": "HwWGqq9pjh-h",
        "colab_type": "code",
        "colab": {
          "base_uri": "https://localhost:8080/",
          "height": 415
        },
        "outputId": "f8dd69c2-ae4e-460b-a200-ac4b6e36ac47"
      },
      "source": [
        "covid_data_df"
      ],
      "execution_count": 57,
      "outputs": [
        {
          "output_type": "execute_result",
          "data": {
            "text/html": [
              "<div>\n",
              "<style scoped>\n",
              "    .dataframe tbody tr th:only-of-type {\n",
              "        vertical-align: middle;\n",
              "    }\n",
              "\n",
              "    .dataframe tbody tr th {\n",
              "        vertical-align: top;\n",
              "    }\n",
              "\n",
              "    .dataframe thead th {\n",
              "        text-align: right;\n",
              "    }\n",
              "</style>\n",
              "<table border=\"1\" class=\"dataframe\">\n",
              "  <thead>\n",
              "    <tr style=\"text-align: right;\">\n",
              "      <th></th>\n",
              "      <th>location</th>\n",
              "      <th>total_cases</th>\n",
              "      <th>total_deaths</th>\n",
              "      <th>total_tests</th>\n",
              "    </tr>\n",
              "  </thead>\n",
              "  <tbody>\n",
              "    <tr>\n",
              "      <th>0</th>\n",
              "      <td>Afghanistan</td>\n",
              "      <td>38243.0</td>\n",
              "      <td>1409.0</td>\n",
              "      <td>NaN</td>\n",
              "    </tr>\n",
              "    <tr>\n",
              "      <th>1</th>\n",
              "      <td>Albania</td>\n",
              "      <td>9728.0</td>\n",
              "      <td>296.0</td>\n",
              "      <td>NaN</td>\n",
              "    </tr>\n",
              "    <tr>\n",
              "      <th>2</th>\n",
              "      <td>Algeria</td>\n",
              "      <td>45158.0</td>\n",
              "      <td>1525.0</td>\n",
              "      <td>NaN</td>\n",
              "    </tr>\n",
              "    <tr>\n",
              "      <th>3</th>\n",
              "      <td>Andorra</td>\n",
              "      <td>1199.0</td>\n",
              "      <td>53.0</td>\n",
              "      <td>NaN</td>\n",
              "    </tr>\n",
              "    <tr>\n",
              "      <th>4</th>\n",
              "      <td>Angola</td>\n",
              "      <td>2729.0</td>\n",
              "      <td>109.0</td>\n",
              "      <td>NaN</td>\n",
              "    </tr>\n",
              "    <tr>\n",
              "      <th>...</th>\n",
              "      <td>...</td>\n",
              "      <td>...</td>\n",
              "      <td>...</td>\n",
              "      <td>...</td>\n",
              "    </tr>\n",
              "    <tr>\n",
              "      <th>207</th>\n",
              "      <td>Western Sahara</td>\n",
              "      <td>766.0</td>\n",
              "      <td>1.0</td>\n",
              "      <td>NaN</td>\n",
              "    </tr>\n",
              "    <tr>\n",
              "      <th>208</th>\n",
              "      <td>World</td>\n",
              "      <td>26059065.0</td>\n",
              "      <td>863535.0</td>\n",
              "      <td>NaN</td>\n",
              "    </tr>\n",
              "    <tr>\n",
              "      <th>209</th>\n",
              "      <td>Yemen</td>\n",
              "      <td>1976.0</td>\n",
              "      <td>571.0</td>\n",
              "      <td>NaN</td>\n",
              "    </tr>\n",
              "    <tr>\n",
              "      <th>210</th>\n",
              "      <td>Zambia</td>\n",
              "      <td>12415.0</td>\n",
              "      <td>292.0</td>\n",
              "      <td>NaN</td>\n",
              "    </tr>\n",
              "    <tr>\n",
              "      <th>211</th>\n",
              "      <td>Zimbabwe</td>\n",
              "      <td>6638.0</td>\n",
              "      <td>206.0</td>\n",
              "      <td>97272.0</td>\n",
              "    </tr>\n",
              "  </tbody>\n",
              "</table>\n",
              "<p>212 rows × 4 columns</p>\n",
              "</div>"
            ],
            "text/plain": [
              "           location  total_cases  total_deaths  total_tests\n",
              "0       Afghanistan      38243.0        1409.0          NaN\n",
              "1           Albania       9728.0         296.0          NaN\n",
              "2           Algeria      45158.0        1525.0          NaN\n",
              "3           Andorra       1199.0          53.0          NaN\n",
              "4            Angola       2729.0         109.0          NaN\n",
              "..              ...          ...           ...          ...\n",
              "207  Western Sahara        766.0           1.0          NaN\n",
              "208           World   26059065.0      863535.0          NaN\n",
              "209           Yemen       1976.0         571.0          NaN\n",
              "210          Zambia      12415.0         292.0          NaN\n",
              "211        Zimbabwe       6638.0         206.0      97272.0\n",
              "\n",
              "[212 rows x 4 columns]"
            ]
          },
          "metadata": {
            "tags": []
          },
          "execution_count": 57
        }
      ]
    },
    {
      "cell_type": "markdown",
      "metadata": {
        "id": "I5QaPugdjh-k",
        "colab_type": "text"
      },
      "source": [
        "**Q: Count the number of countries for which the `total_tests` data is missing.**\n",
        "\n",
        "*Hint: Use the `.isna` method.*"
      ]
    },
    {
      "cell_type": "code",
      "metadata": {
        "id": "aI71-emYjh-l",
        "colab_type": "code",
        "colab": {}
      },
      "source": [
        "total_tests_missing = covid_data_df[covid_data_df.total_tests.isna()]['location'].count()"
      ],
      "execution_count": 64,
      "outputs": []
    },
    {
      "cell_type": "code",
      "metadata": {
        "id": "lOekhwORsqI2",
        "colab_type": "code",
        "colab": {
          "base_uri": "https://localhost:8080/",
          "height": 35
        },
        "outputId": "01f05b75-0cab-4622-a7f7-49f3d0430620"
      },
      "source": [
        "total_tests_missing"
      ],
      "execution_count": 65,
      "outputs": [
        {
          "output_type": "execute_result",
          "data": {
            "text/plain": [
              "122"
            ]
          },
          "metadata": {
            "tags": []
          },
          "execution_count": 65
        }
      ]
    },
    {
      "cell_type": "code",
      "metadata": {
        "id": "2vSfp-kNjh-p",
        "colab_type": "code",
        "colab": {
          "base_uri": "https://localhost:8080/",
          "height": 35
        },
        "outputId": "b827f828-8f7c-4508-f374-4fb0be72835f"
      },
      "source": [
        "print(\"The data for total tests is missing for {} countries.\".format(int(total_tests_missing)))"
      ],
      "execution_count": 66,
      "outputs": [
        {
          "output_type": "stream",
          "text": [
            "The data for total tests is missing for 122 countries.\n"
          ],
          "name": "stdout"
        }
      ]
    },
    {
      "cell_type": "code",
      "metadata": {
        "id": "xt5fPMnijh-s",
        "colab_type": "code",
        "colab": {
          "base_uri": "https://localhost:8080/",
          "height": 87
        },
        "outputId": "25e84b34-13e1-401e-9592-a03615a50c7c"
      },
      "source": [
        "jovian.commit(project='pandas-practice-assignment', environment=None)"
      ],
      "execution_count": 67,
      "outputs": [
        {
          "output_type": "stream",
          "text": [
            "[jovian] Detected Colab notebook...\u001b[0m\n",
            "[jovian] Uploading colab notebook to Jovian...\u001b[0m\n",
            "[jovian] Committed successfully! https://jovian.ml/rahulgarg95/pandas-practice-assignment\u001b[0m\n"
          ],
          "name": "stdout"
        },
        {
          "output_type": "execute_result",
          "data": {
            "application/vnd.google.colaboratory.intrinsic+json": {
              "type": "string"
            },
            "text/plain": [
              "'https://jovian.ml/rahulgarg95/pandas-practice-assignment'"
            ]
          },
          "metadata": {
            "tags": []
          },
          "execution_count": 67
        }
      ]
    },
    {
      "cell_type": "markdown",
      "metadata": {
        "id": "Ye8Q5IUDjh-y",
        "colab_type": "text"
      },
      "source": [
        "Let's merge the two data frames, and compute some more metrics.\n",
        "\n",
        "**Q: Merge `countries_df` with `covid_data_df` on the `location` column.**\n",
        "\n",
        "*Hint: Use the `.merge` method on `countries_df`."
      ]
    },
    {
      "cell_type": "code",
      "metadata": {
        "id": "DyiTlDMdjh-z",
        "colab_type": "code",
        "colab": {}
      },
      "source": [
        "combined_df = pd.merge(countries_df, covid_data_df, on='location')"
      ],
      "execution_count": 68,
      "outputs": []
    },
    {
      "cell_type": "code",
      "metadata": {
        "id": "3mzVHrWqjh-2",
        "colab_type": "code",
        "colab": {
          "base_uri": "https://localhost:8080/",
          "height": 453
        },
        "outputId": "80bb0372-5cbc-419f-d03b-21703368a5fc"
      },
      "source": [
        "combined_df"
      ],
      "execution_count": 69,
      "outputs": [
        {
          "output_type": "execute_result",
          "data": {
            "text/html": [
              "<div>\n",
              "<style scoped>\n",
              "    .dataframe tbody tr th:only-of-type {\n",
              "        vertical-align: middle;\n",
              "    }\n",
              "\n",
              "    .dataframe tbody tr th {\n",
              "        vertical-align: top;\n",
              "    }\n",
              "\n",
              "    .dataframe thead th {\n",
              "        text-align: right;\n",
              "    }\n",
              "</style>\n",
              "<table border=\"1\" class=\"dataframe\">\n",
              "  <thead>\n",
              "    <tr style=\"text-align: right;\">\n",
              "      <th></th>\n",
              "      <th>location</th>\n",
              "      <th>continent</th>\n",
              "      <th>population</th>\n",
              "      <th>life_expectancy</th>\n",
              "      <th>hospital_beds_per_thousand</th>\n",
              "      <th>gdp_per_capita</th>\n",
              "      <th>weighted_life_exp</th>\n",
              "      <th>gdp</th>\n",
              "      <th>total_cases</th>\n",
              "      <th>total_deaths</th>\n",
              "      <th>total_tests</th>\n",
              "    </tr>\n",
              "  </thead>\n",
              "  <tbody>\n",
              "    <tr>\n",
              "      <th>0</th>\n",
              "      <td>Afghanistan</td>\n",
              "      <td>Asia</td>\n",
              "      <td>38928341.0</td>\n",
              "      <td>64.83</td>\n",
              "      <td>0.50</td>\n",
              "      <td>1803.987</td>\n",
              "      <td>2.523724e+09</td>\n",
              "      <td>7.022622e+10</td>\n",
              "      <td>38243.0</td>\n",
              "      <td>1409.0</td>\n",
              "      <td>NaN</td>\n",
              "    </tr>\n",
              "    <tr>\n",
              "      <th>1</th>\n",
              "      <td>Albania</td>\n",
              "      <td>Europe</td>\n",
              "      <td>2877800.0</td>\n",
              "      <td>78.57</td>\n",
              "      <td>2.89</td>\n",
              "      <td>11803.431</td>\n",
              "      <td>2.261087e+08</td>\n",
              "      <td>3.396791e+10</td>\n",
              "      <td>9728.0</td>\n",
              "      <td>296.0</td>\n",
              "      <td>NaN</td>\n",
              "    </tr>\n",
              "    <tr>\n",
              "      <th>2</th>\n",
              "      <td>Algeria</td>\n",
              "      <td>Africa</td>\n",
              "      <td>43851043.0</td>\n",
              "      <td>76.88</td>\n",
              "      <td>1.90</td>\n",
              "      <td>13913.839</td>\n",
              "      <td>3.371268e+09</td>\n",
              "      <td>6.101364e+11</td>\n",
              "      <td>45158.0</td>\n",
              "      <td>1525.0</td>\n",
              "      <td>NaN</td>\n",
              "    </tr>\n",
              "    <tr>\n",
              "      <th>3</th>\n",
              "      <td>Andorra</td>\n",
              "      <td>Europe</td>\n",
              "      <td>77265.0</td>\n",
              "      <td>83.73</td>\n",
              "      <td>NaN</td>\n",
              "      <td>NaN</td>\n",
              "      <td>6.469398e+06</td>\n",
              "      <td>NaN</td>\n",
              "      <td>1199.0</td>\n",
              "      <td>53.0</td>\n",
              "      <td>NaN</td>\n",
              "    </tr>\n",
              "    <tr>\n",
              "      <th>4</th>\n",
              "      <td>Angola</td>\n",
              "      <td>Africa</td>\n",
              "      <td>32866268.0</td>\n",
              "      <td>61.15</td>\n",
              "      <td>NaN</td>\n",
              "      <td>5819.495</td>\n",
              "      <td>2.009772e+09</td>\n",
              "      <td>1.912651e+11</td>\n",
              "      <td>2729.0</td>\n",
              "      <td>109.0</td>\n",
              "      <td>NaN</td>\n",
              "    </tr>\n",
              "    <tr>\n",
              "      <th>...</th>\n",
              "      <td>...</td>\n",
              "      <td>...</td>\n",
              "      <td>...</td>\n",
              "      <td>...</td>\n",
              "      <td>...</td>\n",
              "      <td>...</td>\n",
              "      <td>...</td>\n",
              "      <td>...</td>\n",
              "      <td>...</td>\n",
              "      <td>...</td>\n",
              "      <td>...</td>\n",
              "    </tr>\n",
              "    <tr>\n",
              "      <th>205</th>\n",
              "      <td>Vietnam</td>\n",
              "      <td>Asia</td>\n",
              "      <td>97338583.0</td>\n",
              "      <td>75.40</td>\n",
              "      <td>2.60</td>\n",
              "      <td>6171.884</td>\n",
              "      <td>7.339329e+09</td>\n",
              "      <td>6.007624e+11</td>\n",
              "      <td>1046.0</td>\n",
              "      <td>35.0</td>\n",
              "      <td>261004.0</td>\n",
              "    </tr>\n",
              "    <tr>\n",
              "      <th>206</th>\n",
              "      <td>Western Sahara</td>\n",
              "      <td>Africa</td>\n",
              "      <td>597330.0</td>\n",
              "      <td>70.26</td>\n",
              "      <td>NaN</td>\n",
              "      <td>NaN</td>\n",
              "      <td>4.196841e+07</td>\n",
              "      <td>NaN</td>\n",
              "      <td>766.0</td>\n",
              "      <td>1.0</td>\n",
              "      <td>NaN</td>\n",
              "    </tr>\n",
              "    <tr>\n",
              "      <th>207</th>\n",
              "      <td>Yemen</td>\n",
              "      <td>Asia</td>\n",
              "      <td>29825968.0</td>\n",
              "      <td>66.12</td>\n",
              "      <td>0.70</td>\n",
              "      <td>1479.147</td>\n",
              "      <td>1.972093e+09</td>\n",
              "      <td>4.411699e+10</td>\n",
              "      <td>1976.0</td>\n",
              "      <td>571.0</td>\n",
              "      <td>NaN</td>\n",
              "    </tr>\n",
              "    <tr>\n",
              "      <th>208</th>\n",
              "      <td>Zambia</td>\n",
              "      <td>Africa</td>\n",
              "      <td>18383956.0</td>\n",
              "      <td>63.89</td>\n",
              "      <td>2.00</td>\n",
              "      <td>3689.251</td>\n",
              "      <td>1.174551e+09</td>\n",
              "      <td>6.782303e+10</td>\n",
              "      <td>12415.0</td>\n",
              "      <td>292.0</td>\n",
              "      <td>NaN</td>\n",
              "    </tr>\n",
              "    <tr>\n",
              "      <th>209</th>\n",
              "      <td>Zimbabwe</td>\n",
              "      <td>Africa</td>\n",
              "      <td>14862927.0</td>\n",
              "      <td>61.49</td>\n",
              "      <td>1.70</td>\n",
              "      <td>1899.775</td>\n",
              "      <td>9.139214e+08</td>\n",
              "      <td>2.823622e+10</td>\n",
              "      <td>6638.0</td>\n",
              "      <td>206.0</td>\n",
              "      <td>97272.0</td>\n",
              "    </tr>\n",
              "  </tbody>\n",
              "</table>\n",
              "<p>210 rows × 11 columns</p>\n",
              "</div>"
            ],
            "text/plain": [
              "           location continent  ...  total_deaths  total_tests\n",
              "0       Afghanistan      Asia  ...        1409.0          NaN\n",
              "1           Albania    Europe  ...         296.0          NaN\n",
              "2           Algeria    Africa  ...        1525.0          NaN\n",
              "3           Andorra    Europe  ...          53.0          NaN\n",
              "4            Angola    Africa  ...         109.0          NaN\n",
              "..              ...       ...  ...           ...          ...\n",
              "205         Vietnam      Asia  ...          35.0     261004.0\n",
              "206  Western Sahara    Africa  ...           1.0          NaN\n",
              "207           Yemen      Asia  ...         571.0          NaN\n",
              "208          Zambia    Africa  ...         292.0          NaN\n",
              "209        Zimbabwe    Africa  ...         206.0      97272.0\n",
              "\n",
              "[210 rows x 11 columns]"
            ]
          },
          "metadata": {
            "tags": []
          },
          "execution_count": 69
        }
      ]
    },
    {
      "cell_type": "code",
      "metadata": {
        "id": "f19eR9d6jh-8",
        "colab_type": "code",
        "colab": {
          "base_uri": "https://localhost:8080/",
          "height": 87
        },
        "outputId": "174d95af-e272-46cd-a336-df21bed3ccc5"
      },
      "source": [
        "jovian.commit(project='pandas-practice-assignment', environment=None)"
      ],
      "execution_count": 70,
      "outputs": [
        {
          "output_type": "stream",
          "text": [
            "[jovian] Detected Colab notebook...\u001b[0m\n",
            "[jovian] Uploading colab notebook to Jovian...\u001b[0m\n",
            "[jovian] Committed successfully! https://jovian.ml/rahulgarg95/pandas-practice-assignment\u001b[0m\n"
          ],
          "name": "stdout"
        },
        {
          "output_type": "execute_result",
          "data": {
            "application/vnd.google.colaboratory.intrinsic+json": {
              "type": "string"
            },
            "text/plain": [
              "'https://jovian.ml/rahulgarg95/pandas-practice-assignment'"
            ]
          },
          "metadata": {
            "tags": []
          },
          "execution_count": 70
        }
      ]
    },
    {
      "cell_type": "markdown",
      "metadata": {
        "id": "JJ9DX7lOjh_A",
        "colab_type": "text"
      },
      "source": [
        "**Q: Add columns `tests_per_million`, `cases_per_million` and `deaths_per_million` into `combined_df`.**"
      ]
    },
    {
      "cell_type": "code",
      "metadata": {
        "id": "KGX47PaLjh_A",
        "colab_type": "code",
        "colab": {}
      },
      "source": [
        "combined_df['tests_per_million'] = combined_df['total_tests'] * 1e6 / combined_df['population']"
      ],
      "execution_count": 72,
      "outputs": []
    },
    {
      "cell_type": "code",
      "metadata": {
        "id": "NQuxJmbfjh_D",
        "colab_type": "code",
        "colab": {}
      },
      "source": [
        "combined_df['cases_per_million'] = combined_df['total_cases'] * 1e6 / combined_df['population']"
      ],
      "execution_count": 73,
      "outputs": []
    },
    {
      "cell_type": "code",
      "metadata": {
        "id": "oekeWYtWjh_F",
        "colab_type": "code",
        "colab": {}
      },
      "source": [
        "combined_df['deaths_per_million'] = combined_df['total_deaths'] * 1e6 / combined_df['population']"
      ],
      "execution_count": 74,
      "outputs": []
    },
    {
      "cell_type": "code",
      "metadata": {
        "id": "xW-Uavu0jh_J",
        "colab_type": "code",
        "colab": {
          "base_uri": "https://localhost:8080/",
          "height": 453
        },
        "outputId": "0acba45c-09d9-47bf-9d34-42cacd796546"
      },
      "source": [
        "combined_df"
      ],
      "execution_count": 75,
      "outputs": [
        {
          "output_type": "execute_result",
          "data": {
            "text/html": [
              "<div>\n",
              "<style scoped>\n",
              "    .dataframe tbody tr th:only-of-type {\n",
              "        vertical-align: middle;\n",
              "    }\n",
              "\n",
              "    .dataframe tbody tr th {\n",
              "        vertical-align: top;\n",
              "    }\n",
              "\n",
              "    .dataframe thead th {\n",
              "        text-align: right;\n",
              "    }\n",
              "</style>\n",
              "<table border=\"1\" class=\"dataframe\">\n",
              "  <thead>\n",
              "    <tr style=\"text-align: right;\">\n",
              "      <th></th>\n",
              "      <th>location</th>\n",
              "      <th>continent</th>\n",
              "      <th>population</th>\n",
              "      <th>life_expectancy</th>\n",
              "      <th>hospital_beds_per_thousand</th>\n",
              "      <th>gdp_per_capita</th>\n",
              "      <th>weighted_life_exp</th>\n",
              "      <th>gdp</th>\n",
              "      <th>total_cases</th>\n",
              "      <th>total_deaths</th>\n",
              "      <th>total_tests</th>\n",
              "      <th>deaths_per_million</th>\n",
              "      <th>tests_per_million</th>\n",
              "      <th>cases_per_million</th>\n",
              "    </tr>\n",
              "  </thead>\n",
              "  <tbody>\n",
              "    <tr>\n",
              "      <th>0</th>\n",
              "      <td>Afghanistan</td>\n",
              "      <td>Asia</td>\n",
              "      <td>38928341.0</td>\n",
              "      <td>64.83</td>\n",
              "      <td>0.50</td>\n",
              "      <td>1803.987</td>\n",
              "      <td>2.523724e+09</td>\n",
              "      <td>7.022622e+10</td>\n",
              "      <td>38243.0</td>\n",
              "      <td>1409.0</td>\n",
              "      <td>NaN</td>\n",
              "      <td>36.194710</td>\n",
              "      <td>NaN</td>\n",
              "      <td>982.394806</td>\n",
              "    </tr>\n",
              "    <tr>\n",
              "      <th>1</th>\n",
              "      <td>Albania</td>\n",
              "      <td>Europe</td>\n",
              "      <td>2877800.0</td>\n",
              "      <td>78.57</td>\n",
              "      <td>2.89</td>\n",
              "      <td>11803.431</td>\n",
              "      <td>2.261087e+08</td>\n",
              "      <td>3.396791e+10</td>\n",
              "      <td>9728.0</td>\n",
              "      <td>296.0</td>\n",
              "      <td>NaN</td>\n",
              "      <td>102.856349</td>\n",
              "      <td>NaN</td>\n",
              "      <td>3380.359997</td>\n",
              "    </tr>\n",
              "    <tr>\n",
              "      <th>2</th>\n",
              "      <td>Algeria</td>\n",
              "      <td>Africa</td>\n",
              "      <td>43851043.0</td>\n",
              "      <td>76.88</td>\n",
              "      <td>1.90</td>\n",
              "      <td>13913.839</td>\n",
              "      <td>3.371268e+09</td>\n",
              "      <td>6.101364e+11</td>\n",
              "      <td>45158.0</td>\n",
              "      <td>1525.0</td>\n",
              "      <td>NaN</td>\n",
              "      <td>34.776824</td>\n",
              "      <td>NaN</td>\n",
              "      <td>1029.804468</td>\n",
              "    </tr>\n",
              "    <tr>\n",
              "      <th>3</th>\n",
              "      <td>Andorra</td>\n",
              "      <td>Europe</td>\n",
              "      <td>77265.0</td>\n",
              "      <td>83.73</td>\n",
              "      <td>NaN</td>\n",
              "      <td>NaN</td>\n",
              "      <td>6.469398e+06</td>\n",
              "      <td>NaN</td>\n",
              "      <td>1199.0</td>\n",
              "      <td>53.0</td>\n",
              "      <td>NaN</td>\n",
              "      <td>685.950948</td>\n",
              "      <td>NaN</td>\n",
              "      <td>15518.022390</td>\n",
              "    </tr>\n",
              "    <tr>\n",
              "      <th>4</th>\n",
              "      <td>Angola</td>\n",
              "      <td>Africa</td>\n",
              "      <td>32866268.0</td>\n",
              "      <td>61.15</td>\n",
              "      <td>NaN</td>\n",
              "      <td>5819.495</td>\n",
              "      <td>2.009772e+09</td>\n",
              "      <td>1.912651e+11</td>\n",
              "      <td>2729.0</td>\n",
              "      <td>109.0</td>\n",
              "      <td>NaN</td>\n",
              "      <td>3.316470</td>\n",
              "      <td>NaN</td>\n",
              "      <td>83.033462</td>\n",
              "    </tr>\n",
              "    <tr>\n",
              "      <th>...</th>\n",
              "      <td>...</td>\n",
              "      <td>...</td>\n",
              "      <td>...</td>\n",
              "      <td>...</td>\n",
              "      <td>...</td>\n",
              "      <td>...</td>\n",
              "      <td>...</td>\n",
              "      <td>...</td>\n",
              "      <td>...</td>\n",
              "      <td>...</td>\n",
              "      <td>...</td>\n",
              "      <td>...</td>\n",
              "      <td>...</td>\n",
              "      <td>...</td>\n",
              "    </tr>\n",
              "    <tr>\n",
              "      <th>205</th>\n",
              "      <td>Vietnam</td>\n",
              "      <td>Asia</td>\n",
              "      <td>97338583.0</td>\n",
              "      <td>75.40</td>\n",
              "      <td>2.60</td>\n",
              "      <td>6171.884</td>\n",
              "      <td>7.339329e+09</td>\n",
              "      <td>6.007624e+11</td>\n",
              "      <td>1046.0</td>\n",
              "      <td>35.0</td>\n",
              "      <td>261004.0</td>\n",
              "      <td>0.359570</td>\n",
              "      <td>2681.403324</td>\n",
              "      <td>10.745996</td>\n",
              "    </tr>\n",
              "    <tr>\n",
              "      <th>206</th>\n",
              "      <td>Western Sahara</td>\n",
              "      <td>Africa</td>\n",
              "      <td>597330.0</td>\n",
              "      <td>70.26</td>\n",
              "      <td>NaN</td>\n",
              "      <td>NaN</td>\n",
              "      <td>4.196841e+07</td>\n",
              "      <td>NaN</td>\n",
              "      <td>766.0</td>\n",
              "      <td>1.0</td>\n",
              "      <td>NaN</td>\n",
              "      <td>1.674116</td>\n",
              "      <td>NaN</td>\n",
              "      <td>1282.373228</td>\n",
              "    </tr>\n",
              "    <tr>\n",
              "      <th>207</th>\n",
              "      <td>Yemen</td>\n",
              "      <td>Asia</td>\n",
              "      <td>29825968.0</td>\n",
              "      <td>66.12</td>\n",
              "      <td>0.70</td>\n",
              "      <td>1479.147</td>\n",
              "      <td>1.972093e+09</td>\n",
              "      <td>4.411699e+10</td>\n",
              "      <td>1976.0</td>\n",
              "      <td>571.0</td>\n",
              "      <td>NaN</td>\n",
              "      <td>19.144391</td>\n",
              "      <td>NaN</td>\n",
              "      <td>66.250993</td>\n",
              "    </tr>\n",
              "    <tr>\n",
              "      <th>208</th>\n",
              "      <td>Zambia</td>\n",
              "      <td>Africa</td>\n",
              "      <td>18383956.0</td>\n",
              "      <td>63.89</td>\n",
              "      <td>2.00</td>\n",
              "      <td>3689.251</td>\n",
              "      <td>1.174551e+09</td>\n",
              "      <td>6.782303e+10</td>\n",
              "      <td>12415.0</td>\n",
              "      <td>292.0</td>\n",
              "      <td>NaN</td>\n",
              "      <td>15.883415</td>\n",
              "      <td>NaN</td>\n",
              "      <td>675.317108</td>\n",
              "    </tr>\n",
              "    <tr>\n",
              "      <th>209</th>\n",
              "      <td>Zimbabwe</td>\n",
              "      <td>Africa</td>\n",
              "      <td>14862927.0</td>\n",
              "      <td>61.49</td>\n",
              "      <td>1.70</td>\n",
              "      <td>1899.775</td>\n",
              "      <td>9.139214e+08</td>\n",
              "      <td>2.823622e+10</td>\n",
              "      <td>6638.0</td>\n",
              "      <td>206.0</td>\n",
              "      <td>97272.0</td>\n",
              "      <td>13.859989</td>\n",
              "      <td>6544.605918</td>\n",
              "      <td>446.614587</td>\n",
              "    </tr>\n",
              "  </tbody>\n",
              "</table>\n",
              "<p>210 rows × 14 columns</p>\n",
              "</div>"
            ],
            "text/plain": [
              "           location continent  ...  tests_per_million  cases_per_million\n",
              "0       Afghanistan      Asia  ...                NaN         982.394806\n",
              "1           Albania    Europe  ...                NaN        3380.359997\n",
              "2           Algeria    Africa  ...                NaN        1029.804468\n",
              "3           Andorra    Europe  ...                NaN       15518.022390\n",
              "4            Angola    Africa  ...                NaN          83.033462\n",
              "..              ...       ...  ...                ...                ...\n",
              "205         Vietnam      Asia  ...        2681.403324          10.745996\n",
              "206  Western Sahara    Africa  ...                NaN        1282.373228\n",
              "207           Yemen      Asia  ...                NaN          66.250993\n",
              "208          Zambia    Africa  ...                NaN         675.317108\n",
              "209        Zimbabwe    Africa  ...        6544.605918         446.614587\n",
              "\n",
              "[210 rows x 14 columns]"
            ]
          },
          "metadata": {
            "tags": []
          },
          "execution_count": 75
        }
      ]
    },
    {
      "cell_type": "code",
      "metadata": {
        "id": "A_n7g0kfjh_M",
        "colab_type": "code",
        "colab": {
          "base_uri": "https://localhost:8080/",
          "height": 87
        },
        "outputId": "efd7a0ce-fdf4-4922-fb18-382496ea7c33"
      },
      "source": [
        "jovian.commit(project='pandas-practice-assignment', environment=None)"
      ],
      "execution_count": 76,
      "outputs": [
        {
          "output_type": "stream",
          "text": [
            "[jovian] Detected Colab notebook...\u001b[0m\n",
            "[jovian] Uploading colab notebook to Jovian...\u001b[0m\n",
            "[jovian] Committed successfully! https://jovian.ml/rahulgarg95/pandas-practice-assignment\u001b[0m\n"
          ],
          "name": "stdout"
        },
        {
          "output_type": "execute_result",
          "data": {
            "application/vnd.google.colaboratory.intrinsic+json": {
              "type": "string"
            },
            "text/plain": [
              "'https://jovian.ml/rahulgarg95/pandas-practice-assignment'"
            ]
          },
          "metadata": {
            "tags": []
          },
          "execution_count": 76
        }
      ]
    },
    {
      "cell_type": "markdown",
      "metadata": {
        "id": "rGDdeJ2cjh_U",
        "colab_type": "text"
      },
      "source": [
        "**Q: Create a dataframe with 10 countires that have highest number of tests per million people.**"
      ]
    },
    {
      "cell_type": "code",
      "metadata": {
        "id": "dvcC0X52jh_U",
        "colab_type": "code",
        "colab": {}
      },
      "source": [
        "highest_tests_df = combined_df.sort_values('tests_per_million',ascending=False).head(10)"
      ],
      "execution_count": 77,
      "outputs": []
    },
    {
      "cell_type": "code",
      "metadata": {
        "id": "_hkUtLABjh_X",
        "colab_type": "code",
        "colab": {
          "base_uri": "https://localhost:8080/",
          "height": 410
        },
        "outputId": "747c551f-3895-4e48-cca2-1de034309528"
      },
      "source": [
        "highest_tests_df"
      ],
      "execution_count": 78,
      "outputs": [
        {
          "output_type": "execute_result",
          "data": {
            "text/html": [
              "<div>\n",
              "<style scoped>\n",
              "    .dataframe tbody tr th:only-of-type {\n",
              "        vertical-align: middle;\n",
              "    }\n",
              "\n",
              "    .dataframe tbody tr th {\n",
              "        vertical-align: top;\n",
              "    }\n",
              "\n",
              "    .dataframe thead th {\n",
              "        text-align: right;\n",
              "    }\n",
              "</style>\n",
              "<table border=\"1\" class=\"dataframe\">\n",
              "  <thead>\n",
              "    <tr style=\"text-align: right;\">\n",
              "      <th></th>\n",
              "      <th>location</th>\n",
              "      <th>continent</th>\n",
              "      <th>population</th>\n",
              "      <th>life_expectancy</th>\n",
              "      <th>hospital_beds_per_thousand</th>\n",
              "      <th>gdp_per_capita</th>\n",
              "      <th>weighted_life_exp</th>\n",
              "      <th>gdp</th>\n",
              "      <th>total_cases</th>\n",
              "      <th>total_deaths</th>\n",
              "      <th>total_tests</th>\n",
              "      <th>deaths_per_million</th>\n",
              "      <th>tests_per_million</th>\n",
              "      <th>cases_per_million</th>\n",
              "    </tr>\n",
              "  </thead>\n",
              "  <tbody>\n",
              "    <tr>\n",
              "      <th>197</th>\n",
              "      <td>United Arab Emirates</td>\n",
              "      <td>Asia</td>\n",
              "      <td>9890400.0</td>\n",
              "      <td>77.97</td>\n",
              "      <td>1.200</td>\n",
              "      <td>67293.483</td>\n",
              "      <td>7.711545e+08</td>\n",
              "      <td>6.655595e+11</td>\n",
              "      <td>71540.0</td>\n",
              "      <td>387.0</td>\n",
              "      <td>7177430.0</td>\n",
              "      <td>39.128852</td>\n",
              "      <td>725696.635121</td>\n",
              "      <td>7233.276713</td>\n",
              "    </tr>\n",
              "    <tr>\n",
              "      <th>14</th>\n",
              "      <td>Bahrain</td>\n",
              "      <td>Asia</td>\n",
              "      <td>1701583.0</td>\n",
              "      <td>77.29</td>\n",
              "      <td>2.000</td>\n",
              "      <td>43290.705</td>\n",
              "      <td>1.315154e+08</td>\n",
              "      <td>7.366273e+10</td>\n",
              "      <td>52440.0</td>\n",
              "      <td>190.0</td>\n",
              "      <td>1118837.0</td>\n",
              "      <td>111.660730</td>\n",
              "      <td>657527.137965</td>\n",
              "      <td>30818.361490</td>\n",
              "    </tr>\n",
              "    <tr>\n",
              "      <th>115</th>\n",
              "      <td>Luxembourg</td>\n",
              "      <td>Europe</td>\n",
              "      <td>625976.0</td>\n",
              "      <td>82.25</td>\n",
              "      <td>4.510</td>\n",
              "      <td>94277.965</td>\n",
              "      <td>5.148653e+07</td>\n",
              "      <td>5.901574e+10</td>\n",
              "      <td>7928.0</td>\n",
              "      <td>124.0</td>\n",
              "      <td>385820.0</td>\n",
              "      <td>198.090662</td>\n",
              "      <td>616349.508607</td>\n",
              "      <td>12665.022301</td>\n",
              "    </tr>\n",
              "    <tr>\n",
              "      <th>122</th>\n",
              "      <td>Malta</td>\n",
              "      <td>Europe</td>\n",
              "      <td>441539.0</td>\n",
              "      <td>82.53</td>\n",
              "      <td>4.485</td>\n",
              "      <td>36513.323</td>\n",
              "      <td>3.644021e+07</td>\n",
              "      <td>1.612206e+10</td>\n",
              "      <td>1931.0</td>\n",
              "      <td>13.0</td>\n",
              "      <td>188539.0</td>\n",
              "      <td>29.442473</td>\n",
              "      <td>427004.183096</td>\n",
              "      <td>4373.339614</td>\n",
              "    </tr>\n",
              "    <tr>\n",
              "      <th>53</th>\n",
              "      <td>Denmark</td>\n",
              "      <td>Europe</td>\n",
              "      <td>5792203.0</td>\n",
              "      <td>80.90</td>\n",
              "      <td>2.500</td>\n",
              "      <td>46682.515</td>\n",
              "      <td>4.685892e+08</td>\n",
              "      <td>2.703946e+11</td>\n",
              "      <td>17195.0</td>\n",
              "      <td>626.0</td>\n",
              "      <td>2447911.0</td>\n",
              "      <td>108.076323</td>\n",
              "      <td>422621.755488</td>\n",
              "      <td>2968.645954</td>\n",
              "    </tr>\n",
              "    <tr>\n",
              "      <th>96</th>\n",
              "      <td>Israel</td>\n",
              "      <td>Asia</td>\n",
              "      <td>8655541.0</td>\n",
              "      <td>82.97</td>\n",
              "      <td>2.990</td>\n",
              "      <td>33132.320</td>\n",
              "      <td>7.181502e+08</td>\n",
              "      <td>2.867782e+11</td>\n",
              "      <td>122539.0</td>\n",
              "      <td>969.0</td>\n",
              "      <td>2353984.0</td>\n",
              "      <td>111.951408</td>\n",
              "      <td>271962.665303</td>\n",
              "      <td>14157.289533</td>\n",
              "    </tr>\n",
              "    <tr>\n",
              "      <th>89</th>\n",
              "      <td>Iceland</td>\n",
              "      <td>Europe</td>\n",
              "      <td>341250.0</td>\n",
              "      <td>82.99</td>\n",
              "      <td>2.910</td>\n",
              "      <td>46482.958</td>\n",
              "      <td>2.832034e+07</td>\n",
              "      <td>1.586231e+10</td>\n",
              "      <td>2121.0</td>\n",
              "      <td>10.0</td>\n",
              "      <td>88829.0</td>\n",
              "      <td>29.304029</td>\n",
              "      <td>260304.761905</td>\n",
              "      <td>6215.384615</td>\n",
              "    </tr>\n",
              "    <tr>\n",
              "      <th>157</th>\n",
              "      <td>Russia</td>\n",
              "      <td>Europe</td>\n",
              "      <td>145934460.0</td>\n",
              "      <td>72.58</td>\n",
              "      <td>8.050</td>\n",
              "      <td>24765.954</td>\n",
              "      <td>1.059192e+10</td>\n",
              "      <td>3.614206e+12</td>\n",
              "      <td>1005000.0</td>\n",
              "      <td>17414.0</td>\n",
              "      <td>37176827.0</td>\n",
              "      <td>119.327539</td>\n",
              "      <td>254750.159763</td>\n",
              "      <td>6886.653091</td>\n",
              "    </tr>\n",
              "    <tr>\n",
              "      <th>199</th>\n",
              "      <td>United States</td>\n",
              "      <td>North America</td>\n",
              "      <td>331002647.0</td>\n",
              "      <td>78.86</td>\n",
              "      <td>2.770</td>\n",
              "      <td>54225.446</td>\n",
              "      <td>2.610287e+10</td>\n",
              "      <td>1.794877e+13</td>\n",
              "      <td>6114406.0</td>\n",
              "      <td>185744.0</td>\n",
              "      <td>83898416.0</td>\n",
              "      <td>561.155633</td>\n",
              "      <td>253467.507769</td>\n",
              "      <td>18472.377957</td>\n",
              "    </tr>\n",
              "    <tr>\n",
              "      <th>10</th>\n",
              "      <td>Australia</td>\n",
              "      <td>Oceania</td>\n",
              "      <td>25499881.0</td>\n",
              "      <td>83.44</td>\n",
              "      <td>3.840</td>\n",
              "      <td>44648.710</td>\n",
              "      <td>2.127710e+09</td>\n",
              "      <td>1.138537e+12</td>\n",
              "      <td>25923.0</td>\n",
              "      <td>663.0</td>\n",
              "      <td>6255797.0</td>\n",
              "      <td>26.000121</td>\n",
              "      <td>245326.517406</td>\n",
              "      <td>1016.592979</td>\n",
              "    </tr>\n",
              "  </tbody>\n",
              "</table>\n",
              "</div>"
            ],
            "text/plain": [
              "                 location      continent  ...  tests_per_million  cases_per_million\n",
              "197  United Arab Emirates           Asia  ...      725696.635121        7233.276713\n",
              "14                Bahrain           Asia  ...      657527.137965       30818.361490\n",
              "115            Luxembourg         Europe  ...      616349.508607       12665.022301\n",
              "122                 Malta         Europe  ...      427004.183096        4373.339614\n",
              "53                Denmark         Europe  ...      422621.755488        2968.645954\n",
              "96                 Israel           Asia  ...      271962.665303       14157.289533\n",
              "89                Iceland         Europe  ...      260304.761905        6215.384615\n",
              "157                Russia         Europe  ...      254750.159763        6886.653091\n",
              "199         United States  North America  ...      253467.507769       18472.377957\n",
              "10              Australia        Oceania  ...      245326.517406        1016.592979\n",
              "\n",
              "[10 rows x 14 columns]"
            ]
          },
          "metadata": {
            "tags": []
          },
          "execution_count": 78
        }
      ]
    },
    {
      "cell_type": "code",
      "metadata": {
        "id": "QIppImpEjh_a",
        "colab_type": "code",
        "colab": {
          "base_uri": "https://localhost:8080/",
          "height": 87
        },
        "outputId": "a191e31b-568b-4fc6-d659-02a133fbad02"
      },
      "source": [
        "jovian.commit(project='pandas-practice-assignment', environment=None)"
      ],
      "execution_count": 79,
      "outputs": [
        {
          "output_type": "stream",
          "text": [
            "[jovian] Detected Colab notebook...\u001b[0m\n",
            "[jovian] Uploading colab notebook to Jovian...\u001b[0m\n",
            "[jovian] Committed successfully! https://jovian.ml/rahulgarg95/pandas-practice-assignment\u001b[0m\n"
          ],
          "name": "stdout"
        },
        {
          "output_type": "execute_result",
          "data": {
            "application/vnd.google.colaboratory.intrinsic+json": {
              "type": "string"
            },
            "text/plain": [
              "'https://jovian.ml/rahulgarg95/pandas-practice-assignment'"
            ]
          },
          "metadata": {
            "tags": []
          },
          "execution_count": 79
        }
      ]
    },
    {
      "cell_type": "markdown",
      "metadata": {
        "id": "6Trvk9UUjh_d",
        "colab_type": "text"
      },
      "source": [
        "**Q: Create a dataframe with 10 countires that have highest number of positive cases per million people.**"
      ]
    },
    {
      "cell_type": "code",
      "metadata": {
        "id": "1yMpxwxSjh_d",
        "colab_type": "code",
        "colab": {}
      },
      "source": [
        "highest_cases_df = combined_df.sort_values('cases_per_million',ascending=False).head(10)"
      ],
      "execution_count": 80,
      "outputs": []
    },
    {
      "cell_type": "code",
      "metadata": {
        "id": "tJ3tsSIcjh_i",
        "colab_type": "code",
        "colab": {
          "base_uri": "https://localhost:8080/",
          "height": 497
        },
        "outputId": "f6883d8c-c882-4823-dad1-025e1be20c32"
      },
      "source": [
        "highest_cases_df"
      ],
      "execution_count": 81,
      "outputs": [
        {
          "output_type": "execute_result",
          "data": {
            "text/html": [
              "<div>\n",
              "<style scoped>\n",
              "    .dataframe tbody tr th:only-of-type {\n",
              "        vertical-align: middle;\n",
              "    }\n",
              "\n",
              "    .dataframe tbody tr th {\n",
              "        vertical-align: top;\n",
              "    }\n",
              "\n",
              "    .dataframe thead th {\n",
              "        text-align: right;\n",
              "    }\n",
              "</style>\n",
              "<table border=\"1\" class=\"dataframe\">\n",
              "  <thead>\n",
              "    <tr style=\"text-align: right;\">\n",
              "      <th></th>\n",
              "      <th>location</th>\n",
              "      <th>continent</th>\n",
              "      <th>population</th>\n",
              "      <th>life_expectancy</th>\n",
              "      <th>hospital_beds_per_thousand</th>\n",
              "      <th>gdp_per_capita</th>\n",
              "      <th>weighted_life_exp</th>\n",
              "      <th>gdp</th>\n",
              "      <th>total_cases</th>\n",
              "      <th>total_deaths</th>\n",
              "      <th>total_tests</th>\n",
              "      <th>deaths_per_million</th>\n",
              "      <th>tests_per_million</th>\n",
              "      <th>cases_per_million</th>\n",
              "    </tr>\n",
              "  </thead>\n",
              "  <tbody>\n",
              "    <tr>\n",
              "      <th>155</th>\n",
              "      <td>Qatar</td>\n",
              "      <td>Asia</td>\n",
              "      <td>2881060.0</td>\n",
              "      <td>80.23</td>\n",
              "      <td>1.20</td>\n",
              "      <td>116935.600</td>\n",
              "      <td>2.311474e+08</td>\n",
              "      <td>3.368985e+11</td>\n",
              "      <td>119206.0</td>\n",
              "      <td>199.0</td>\n",
              "      <td>634745.0</td>\n",
              "      <td>69.071800</td>\n",
              "      <td>220316.480740</td>\n",
              "      <td>41375.743650</td>\n",
              "    </tr>\n",
              "    <tr>\n",
              "      <th>14</th>\n",
              "      <td>Bahrain</td>\n",
              "      <td>Asia</td>\n",
              "      <td>1701583.0</td>\n",
              "      <td>77.29</td>\n",
              "      <td>2.00</td>\n",
              "      <td>43290.705</td>\n",
              "      <td>1.315154e+08</td>\n",
              "      <td>7.366273e+10</td>\n",
              "      <td>52440.0</td>\n",
              "      <td>190.0</td>\n",
              "      <td>1118837.0</td>\n",
              "      <td>111.660730</td>\n",
              "      <td>657527.137965</td>\n",
              "      <td>30818.361490</td>\n",
              "    </tr>\n",
              "    <tr>\n",
              "      <th>147</th>\n",
              "      <td>Panama</td>\n",
              "      <td>North America</td>\n",
              "      <td>4314768.0</td>\n",
              "      <td>78.51</td>\n",
              "      <td>2.30</td>\n",
              "      <td>22267.037</td>\n",
              "      <td>3.387524e+08</td>\n",
              "      <td>9.607710e+10</td>\n",
              "      <td>94084.0</td>\n",
              "      <td>2030.0</td>\n",
              "      <td>336345.0</td>\n",
              "      <td>470.477208</td>\n",
              "      <td>77952.047480</td>\n",
              "      <td>21805.112117</td>\n",
              "    </tr>\n",
              "    <tr>\n",
              "      <th>40</th>\n",
              "      <td>Chile</td>\n",
              "      <td>South America</td>\n",
              "      <td>19116209.0</td>\n",
              "      <td>80.18</td>\n",
              "      <td>2.11</td>\n",
              "      <td>22767.037</td>\n",
              "      <td>1.532738e+09</td>\n",
              "      <td>4.352194e+11</td>\n",
              "      <td>414739.0</td>\n",
              "      <td>11344.0</td>\n",
              "      <td>2458762.0</td>\n",
              "      <td>593.423100</td>\n",
              "      <td>128621.841287</td>\n",
              "      <td>21695.671982</td>\n",
              "    </tr>\n",
              "    <tr>\n",
              "      <th>162</th>\n",
              "      <td>San Marino</td>\n",
              "      <td>Europe</td>\n",
              "      <td>33938.0</td>\n",
              "      <td>84.97</td>\n",
              "      <td>3.80</td>\n",
              "      <td>56861.470</td>\n",
              "      <td>2.883712e+06</td>\n",
              "      <td>1.929765e+09</td>\n",
              "      <td>735.0</td>\n",
              "      <td>42.0</td>\n",
              "      <td>NaN</td>\n",
              "      <td>1237.550828</td>\n",
              "      <td>NaN</td>\n",
              "      <td>21657.139490</td>\n",
              "    </tr>\n",
              "    <tr>\n",
              "      <th>9</th>\n",
              "      <td>Aruba</td>\n",
              "      <td>North America</td>\n",
              "      <td>106766.0</td>\n",
              "      <td>76.29</td>\n",
              "      <td>NaN</td>\n",
              "      <td>35973.781</td>\n",
              "      <td>8.145178e+06</td>\n",
              "      <td>3.840777e+09</td>\n",
              "      <td>2211.0</td>\n",
              "      <td>12.0</td>\n",
              "      <td>NaN</td>\n",
              "      <td>112.395332</td>\n",
              "      <td>NaN</td>\n",
              "      <td>20708.839893</td>\n",
              "    </tr>\n",
              "    <tr>\n",
              "      <th>105</th>\n",
              "      <td>Kuwait</td>\n",
              "      <td>Asia</td>\n",
              "      <td>4270563.0</td>\n",
              "      <td>75.49</td>\n",
              "      <td>2.00</td>\n",
              "      <td>65530.537</td>\n",
              "      <td>3.223848e+08</td>\n",
              "      <td>2.798523e+11</td>\n",
              "      <td>86478.0</td>\n",
              "      <td>535.0</td>\n",
              "      <td>621616.0</td>\n",
              "      <td>125.276222</td>\n",
              "      <td>145558.325682</td>\n",
              "      <td>20249.789079</td>\n",
              "    </tr>\n",
              "    <tr>\n",
              "      <th>150</th>\n",
              "      <td>Peru</td>\n",
              "      <td>South America</td>\n",
              "      <td>32971846.0</td>\n",
              "      <td>76.74</td>\n",
              "      <td>1.60</td>\n",
              "      <td>12236.706</td>\n",
              "      <td>2.530259e+09</td>\n",
              "      <td>4.034668e+11</td>\n",
              "      <td>663437.0</td>\n",
              "      <td>29259.0</td>\n",
              "      <td>584232.0</td>\n",
              "      <td>887.393445</td>\n",
              "      <td>17719.117092</td>\n",
              "      <td>20121.318048</td>\n",
              "    </tr>\n",
              "    <tr>\n",
              "      <th>27</th>\n",
              "      <td>Brazil</td>\n",
              "      <td>South America</td>\n",
              "      <td>212559409.0</td>\n",
              "      <td>75.88</td>\n",
              "      <td>2.20</td>\n",
              "      <td>14103.452</td>\n",
              "      <td>1.612901e+10</td>\n",
              "      <td>2.997821e+12</td>\n",
              "      <td>3997865.0</td>\n",
              "      <td>123780.0</td>\n",
              "      <td>4797948.0</td>\n",
              "      <td>582.331314</td>\n",
              "      <td>22572.268255</td>\n",
              "      <td>18808.224105</td>\n",
              "    </tr>\n",
              "    <tr>\n",
              "      <th>199</th>\n",
              "      <td>United States</td>\n",
              "      <td>North America</td>\n",
              "      <td>331002647.0</td>\n",
              "      <td>78.86</td>\n",
              "      <td>2.77</td>\n",
              "      <td>54225.446</td>\n",
              "      <td>2.610287e+10</td>\n",
              "      <td>1.794877e+13</td>\n",
              "      <td>6114406.0</td>\n",
              "      <td>185744.0</td>\n",
              "      <td>83898416.0</td>\n",
              "      <td>561.155633</td>\n",
              "      <td>253467.507769</td>\n",
              "      <td>18472.377957</td>\n",
              "    </tr>\n",
              "  </tbody>\n",
              "</table>\n",
              "</div>"
            ],
            "text/plain": [
              "          location      continent  ...  tests_per_million  cases_per_million\n",
              "155          Qatar           Asia  ...      220316.480740       41375.743650\n",
              "14         Bahrain           Asia  ...      657527.137965       30818.361490\n",
              "147         Panama  North America  ...       77952.047480       21805.112117\n",
              "40           Chile  South America  ...      128621.841287       21695.671982\n",
              "162     San Marino         Europe  ...                NaN       21657.139490\n",
              "9            Aruba  North America  ...                NaN       20708.839893\n",
              "105         Kuwait           Asia  ...      145558.325682       20249.789079\n",
              "150           Peru  South America  ...       17719.117092       20121.318048\n",
              "27          Brazil  South America  ...       22572.268255       18808.224105\n",
              "199  United States  North America  ...      253467.507769       18472.377957\n",
              "\n",
              "[10 rows x 14 columns]"
            ]
          },
          "metadata": {
            "tags": []
          },
          "execution_count": 81
        }
      ]
    },
    {
      "cell_type": "code",
      "metadata": {
        "id": "EBwUEGfDjh_l",
        "colab_type": "code",
        "colab": {
          "base_uri": "https://localhost:8080/",
          "height": 87
        },
        "outputId": "883d2fd7-e718-457f-86ca-d6ead251ebbb"
      },
      "source": [
        "jovian.commit(project='pandas-practice-assignment', environment=None)"
      ],
      "execution_count": 82,
      "outputs": [
        {
          "output_type": "stream",
          "text": [
            "[jovian] Detected Colab notebook...\u001b[0m\n",
            "[jovian] Uploading colab notebook to Jovian...\u001b[0m\n",
            "[jovian] Committed successfully! https://jovian.ml/rahulgarg95/pandas-practice-assignment\u001b[0m\n"
          ],
          "name": "stdout"
        },
        {
          "output_type": "execute_result",
          "data": {
            "application/vnd.google.colaboratory.intrinsic+json": {
              "type": "string"
            },
            "text/plain": [
              "'https://jovian.ml/rahulgarg95/pandas-practice-assignment'"
            ]
          },
          "metadata": {
            "tags": []
          },
          "execution_count": 82
        }
      ]
    },
    {
      "cell_type": "markdown",
      "metadata": {
        "id": "RHNhbfORjh_n",
        "colab_type": "text"
      },
      "source": [
        "**Q: Create a dataframe with 10 countires that have highest number of deaths cases per million people?**"
      ]
    },
    {
      "cell_type": "code",
      "metadata": {
        "id": "su43vqTujh_o",
        "colab_type": "code",
        "colab": {}
      },
      "source": [
        "highest_deaths_df = combined_df.sort_values('deaths_per_million',ascending=False).head(10)"
      ],
      "execution_count": 83,
      "outputs": []
    },
    {
      "cell_type": "code",
      "metadata": {
        "id": "Jx9OPXpyjh_r",
        "colab_type": "code",
        "colab": {
          "base_uri": "https://localhost:8080/",
          "height": 462
        },
        "outputId": "bd5eaae6-471d-4ffb-c2ea-cf1afa9223ff"
      },
      "source": [
        "highest_deaths_df"
      ],
      "execution_count": 84,
      "outputs": [
        {
          "output_type": "execute_result",
          "data": {
            "text/html": [
              "<div>\n",
              "<style scoped>\n",
              "    .dataframe tbody tr th:only-of-type {\n",
              "        vertical-align: middle;\n",
              "    }\n",
              "\n",
              "    .dataframe tbody tr th {\n",
              "        vertical-align: top;\n",
              "    }\n",
              "\n",
              "    .dataframe thead th {\n",
              "        text-align: right;\n",
              "    }\n",
              "</style>\n",
              "<table border=\"1\" class=\"dataframe\">\n",
              "  <thead>\n",
              "    <tr style=\"text-align: right;\">\n",
              "      <th></th>\n",
              "      <th>location</th>\n",
              "      <th>continent</th>\n",
              "      <th>population</th>\n",
              "      <th>life_expectancy</th>\n",
              "      <th>hospital_beds_per_thousand</th>\n",
              "      <th>gdp_per_capita</th>\n",
              "      <th>weighted_life_exp</th>\n",
              "      <th>gdp</th>\n",
              "      <th>total_cases</th>\n",
              "      <th>total_deaths</th>\n",
              "      <th>total_tests</th>\n",
              "      <th>deaths_per_million</th>\n",
              "      <th>tests_per_million</th>\n",
              "      <th>cases_per_million</th>\n",
              "    </tr>\n",
              "  </thead>\n",
              "  <tbody>\n",
              "    <tr>\n",
              "      <th>162</th>\n",
              "      <td>San Marino</td>\n",
              "      <td>Europe</td>\n",
              "      <td>33938.0</td>\n",
              "      <td>84.97</td>\n",
              "      <td>3.80</td>\n",
              "      <td>56861.470</td>\n",
              "      <td>2.883712e+06</td>\n",
              "      <td>1.929765e+09</td>\n",
              "      <td>735.0</td>\n",
              "      <td>42.0</td>\n",
              "      <td>NaN</td>\n",
              "      <td>1237.550828</td>\n",
              "      <td>NaN</td>\n",
              "      <td>21657.139490</td>\n",
              "    </tr>\n",
              "    <tr>\n",
              "      <th>150</th>\n",
              "      <td>Peru</td>\n",
              "      <td>South America</td>\n",
              "      <td>32971846.0</td>\n",
              "      <td>76.74</td>\n",
              "      <td>1.60</td>\n",
              "      <td>12236.706</td>\n",
              "      <td>2.530259e+09</td>\n",
              "      <td>4.034668e+11</td>\n",
              "      <td>663437.0</td>\n",
              "      <td>29259.0</td>\n",
              "      <td>584232.0</td>\n",
              "      <td>887.393445</td>\n",
              "      <td>17719.117092</td>\n",
              "      <td>20121.318048</td>\n",
              "    </tr>\n",
              "    <tr>\n",
              "      <th>18</th>\n",
              "      <td>Belgium</td>\n",
              "      <td>Europe</td>\n",
              "      <td>11589616.0</td>\n",
              "      <td>81.63</td>\n",
              "      <td>5.64</td>\n",
              "      <td>42658.576</td>\n",
              "      <td>9.460604e+08</td>\n",
              "      <td>4.943965e+11</td>\n",
              "      <td>85817.0</td>\n",
              "      <td>9898.0</td>\n",
              "      <td>2281853.0</td>\n",
              "      <td>854.040375</td>\n",
              "      <td>196887.713967</td>\n",
              "      <td>7404.645676</td>\n",
              "    </tr>\n",
              "    <tr>\n",
              "      <th>3</th>\n",
              "      <td>Andorra</td>\n",
              "      <td>Europe</td>\n",
              "      <td>77265.0</td>\n",
              "      <td>83.73</td>\n",
              "      <td>NaN</td>\n",
              "      <td>NaN</td>\n",
              "      <td>6.469398e+06</td>\n",
              "      <td>NaN</td>\n",
              "      <td>1199.0</td>\n",
              "      <td>53.0</td>\n",
              "      <td>NaN</td>\n",
              "      <td>685.950948</td>\n",
              "      <td>NaN</td>\n",
              "      <td>15518.022390</td>\n",
              "    </tr>\n",
              "    <tr>\n",
              "      <th>177</th>\n",
              "      <td>Spain</td>\n",
              "      <td>Europe</td>\n",
              "      <td>46754783.0</td>\n",
              "      <td>83.56</td>\n",
              "      <td>2.97</td>\n",
              "      <td>34272.360</td>\n",
              "      <td>3.906830e+09</td>\n",
              "      <td>1.602397e+12</td>\n",
              "      <td>479554.0</td>\n",
              "      <td>29194.0</td>\n",
              "      <td>6416533.0</td>\n",
              "      <td>624.406705</td>\n",
              "      <td>137238.001939</td>\n",
              "      <td>10256.790198</td>\n",
              "    </tr>\n",
              "    <tr>\n",
              "      <th>198</th>\n",
              "      <td>United Kingdom</td>\n",
              "      <td>Europe</td>\n",
              "      <td>67886004.0</td>\n",
              "      <td>81.32</td>\n",
              "      <td>2.54</td>\n",
              "      <td>39753.244</td>\n",
              "      <td>5.520490e+09</td>\n",
              "      <td>2.698689e+12</td>\n",
              "      <td>338676.0</td>\n",
              "      <td>41514.0</td>\n",
              "      <td>13447568.0</td>\n",
              "      <td>611.525168</td>\n",
              "      <td>198090.434075</td>\n",
              "      <td>4988.892850</td>\n",
              "    </tr>\n",
              "    <tr>\n",
              "      <th>40</th>\n",
              "      <td>Chile</td>\n",
              "      <td>South America</td>\n",
              "      <td>19116209.0</td>\n",
              "      <td>80.18</td>\n",
              "      <td>2.11</td>\n",
              "      <td>22767.037</td>\n",
              "      <td>1.532738e+09</td>\n",
              "      <td>4.352194e+11</td>\n",
              "      <td>414739.0</td>\n",
              "      <td>11344.0</td>\n",
              "      <td>2458762.0</td>\n",
              "      <td>593.423100</td>\n",
              "      <td>128621.841287</td>\n",
              "      <td>21695.671982</td>\n",
              "    </tr>\n",
              "    <tr>\n",
              "      <th>97</th>\n",
              "      <td>Italy</td>\n",
              "      <td>Europe</td>\n",
              "      <td>60461828.0</td>\n",
              "      <td>83.51</td>\n",
              "      <td>3.18</td>\n",
              "      <td>35220.084</td>\n",
              "      <td>5.049167e+09</td>\n",
              "      <td>2.129471e+12</td>\n",
              "      <td>271515.0</td>\n",
              "      <td>35497.0</td>\n",
              "      <td>5214766.0</td>\n",
              "      <td>587.097697</td>\n",
              "      <td>86248.897403</td>\n",
              "      <td>4490.684602</td>\n",
              "    </tr>\n",
              "    <tr>\n",
              "      <th>27</th>\n",
              "      <td>Brazil</td>\n",
              "      <td>South America</td>\n",
              "      <td>212559409.0</td>\n",
              "      <td>75.88</td>\n",
              "      <td>2.20</td>\n",
              "      <td>14103.452</td>\n",
              "      <td>1.612901e+10</td>\n",
              "      <td>2.997821e+12</td>\n",
              "      <td>3997865.0</td>\n",
              "      <td>123780.0</td>\n",
              "      <td>4797948.0</td>\n",
              "      <td>582.331314</td>\n",
              "      <td>22572.268255</td>\n",
              "      <td>18808.224105</td>\n",
              "    </tr>\n",
              "    <tr>\n",
              "      <th>182</th>\n",
              "      <td>Sweden</td>\n",
              "      <td>Europe</td>\n",
              "      <td>10099270.0</td>\n",
              "      <td>82.80</td>\n",
              "      <td>2.22</td>\n",
              "      <td>46949.283</td>\n",
              "      <td>8.362196e+08</td>\n",
              "      <td>4.741535e+11</td>\n",
              "      <td>84532.0</td>\n",
              "      <td>5820.0</td>\n",
              "      <td>NaN</td>\n",
              "      <td>576.279276</td>\n",
              "      <td>NaN</td>\n",
              "      <td>8370.109919</td>\n",
              "    </tr>\n",
              "  </tbody>\n",
              "</table>\n",
              "</div>"
            ],
            "text/plain": [
              "           location      continent  ...  tests_per_million  cases_per_million\n",
              "162      San Marino         Europe  ...                NaN       21657.139490\n",
              "150            Peru  South America  ...       17719.117092       20121.318048\n",
              "18          Belgium         Europe  ...      196887.713967        7404.645676\n",
              "3           Andorra         Europe  ...                NaN       15518.022390\n",
              "177           Spain         Europe  ...      137238.001939       10256.790198\n",
              "198  United Kingdom         Europe  ...      198090.434075        4988.892850\n",
              "40            Chile  South America  ...      128621.841287       21695.671982\n",
              "97            Italy         Europe  ...       86248.897403        4490.684602\n",
              "27           Brazil  South America  ...       22572.268255       18808.224105\n",
              "182          Sweden         Europe  ...                NaN        8370.109919\n",
              "\n",
              "[10 rows x 14 columns]"
            ]
          },
          "metadata": {
            "tags": []
          },
          "execution_count": 84
        }
      ]
    },
    {
      "cell_type": "code",
      "metadata": {
        "id": "LDxKGa9Tjh_t",
        "colab_type": "code",
        "colab": {
          "base_uri": "https://localhost:8080/",
          "height": 87
        },
        "outputId": "182a0772-5a1c-41a0-d8ef-363207693837"
      },
      "source": [
        "jovian.commit(project='pandas-practice-assignment', environment=None)"
      ],
      "execution_count": 85,
      "outputs": [
        {
          "output_type": "stream",
          "text": [
            "[jovian] Detected Colab notebook...\u001b[0m\n",
            "[jovian] Uploading colab notebook to Jovian...\u001b[0m\n",
            "[jovian] Committed successfully! https://jovian.ml/rahulgarg95/pandas-practice-assignment\u001b[0m\n"
          ],
          "name": "stdout"
        },
        {
          "output_type": "execute_result",
          "data": {
            "application/vnd.google.colaboratory.intrinsic+json": {
              "type": "string"
            },
            "text/plain": [
              "'https://jovian.ml/rahulgarg95/pandas-practice-assignment'"
            ]
          },
          "metadata": {
            "tags": []
          },
          "execution_count": 85
        }
      ]
    },
    {
      "cell_type": "markdown",
      "metadata": {
        "id": "1KEEDHSVjh_w",
        "colab_type": "text"
      },
      "source": [
        "**(Optional) Q: Count number of countries that feature in both the lists of \"highest number of tests per million\" and \"highest number of cases per million\".**"
      ]
    },
    {
      "cell_type": "code",
      "metadata": {
        "id": "mYWKVxKyjh_x",
        "colab_type": "code",
        "colab": {}
      },
      "source": [
        "df_merge=pd.merge(highest_cases_df,highest_tests_df[['location']],on='location')"
      ],
      "execution_count": 88,
      "outputs": []
    },
    {
      "cell_type": "code",
      "metadata": {
        "id": "PGsKQ2Pfjh_0",
        "colab_type": "code",
        "colab": {
          "base_uri": "https://localhost:8080/",
          "height": 147
        },
        "outputId": "4d9d93e5-927d-4cc6-b3c6-689ef0d7cb75"
      },
      "source": [
        "df_merge"
      ],
      "execution_count": 89,
      "outputs": [
        {
          "output_type": "execute_result",
          "data": {
            "text/html": [
              "<div>\n",
              "<style scoped>\n",
              "    .dataframe tbody tr th:only-of-type {\n",
              "        vertical-align: middle;\n",
              "    }\n",
              "\n",
              "    .dataframe tbody tr th {\n",
              "        vertical-align: top;\n",
              "    }\n",
              "\n",
              "    .dataframe thead th {\n",
              "        text-align: right;\n",
              "    }\n",
              "</style>\n",
              "<table border=\"1\" class=\"dataframe\">\n",
              "  <thead>\n",
              "    <tr style=\"text-align: right;\">\n",
              "      <th></th>\n",
              "      <th>location</th>\n",
              "      <th>continent</th>\n",
              "      <th>population</th>\n",
              "      <th>life_expectancy</th>\n",
              "      <th>hospital_beds_per_thousand</th>\n",
              "      <th>gdp_per_capita</th>\n",
              "      <th>weighted_life_exp</th>\n",
              "      <th>gdp</th>\n",
              "      <th>total_cases</th>\n",
              "      <th>total_deaths</th>\n",
              "      <th>total_tests</th>\n",
              "      <th>deaths_per_million</th>\n",
              "      <th>tests_per_million</th>\n",
              "      <th>cases_per_million</th>\n",
              "    </tr>\n",
              "  </thead>\n",
              "  <tbody>\n",
              "    <tr>\n",
              "      <th>0</th>\n",
              "      <td>Bahrain</td>\n",
              "      <td>Asia</td>\n",
              "      <td>1701583.0</td>\n",
              "      <td>77.29</td>\n",
              "      <td>2.00</td>\n",
              "      <td>43290.705</td>\n",
              "      <td>1.315154e+08</td>\n",
              "      <td>7.366273e+10</td>\n",
              "      <td>52440.0</td>\n",
              "      <td>190.0</td>\n",
              "      <td>1118837.0</td>\n",
              "      <td>111.660730</td>\n",
              "      <td>657527.137965</td>\n",
              "      <td>30818.361490</td>\n",
              "    </tr>\n",
              "    <tr>\n",
              "      <th>1</th>\n",
              "      <td>United States</td>\n",
              "      <td>North America</td>\n",
              "      <td>331002647.0</td>\n",
              "      <td>78.86</td>\n",
              "      <td>2.77</td>\n",
              "      <td>54225.446</td>\n",
              "      <td>2.610287e+10</td>\n",
              "      <td>1.794877e+13</td>\n",
              "      <td>6114406.0</td>\n",
              "      <td>185744.0</td>\n",
              "      <td>83898416.0</td>\n",
              "      <td>561.155633</td>\n",
              "      <td>253467.507769</td>\n",
              "      <td>18472.377957</td>\n",
              "    </tr>\n",
              "  </tbody>\n",
              "</table>\n",
              "</div>"
            ],
            "text/plain": [
              "        location      continent  ...  tests_per_million  cases_per_million\n",
              "0        Bahrain           Asia  ...      657527.137965       30818.361490\n",
              "1  United States  North America  ...      253467.507769       18472.377957\n",
              "\n",
              "[2 rows x 14 columns]"
            ]
          },
          "metadata": {
            "tags": []
          },
          "execution_count": 89
        }
      ]
    },
    {
      "cell_type": "code",
      "metadata": {
        "id": "9in5dZFrjh_2",
        "colab_type": "code",
        "colab": {
          "base_uri": "https://localhost:8080/",
          "height": 35
        },
        "outputId": "60184c8f-86df-4a62-92f9-e71e164c1627"
      },
      "source": [
        "len(df_merge.location)"
      ],
      "execution_count": 90,
      "outputs": [
        {
          "output_type": "execute_result",
          "data": {
            "text/plain": [
              "2"
            ]
          },
          "metadata": {
            "tags": []
          },
          "execution_count": 90
        }
      ]
    },
    {
      "cell_type": "code",
      "metadata": {
        "id": "HfFjPx7kjh_5",
        "colab_type": "code",
        "colab": {
          "base_uri": "https://localhost:8080/",
          "height": 87
        },
        "outputId": "226f2515-f054-429e-f9e8-7557fe922f76"
      },
      "source": [
        "jovian.commit(project='pandas-practice-assignment', environment=None)"
      ],
      "execution_count": 91,
      "outputs": [
        {
          "output_type": "stream",
          "text": [
            "[jovian] Detected Colab notebook...\u001b[0m\n",
            "[jovian] Uploading colab notebook to Jovian...\u001b[0m\n",
            "[jovian] Committed successfully! https://jovian.ml/rahulgarg95/pandas-practice-assignment\u001b[0m\n"
          ],
          "name": "stdout"
        },
        {
          "output_type": "execute_result",
          "data": {
            "application/vnd.google.colaboratory.intrinsic+json": {
              "type": "string"
            },
            "text/plain": [
              "'https://jovian.ml/rahulgarg95/pandas-practice-assignment'"
            ]
          },
          "metadata": {
            "tags": []
          },
          "execution_count": 91
        }
      ]
    },
    {
      "cell_type": "markdown",
      "metadata": {
        "id": "hBenAUEAjh_7",
        "colab_type": "text"
      },
      "source": [
        "**(Optional) Q: Count number of countries that feature in both the lists \"20 countries with lowest GDP per capita\" and \"20 countries with the lowest number of hospital beds per thousand population\". Only consider countries with a population higher than 10 million while creating the list.**"
      ]
    },
    {
      "cell_type": "markdown",
      "metadata": {
        "id": "Mw4edwsJ6stT",
        "colab_type": "text"
      },
      "source": [
        ""
      ]
    },
    {
      "cell_type": "code",
      "metadata": {
        "id": "-WM_DjSRjh_7",
        "colab_type": "code",
        "colab": {}
      },
      "source": [
        "df_comb=combined_df[combined_df.population > 100000000]"
      ],
      "execution_count": 92,
      "outputs": []
    },
    {
      "cell_type": "code",
      "metadata": {
        "id": "9P2eHqbijh_-",
        "colab_type": "code",
        "colab": {}
      },
      "source": [
        "df_beds=df_comb.sort_values('hospital_beds_per_thousand').head(20)"
      ],
      "execution_count": 100,
      "outputs": []
    },
    {
      "cell_type": "code",
      "metadata": {
        "id": "1I7Rk9oNjiAA",
        "colab_type": "code",
        "colab": {}
      },
      "source": [
        "df_low_gdp=df_comb.sort_values('gdp_per_capita').head(20)"
      ],
      "execution_count": 101,
      "outputs": []
    },
    {
      "cell_type": "code",
      "metadata": {
        "id": "g9sVH3Xm6XBY",
        "colab_type": "code",
        "colab": {}
      },
      "source": [
        "df_join=pd.merge(df_beds,df_low_gdp[['location']],on='location')"
      ],
      "execution_count": 102,
      "outputs": []
    },
    {
      "cell_type": "code",
      "metadata": {
        "id": "cGEtuusm6hFZ",
        "colab_type": "code",
        "colab": {
          "base_uri": "https://localhost:8080/",
          "height": 35
        },
        "outputId": "15b6e5c5-dd27-438b-d30f-2f501323f268"
      },
      "source": [
        "df_join.location.count()"
      ],
      "execution_count": 104,
      "outputs": [
        {
          "output_type": "execute_result",
          "data": {
            "text/plain": [
              "14"
            ]
          },
          "metadata": {
            "tags": []
          },
          "execution_count": 104
        }
      ]
    },
    {
      "cell_type": "code",
      "metadata": {
        "id": "_AHIoHkfjiAD",
        "colab_type": "code",
        "colab": {}
      },
      "source": [
        "import jovian"
      ],
      "execution_count": 105,
      "outputs": []
    },
    {
      "cell_type": "code",
      "metadata": {
        "id": "jAGsO2D2jiAF",
        "colab_type": "code",
        "colab": {
          "base_uri": "https://localhost:8080/",
          "height": 87
        },
        "outputId": "52026032-3229-4135-c43a-0a2ed9eaac24"
      },
      "source": [
        "jovian.commit(project='pandas-practice-assignment', environment=None)"
      ],
      "execution_count": 106,
      "outputs": [
        {
          "output_type": "stream",
          "text": [
            "[jovian] Detected Colab notebook...\u001b[0m\n",
            "[jovian] Uploading colab notebook to Jovian...\u001b[0m\n",
            "[jovian] Committed successfully! https://jovian.ml/rahulgarg95/pandas-practice-assignment\u001b[0m\n"
          ],
          "name": "stdout"
        },
        {
          "output_type": "execute_result",
          "data": {
            "application/vnd.google.colaboratory.intrinsic+json": {
              "type": "string"
            },
            "text/plain": [
              "'https://jovian.ml/rahulgarg95/pandas-practice-assignment'"
            ]
          },
          "metadata": {
            "tags": []
          },
          "execution_count": 106
        }
      ]
    },
    {
      "cell_type": "markdown",
      "metadata": {
        "id": "1YpJTkOjjiAL",
        "colab_type": "text"
      },
      "source": [
        "## Submission \n",
        "\n",
        "Congratulations on making it this far! You've reached the end of this assignment, and you just completed your first real-world data analysis problem. It's time to record one final version of your notebook for submission.\n",
        "\n",
        "Make a submission here by filling the submission form: https://jovian.ml/learn/data-analysis-with-python-zero-to-pandas/assignment/assignment-3-pandas-practice\n",
        "\n",
        "Also make sure to help others on the forum: https://jovian.ml/forum/t/assignment-3-pandas-practice/11225/2"
      ]
    },
    {
      "cell_type": "code",
      "metadata": {
        "id": "0KyuTw2qjiAL",
        "colab_type": "code",
        "colab": {}
      },
      "source": [
        ""
      ],
      "execution_count": null,
      "outputs": []
    }
  ]
}